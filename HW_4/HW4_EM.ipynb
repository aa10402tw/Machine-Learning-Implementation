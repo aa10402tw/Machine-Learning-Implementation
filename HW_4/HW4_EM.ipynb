{
 "cells": [
  {
   "cell_type": "code",
   "execution_count": 1,
   "metadata": {},
   "outputs": [],
   "source": [
    "from numpy.linalg import inv\n",
    "import numpy as np\n",
    "import matplotlib.pyplot as plt\n",
    "import math\n",
    "from math import e\n",
    "from math import log\n",
    "from numpy import linalg\n",
    "import sys\n",
    "import sympy\n",
    "from sympy import *\n",
    "from IPython.display import display, HTML\n",
    "import random\n",
    "from math import log\n",
    "from math import exp\n",
    "\n",
    "%matplotlib inline\n",
    "%config IPCompleter.greedy=True\n",
    "sympy.init_printing(use_unicode=False, wrap_line=True)\n",
    "np.set_printoptions(suppress=True)\n",
    "\n",
    "from utils import *"
   ]
  },
  {
   "cell_type": "code",
   "execution_count": 2,
   "metadata": {},
   "outputs": [
    {
     "name": "stdout",
     "output_type": "stream",
     "text": [
      "Load Data... Finish!\n"
     ]
    }
   ],
   "source": [
    "# Load mnist data\n",
    "print('Load Data...', end=' ')\n",
    "imgs_train, labels_train = load_mnist(train=True)\n",
    "imgs_test, labels_test = load_mnist(train=False)\n",
    "\n",
    "# Change Image to Feature Vector\n",
    "X_train, Y_train = img_to_vector(imgs_train), labels_train\n",
    "X_test, Y_test = img_to_vector(imgs_test), labels_test\n",
    "\n",
    "print('Finish!')"
   ]
  },
  {
   "cell_type": "code",
   "execution_count": 3,
   "metadata": {},
   "outputs": [
    {
     "name": "stdout",
     "output_type": "stream",
     "text": [
      "(60000, 784)\n",
      "255.0\n"
     ]
    }
   ],
   "source": [
    "print(X_train.shape)\n",
    "print(max(X_train[0]))"
   ]
  },
  {
   "cell_type": "code",
   "execution_count": 4,
   "metadata": {},
   "outputs": [],
   "source": [
    "# E-Step : Compute the probabilities of cluster assignment (r_ik)\n",
    "# M-step : Update parameters mu, pi givn r \n",
    "\n",
    "# X = [[x_11...x_1d], ..., [x_n1...x_nd]] where x_ij = 0/1 (success/fail)\n",
    "# mu : [mu_1...mu_k] where mu_i is the vector of prob of success for cluster k , mu_i's shape = (1, D)\n",
    "# pi : [pi_1 ... pi_k] where pi_i is the prob to draw cluster k\n",
    "# r_iK : the prob(expectation) that Xi belong to cluster k\n",
    "# Zi : [z_i1, ..., z_ik] binary k=dim data(assign to cluster k)"
   ]
  },
  {
   "cell_type": "markdown",
   "metadata": {},
   "source": [
    "![title](formula.PNG)"
   ]
  },
  {
   "cell_type": "code",
   "execution_count": 5,
   "metadata": {},
   "outputs": [
    {
     "name": "stdout",
     "output_type": "stream",
     "text": [
      "255.0\n",
      "0.0\n"
     ]
    }
   ],
   "source": [
    "num_cluster = 10\n",
    "num_data_to_train = 60000\n",
    "K = num_cluster\n",
    "X = np.copy(X_train)[:num_data_to_train]\n",
    "Y = np.copy(Y_train)[:num_data_to_train]\n",
    "N, D = X.shape\n",
    "# init parameters mu & pi\n",
    "mu = np.random.random((K, D))\n",
    "pi = np.random.random((K, 1)) \n",
    "pi = pi / pi.sum()\n",
    "r = np.zeros((N,K))\n",
    "print(X.max())\n",
    "print(X.min())"
   ]
  },
  {
   "cell_type": "code",
   "execution_count": 6,
   "metadata": {},
   "outputs": [
    {
     "name": "stdout",
     "output_type": "stream",
     "text": [
      "1.0\n",
      "0.0\n"
     ]
    }
   ],
   "source": [
    "# 0~255 to 0 or 1\n",
    "X[X<128.0] = 0\n",
    "X[X>=128.0] = 1\n",
    "print(X.max())\n",
    "print(X.min())"
   ]
  },
  {
   "cell_type": "code",
   "execution_count": 7,
   "metadata": {},
   "outputs": [],
   "source": [
    "from numpy import prod\n",
    "from tqdm import tqdm_notebook as tqdm\n",
    "import time\n",
    "def L2distance(A,B):\n",
    "    A = A.reshape(prod(A.shape))\n",
    "    B = B.reshape(prod(B.shape))\n",
    "    dis = math.sqrt(np.dot(A-B, A-B))\n",
    "    return dis\n",
    "\n",
    "def EM(X, mu, pi, r, max_iter=100):\n",
    "    \n",
    "    N, D = X.shape\n",
    "    K, _ = mu.shape\n",
    "    \n",
    "    new_mu = np.copy(mu)\n",
    "    \n",
    "    \n",
    "    for it in range(max_iter):\n",
    "        # E-Step : Compute the probabilities of cluster assignment (r_ik)\n",
    "        pbar = tqdm(total=N, unit='instance') # for progress bar\n",
    "        pbar.set_description('E-Step(iteration %d)' % (it)) # for progress bar\n",
    "        for i in range(N):\n",
    "            for k in range(K):\n",
    "                r[i][k] = log(pi[k]) # Log scale\n",
    "                for d in range(D):\n",
    "                    xid = X[i][d]\n",
    "                    try:\n",
    "                        r[i][k] += log((mu[k][d]**xid) * ((1-mu[k][d])**(1-xid))+1e-7)\n",
    "                    except:\n",
    "                        print('domain error')\n",
    "                        print(mu[k][d], xid)\n",
    "                        print((mu[k][d]**xid) * ((1-mu[k][d])**(1-xid)))\n",
    "            r[i] -= r[i].max()\n",
    "            r[i] = np.exp(r[i]) # Exp, back to origin scale\n",
    "            r[i] = r[i] / r[i].sum() # normalize to 1 \n",
    "            \n",
    "            pbar.update() # for progress bar\n",
    "        Nk = r.sum(axis=0)  # prob to draw from k-th cluster\n",
    "        pi = Nk/Nk.sum()\n",
    "        pbar.close() # for progress bar\n",
    "        time.sleep(1) # for progress bar\n",
    "        # M-step : Update parameters mu, pi givn r \n",
    "        pbar = tqdm(total=K, unit='cluster') # for progress bar\n",
    "        pbar.set_description('M-Step(iteration %d)' % (it)) # for progress bar\n",
    "        for k in range(K):\n",
    "            mu_k = 0\n",
    "            for i in range(N):\n",
    "                mu_k += r[i][k] * X[i]\n",
    "            new_mu[k] = mu_k / Nk[k]\n",
    "            pbar.update() # for progress bar\n",
    "        diff = L2distance(new_mu, mu)\n",
    "        print('L2 Distance Between old & new mu : ', diff ) \n",
    "        mu = np.copy(new_mu)\n",
    "        if diff < 1:\n",
    "            print('converge after %d iteration'%(it))\n",
    "            break\n",
    "        pbar.close() # for progress bar\n",
    "        time.sleep(1) # for progress bar\n",
    "    return mu, pi, r\n",
    "\n",
    "def EM_inference(X, mu, pi):\n",
    "    N, D = X.shape\n",
    "    K, _ = mu.shape\n",
    "    y_pred = np.zeros((N,))\n",
    "    pbar = tqdm(total=N, unit='instance') # for progress bar\n",
    "    for i in range(N):\n",
    "        for k in range(K):\n",
    "            r[i][k] = log(pi[k]) # Log scale\n",
    "            for d in range(D):\n",
    "                xid = X[i][d]\n",
    "                try:\n",
    "                    r[i][k] += log((mu[k][d]**xid) * ((1-mu[k][d])**(1-xid))+1e-7)\n",
    "                except:\n",
    "                    print('domain error')\n",
    "                    print(mu[k][d], xid)\n",
    "                    print((mu[k][d]**xid) * ((1-mu[k][d])**(1-xid)))\n",
    "#         print(r[i])\n",
    "        y_pred[i] = np.argmax(r[i]) \n",
    "        pbar.update() # for progress bar\n",
    "    pbar.close() # for progress bar\n",
    "    time.sleep(1) # for progress bar\n",
    "    return y_pred"
   ]
  },
  {
   "cell_type": "code",
   "execution_count": null,
   "metadata": {},
   "outputs": [
    {
     "data": {
      "application/vnd.jupyter.widget-view+json": {
       "model_id": "f718d3ea48f5437c8d3786ced9c71328",
       "version_major": 2,
       "version_minor": 0
      },
      "text/plain": [
       "HBox(children=(IntProgress(value=0, max=60000), HTML(value='')))"
      ]
     },
     "metadata": {},
     "output_type": "display_data"
    }
   ],
   "source": [
    "mu, pi, r = EM(X, mu, pi, r)"
   ]
  },
  {
   "cell_type": "code",
   "execution_count": 23,
   "metadata": {},
   "outputs": [
    {
     "data": {
      "application/vnd.jupyter.widget-view+json": {
       "model_id": "3b655c4ee2a04f17b38d7e8f7c3d8f7c",
       "version_major": 2,
       "version_minor": 0
      },
      "text/plain": [
       "HBox(children=(IntProgress(value=0, max=60000), HTML(value='')))"
      ]
     },
     "metadata": {},
     "output_type": "display_data"
    }
   ],
   "source": [
    "y_pred = EM_inference(X, mu, pi)"
   ]
  },
  {
   "cell_type": "code",
   "execution_count": 37,
   "metadata": {},
   "outputs": [
    {
     "name": "stdout",
     "output_type": "stream",
     "text": [
      "y_real [5923, 6742, 5958, 6131, 5842, 5421, 5918, 6265, 5851, 5949]\n",
      "y_pred [9748, 8516, 7851, 7728, 2, 5648, 3696, 3430, 8329, 5052]\n",
      "\n",
      "Confusion Matrix(row:y_pred, col:y_true)\n",
      "[[   8    9   24   69 2229  247    2 4043  304 2813]\n",
      " [   6 6340  262  377  116  112  313  283  528  179]\n",
      " [ 695  310  184  773  280 2449  375  101 2577  107]\n",
      " [ 351   21  243 3590    4 1571   62    7 1783   96]\n",
      " [   0    0    0    0    0    0    0    0    2    0]\n",
      " [ 110   22  302   53  123   83 4917    6   28    4]\n",
      " [3523    0   39   18    7   37   41    6    9   16]\n",
      " [1210    1  139  750   51  671  154   15  380   59]\n",
      " [  13   16  179  220 2989  235   37 1763  208 2669]\n",
      " [   7   23 4586  281   43   16   17   41   32    6]]\n"
     ]
    }
   ],
   "source": [
    "from sklearn.metrics import confusion_matrix\n",
    "\n",
    "count_y = [np.count_nonzero(Y == i) for i in range(10)]\n",
    "count_y_pred = [np.count_nonzero(y_pred == i) for i in range(num_cluster)]\n",
    "print('y_real', count_y)\n",
    "print('y_pred', count_y_pred)\n",
    "print('\\nConfusion Matrix(row:y_pred, col:y_true)')\n",
    "print(confusion_matrix(y_pred, Y, labels=[i for i in range(10)]))"
   ]
  },
  {
   "cell_type": "code",
   "execution_count": 25,
   "metadata": {},
   "outputs": [
    {
     "name": "stdout",
     "output_type": "stream",
     "text": [
      "(60000, 10)\n",
      "(10, 784)\n"
     ]
    }
   ],
   "source": [
    "print(r.shape)\n",
    "print(mu.shape)"
   ]
  },
  {
   "cell_type": "code",
   "execution_count": 26,
   "metadata": {},
   "outputs": [],
   "source": [
    "# print(Nk)\n",
    "# print(Nk.sum())\n",
    "# print(Nk/Nk.sum())"
   ]
  },
  {
   "cell_type": "code",
   "execution_count": 27,
   "metadata": {},
   "outputs": [
    {
     "name": "stdout",
     "output_type": "stream",
     "text": [
      "1.0\n",
      "0.0\n"
     ]
    }
   ],
   "source": [
    "print(mu.max())\n",
    "print(mu.min())"
   ]
  },
  {
   "cell_type": "code",
   "execution_count": 28,
   "metadata": {},
   "outputs": [
    {
     "data": {
      "image/png": "[encoded data removed]",
      "text/plain": [
       "<Figure size 432x288 with 10 Axes>"
      ]
     },
     "metadata": {},
     "output_type": "display_data"
    }
   ],
   "source": [
    "for i in range(num_cluster):\n",
    "    plt.subplot(2,5,i+1)\n",
    "    p = mu[i].reshape((28,28))\n",
    "    plt.imshow(p, cmap='gray'), plt.xticks([]), plt.yticks([])\n",
    "plt.show()"
   ]
  },
  {
   "cell_type": "code",
   "execution_count": null,
   "metadata": {},
   "outputs": [],
   "source": []
  }
 ],
 "metadata": {
  "kernelspec": {
   "display_name": "Python 3",
   "language": "python",
   "name": "python3"
  },
  "language_info": {
   "codemirror_mode": {
    "name": "ipython",
    "version": 3
   },
   "file_extension": ".py",
   "mimetype": "text/x-python",
   "name": "python",
   "nbconvert_exporter": "python",
   "pygments_lexer": "ipython3",
   "version": "3.6.5"
  }
 },
 "nbformat": 4,
 "nbformat_minor": 2
}
