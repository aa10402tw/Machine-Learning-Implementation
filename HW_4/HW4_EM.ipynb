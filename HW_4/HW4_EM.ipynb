{
 "cells": [
  {
   "cell_type": "code",
   "execution_count": 1,
   "metadata": {},
   "outputs": [],
   "source": [
    "from numpy.linalg import inv\n",
    "import numpy as np\n",
    "import matplotlib.pyplot as plt\n",
    "import math\n",
    "from math import e\n",
    "from math import log\n",
    "from numpy import linalg\n",
    "import sys\n",
    "import sympy\n",
    "from sympy import *\n",
    "from IPython.display import display, HTML\n",
    "import random\n",
    "from math import log\n",
    "from math import exp\n",
    "\n",
    "%matplotlib inline\n",
    "%config IPCompleter.greedy=True\n",
    "sympy.init_printing(use_unicode=False, wrap_line=True)\n",
    "np.set_printoptions(suppress=True)\n",
    "\n",
    "from utils import *"
   ]
  },
  {
   "cell_type": "code",
   "execution_count": 2,
   "metadata": {},
   "outputs": [
    {
     "name": "stdout",
     "output_type": "stream",
     "text": [
      "Load Data... Finish!\n"
     ]
    }
   ],
   "source": [
    "# Load mnist data\n",
    "print('Load Data...', end=' ')\n",
    "imgs_train, labels_train = load_mnist(train=True)\n",
    "imgs_test, labels_test = load_mnist(train=False)\n",
    "\n",
    "# Change Image to Feature Vector\n",
    "X_train, Y_train = img_to_vector(imgs_train), labels_train\n",
    "X_test, Y_test = img_to_vector(imgs_test), labels_test\n",
    "\n",
    "print('Finish!')"
   ]
  },
  {
   "cell_type": "code",
   "execution_count": 3,
   "metadata": {},
   "outputs": [
    {
     "name": "stdout",
     "output_type": "stream",
     "text": [
      "(60000, 784)\n",
      "255.0\n"
     ]
    }
   ],
   "source": [
    "print(X_train.shape)\n",
    "print(max(X_train[0]))"
   ]
  },
  {
   "cell_type": "code",
   "execution_count": 4,
   "metadata": {},
   "outputs": [],
   "source": [
    "# E-Step : Compute the probabilities of cluster assignment (r_ik)\n",
    "# M-step : Update parameters mu, pi givn r \n",
    "\n",
    "# X = [[x_11...x_1d], ..., [x_n1...x_nd]] where x_ij = 0/1 (success/fail)\n",
    "# mu : [mu_1...mu_k] where mu_i is the vector of prob of success for cluster k , mu_i's shape = (1, D)\n",
    "# pi : [pi_1 ... pi_k] where pi_i is the prob to draw cluster k\n",
    "# r_iK : the prob(expectation) that Xi belong to cluster k\n",
    "# Zi : [z_i1, ..., z_ik] binary k=dim data(assign to cluster k)"
   ]
  },
  {
   "cell_type": "markdown",
   "metadata": {},
   "source": [
    "![title](formula.PNG)"
   ]
  },
  {
   "cell_type": "code",
   "execution_count": 5,
   "metadata": {},
   "outputs": [
    {
     "name": "stdout",
     "output_type": "stream",
     "text": [
      "255.0\n",
      "0.0\n"
     ]
    }
   ],
   "source": [
    "num_cluster = 10\n",
<<<<<<< HEAD
    "K = num_cluster\n",
    "X = np.copy(X_train)[:]\n",
    "Y = np.copy(Y_train)[:]\n",
=======
    "num_data_to_train = 60000\n",
    "K = num_cluster\n",
    "X = np.copy(X_train)[:num_data_to_train]\n",
    "Y = np.copy(Y_train)[:num_data_to_train]\n",
>>>>>>> 7d3acfb81e3049b404ab37118874607489051b98
    "N, D = X.shape\n",
    "# init parameters mu & pi\n",
    "mu = np.random.random((K, D))\n",
    "pi = np.random.random((K, 1)) \n",
    "pi = pi / pi.sum()\n",
    "r = np.zeros((N,K))\n",
    "print(X.max())\n",
    "print(X.min())"
   ]
  },
  {
   "cell_type": "code",
   "execution_count": 6,
   "metadata": {},
   "outputs": [
    {
     "name": "stdout",
     "output_type": "stream",
     "text": [
      "1.0\n",
      "0.0\n"
     ]
    }
   ],
   "source": [
    "# 0~255 to 0 or 1\n",
    "X[X<128.0] = 0\n",
    "X[X>=128.0] = 1\n",
    "print(X.max())\n",
    "print(X.min())"
   ]
  },
  {
   "cell_type": "code",
<<<<<<< HEAD
   "execution_count": 9,
=======
   "execution_count": 7,
>>>>>>> 7d3acfb81e3049b404ab37118874607489051b98
   "metadata": {},
   "outputs": [],
   "source": [
    "from numpy import prod\n",
    "from tqdm import tqdm_notebook as tqdm\n",
    "import time\n",
    "def L2distance(A,B):\n",
    "    A = A.reshape(prod(A.shape))\n",
    "    B = B.reshape(prod(B.shape))\n",
    "    dis = math.sqrt(np.dot(A-B, A-B))\n",
    "    return dis\n",
    "\n",
    "def EM(X, mu, pi, r, max_iter=100):\n",
    "    \n",
    "    N, D = X.shape\n",
    "    K, _ = mu.shape\n",
    "    \n",
    "    new_mu = np.copy(mu)\n",
    "    \n",
    "    \n",
    "    for it in range(max_iter):\n",
    "        # E-Step : Compute the probabilities of cluster assignment (r_ik)\n",
    "        pbar = tqdm(total=N, unit='instance') # for progress bar\n",
    "        pbar.set_description('E-Step(iteration %d)' % (it)) # for progress bar\n",
    "        for i in range(N):\n",
    "            for k in range(K):\n",
    "                r[i][k] = log(pi[k]) # Log scale\n",
    "                for d in range(D):\n",
    "                    xid = X[i][d]\n",
    "                    try:\n",
    "                        r[i][k] += log((mu[k][d]**xid) * ((1-mu[k][d])**(1-xid))+1e-7)\n",
    "                    except:\n",
    "                        print('domain error')\n",
    "                        print(mu[k][d], xid)\n",
    "                        print((mu[k][d]**xid) * ((1-mu[k][d])**(1-xid)))\n",
    "            r[i] -= r[i].max()\n",
    "            r[i] = np.exp(r[i]) # Exp, back to origin scale\n",
    "            r[i] = r[i] / r[i].sum() # normalize to 1 \n",
    "            \n",
    "            pbar.update() # for progress bar\n",
<<<<<<< HEAD
    "        Nk = r.sum(axis=0)  # prob to draw k-th cluster\n",
=======
    "        Nk = r.sum(axis=0)  # prob to draw from k-th cluster\n",
>>>>>>> 7d3acfb81e3049b404ab37118874607489051b98
    "        pi = Nk/Nk.sum()\n",
    "        pbar.close() # for progress bar\n",
    "        time.sleep(1) # for progress bar\n",
    "        # M-step : Update parameters mu, pi givn r \n",
    "        pbar = tqdm(total=K, unit='cluster') # for progress bar\n",
    "        pbar.set_description('M-Step(iteration %d)' % (it)) # for progress bar\n",
    "        for k in range(K):\n",
    "            mu_k = 0\n",
    "            for i in range(N):\n",
    "                mu_k += r[i][k] * X[i]\n",
    "            new_mu[k] = mu_k / Nk[k]\n",
    "            pbar.update() # for progress bar\n",
    "        diff = L2distance(new_mu, mu)\n",
    "        print('L2 Distance Between old & new mu : ', diff ) \n",
    "        mu = np.copy(new_mu)\n",
<<<<<<< HEAD
    "        if diff < 1e-5:\n",
=======
    "        if diff < 1:\n",
>>>>>>> 7d3acfb81e3049b404ab37118874607489051b98
    "            print('converge after %d iteration'%(it))\n",
    "            break\n",
    "        pbar.close() # for progress bar\n",
    "        time.sleep(1) # for progress bar\n",
    "    return mu, pi, r\n",
    "\n",
    "def EM_inference(X, mu, pi):\n",
    "    N, D = X.shape\n",
    "    K, _ = mu.shape\n",
    "    y_pred = np.zeros((N,))\n",
    "    pbar = tqdm(total=N, unit='instance') # for progress bar\n",
<<<<<<< HEAD
    "    pbar.set_description('E-Step(iteration %d)' % (it)) # for progress bar\n",
    "    for i in range(N):\n",
    "        \n",
=======
    "    for i in range(N):\n",
>>>>>>> 7d3acfb81e3049b404ab37118874607489051b98
    "        for k in range(K):\n",
    "            r[i][k] = log(pi[k]) # Log scale\n",
    "            for d in range(D):\n",
    "                xid = X[i][d]\n",
    "                try:\n",
    "                    r[i][k] += log((mu[k][d]**xid) * ((1-mu[k][d])**(1-xid))+1e-7)\n",
    "                except:\n",
    "                    print('domain error')\n",
    "                    print(mu[k][d], xid)\n",
    "                    print((mu[k][d]**xid) * ((1-mu[k][d])**(1-xid)))\n",
    "#         print(r[i])\n",
    "        y_pred[i] = np.argmax(r[i]) \n",
    "        pbar.update() # for progress bar\n",
    "    pbar.close() # for progress bar\n",
    "    time.sleep(1) # for progress bar\n",
    "    return y_pred"
   ]
  },
  {
   "cell_type": "code",
<<<<<<< HEAD
   "execution_count": 10,
   "metadata": {},
   "outputs": [
    {
     "data": {
      "application/vnd.jupyter.widget-view+json": {
       "model_id": "b5c446330dc9442bbfb864334f30be3d",
       "version_major": 2,
       "version_minor": 0
      },
      "text/plain": [
       "HBox(children=(IntProgress(value=0, max=60000), HTML(value='')))"
      ]
     },
     "metadata": {},
     "output_type": "display_data"
    },
    {
     "name": "stdout",
     "output_type": "stream",
     "text": [
      "\n"
     ]
    },
    {
     "data": {
      "application/vnd.jupyter.widget-view+json": {
       "model_id": "ce07c5db825f449a80390bb9f4642b76",
       "version_major": 2,
       "version_minor": 0
      },
      "text/plain": [
       "HBox(children=(IntProgress(value=0, max=10), HTML(value='')))"
      ]
     },
     "metadata": {},
     "output_type": "display_data"
    },
    {
     "name": "stdout",
     "output_type": "stream",
     "text": [
      "44.08816238557957\n",
      "\n"
     ]
    },
    {
     "data": {
      "application/vnd.jupyter.widget-view+json": {
       "model_id": "564875bf33ff478da1a924685c744d52",
       "version_major": 2,
       "version_minor": 0
      },
      "text/plain": [
       "HBox(children=(IntProgress(value=0, max=60000), HTML(value='')))"
      ]
     },
     "metadata": {},
     "output_type": "display_data"
    },
    {
     "name": "stdout",
     "output_type": "stream",
     "text": [
      "\n"
     ]
    },
    {
     "data": {
      "application/vnd.jupyter.widget-view+json": {
       "model_id": "842dd8c1fca342ef9250bdcdb18617f6",
       "version_major": 2,
       "version_minor": 0
      },
      "text/plain": [
       "HBox(children=(IntProgress(value=0, max=10), HTML(value='')))"
      ]
     },
     "metadata": {},
     "output_type": "display_data"
    },
    {
     "name": "stdout",
     "output_type": "stream",
     "text": [
      "7.6151550469241975\n",
      "\n"
     ]
    },
    {
     "data": {
      "application/vnd.jupyter.widget-view+json": {
       "model_id": "3152f5cfb8914b4cb5badd3d89f4afed",
       "version_major": 2,
       "version_minor": 0
      },
      "text/plain": [
       "HBox(children=(IntProgress(value=0, max=60000), HTML(value='')))"
      ]
     },
     "metadata": {},
     "output_type": "display_data"
    },
    {
     "name": "stdout",
     "output_type": "stream",
     "text": [
      "\n"
     ]
    },
    {
     "data": {
      "application/vnd.jupyter.widget-view+json": {
       "model_id": "cee71168cfdb4cd3b7d07adc62f105f1",
       "version_major": 2,
       "version_minor": 0
      },
      "text/plain": [
       "HBox(children=(IntProgress(value=0, max=10), HTML(value='')))"
      ]
     },
     "metadata": {},
     "output_type": "display_data"
    },
    {
     "name": "stdout",
     "output_type": "stream",
     "text": [
      "4.834874767562426\n",
      "\n"
     ]
    },
    {
     "data": {
      "application/vnd.jupyter.widget-view+json": {
       "model_id": "2c2b0719bb684a8caa8ad5dc5798703f",
       "version_major": 2,
       "version_minor": 0
      },
      "text/plain": [
       "HBox(children=(IntProgress(value=0, max=60000), HTML(value='')))"
      ]
     },
     "metadata": {},
     "output_type": "display_data"
    },
    {
     "name": "stdout",
     "output_type": "stream",
     "text": [
      "\n"
     ]
    },
    {
     "data": {
      "application/vnd.jupyter.widget-view+json": {
       "model_id": "633471fe6f834302a7168b0814e7bee6",
       "version_major": 2,
       "version_minor": 0
      },
      "text/plain": [
       "HBox(children=(IntProgress(value=0, max=10), HTML(value='')))"
      ]
     },
     "metadata": {},
     "output_type": "display_data"
    },
    {
     "name": "stdout",
     "output_type": "stream",
     "text": [
      "3.4503743493086545\n",
      "\n"
     ]
    },
    {
     "data": {
      "application/vnd.jupyter.widget-view+json": {
       "model_id": "130f1cd5739c4e4f8a00549cf143474b",
       "version_major": 2,
       "version_minor": 0
      },
      "text/plain": [
       "HBox(children=(IntProgress(value=0, max=60000), HTML(value='')))"
      ]
     },
     "metadata": {},
     "output_type": "display_data"
    },
    {
     "name": "stdout",
     "output_type": "stream",
     "text": [
      "\n"
     ]
    },
    {
     "data": {
      "application/vnd.jupyter.widget-view+json": {
       "model_id": "540c30d98ae648ed9ed730cb3f6982de",
       "version_major": 2,
       "version_minor": 0
      },
      "text/plain": [
       "HBox(children=(IntProgress(value=0, max=10), HTML(value='')))"
      ]
     },
     "metadata": {},
     "output_type": "display_data"
    },
    {
     "name": "stdout",
     "output_type": "stream",
     "text": [
      "2.06743373221047\n",
      "\n"
     ]
    },
    {
     "data": {
      "application/vnd.jupyter.widget-view+json": {
       "model_id": "291d4b51da9e43f295ea6868fe2c8da1",
       "version_major": 2,
       "version_minor": 0
      },
      "text/plain": [
       "HBox(children=(IntProgress(value=0, max=60000), HTML(value='')))"
      ]
     },
     "metadata": {},
     "output_type": "display_data"
    },
    {
     "name": "stdout",
     "output_type": "stream",
     "text": [
      "\n"
     ]
    },
    {
     "data": {
      "application/vnd.jupyter.widget-view+json": {
       "model_id": "f2ad84e133be4e06a10189a0e97c9ffb",
       "version_major": 2,
       "version_minor": 0
      },
      "text/plain": [
       "HBox(children=(IntProgress(value=0, max=10), HTML(value='')))"
      ]
     },
     "metadata": {},
     "output_type": "display_data"
    },
    {
     "name": "stdout",
     "output_type": "stream",
     "text": [
      "1.3929488558055187\n",
      "\n"
     ]
    },
    {
     "data": {
      "application/vnd.jupyter.widget-view+json": {
       "model_id": "671806b1199f421e84a40a55fa8019b9",
       "version_major": 2,
       "version_minor": 0
      },
      "text/plain": [
       "HBox(children=(IntProgress(value=0, max=60000), HTML(value='')))"
      ]
     },
     "metadata": {},
     "output_type": "display_data"
    },
    {
     "name": "stdout",
     "output_type": "stream",
     "text": [
      "\n"
     ]
    },
    {
     "data": {
      "application/vnd.jupyter.widget-view+json": {
       "model_id": "e58245df62bc4e7ebaae8f8ba4bae0ca",
       "version_major": 2,
       "version_minor": 0
      },
      "text/plain": [
       "HBox(children=(IntProgress(value=0, max=10), HTML(value='')))"
      ]
     },
     "metadata": {},
     "output_type": "display_data"
    },
    {
     "name": "stdout",
     "output_type": "stream",
     "text": [
      "1.0004792232979052\n",
      "\n"
     ]
    },
    {
     "data": {
      "application/vnd.jupyter.widget-view+json": {
       "model_id": "2fc2600793cb453ca5a0cd92f054f223",
       "version_major": 2,
       "version_minor": 0
      },
      "text/plain": [
       "HBox(children=(IntProgress(value=0, max=60000), HTML(value='')))"
      ]
     },
     "metadata": {},
     "output_type": "display_data"
    },
    {
     "name": "stdout",
     "output_type": "stream",
     "text": [
      "\n"
     ]
    },
    {
     "data": {
      "application/vnd.jupyter.widget-view+json": {
       "model_id": "4c4edf9328154258aa4b705652cab201",
       "version_major": 2,
       "version_minor": 0
      },
      "text/plain": [
       "HBox(children=(IntProgress(value=0, max=10), HTML(value='')))"
      ]
     },
     "metadata": {},
     "output_type": "display_data"
    },
    {
     "name": "stdout",
     "output_type": "stream",
     "text": [
      "0.7793532219280064\n",
      "\n"
     ]
    },
    {
     "data": {
      "application/vnd.jupyter.widget-view+json": {
       "model_id": "9ec2e90b01604e49a14732544835c43b",
       "version_major": 2,
       "version_minor": 0
      },
      "text/plain": [
       "HBox(children=(IntProgress(value=0, max=60000), HTML(value='')))"
      ]
     },
     "metadata": {},
     "output_type": "display_data"
    },
    {
     "name": "stdout",
     "output_type": "stream",
     "text": [
      "\n"
     ]
    },
    {
     "data": {
      "application/vnd.jupyter.widget-view+json": {
       "model_id": "601856fa4aad4676afbebb1d8eab0694",
       "version_major": 2,
       "version_minor": 0
      },
      "text/plain": [
       "HBox(children=(IntProgress(value=0, max=10), HTML(value='')))"
      ]
     },
     "metadata": {},
     "output_type": "display_data"
    },
    {
     "name": "stdout",
     "output_type": "stream",
     "text": [
      "0.6760161484226596\n",
      "\n"
     ]
    },
    {
     "data": {
      "application/vnd.jupyter.widget-view+json": {
       "model_id": "3cb7298e6b7a48e59286147a072eabf8",
       "version_major": 2,
       "version_minor": 0
      },
      "text/plain": [
       "HBox(children=(IntProgress(value=0, max=60000), HTML(value='')))"
      ]
     },
     "metadata": {},
     "output_type": "display_data"
    },
    {
     "name": "stdout",
     "output_type": "stream",
     "text": [
      "\n"
     ]
    },
    {
     "data": {
      "application/vnd.jupyter.widget-view+json": {
       "model_id": "266613ce0ebe47ada1829a513285df3a",
       "version_major": 2,
       "version_minor": 0
      },
      "text/plain": [
       "HBox(children=(IntProgress(value=0, max=10), HTML(value='')))"
      ]
     },
     "metadata": {},
     "output_type": "display_data"
    },
    {
     "name": "stdout",
     "output_type": "stream",
     "text": [
      "0.6365821725327467\n",
      "\n"
     ]
    },
    {
     "data": {
      "application/vnd.jupyter.widget-view+json": {
       "model_id": "61f8d28b3d124a0999d70e4724df1551",
       "version_major": 2,
       "version_minor": 0
      },
      "text/plain": [
       "HBox(children=(IntProgress(value=0, max=60000), HTML(value='')))"
      ]
     },
     "metadata": {},
     "output_type": "display_data"
    },
    {
     "name": "stdout",
     "output_type": "stream",
     "text": [
      "\n"
     ]
    },
    {
     "data": {
      "application/vnd.jupyter.widget-view+json": {
       "model_id": "e4967494b2e3424db7e208aae6da7383",
       "version_major": 2,
       "version_minor": 0
      },
      "text/plain": [
       "HBox(children=(IntProgress(value=0, max=10), HTML(value='')))"
      ]
     },
     "metadata": {},
     "output_type": "display_data"
    },
    {
     "name": "stdout",
     "output_type": "stream",
     "text": [
      "0.6214602614789104\n",
      "\n"
     ]
    },
    {
     "data": {
      "application/vnd.jupyter.widget-view+json": {
       "model_id": "192a44589c7b412b930aa62c8a84449d",
       "version_major": 2,
       "version_minor": 0
      },
      "text/plain": [
       "HBox(children=(IntProgress(value=0, max=60000), HTML(value='')))"
      ]
     },
     "metadata": {},
     "output_type": "display_data"
    },
    {
     "name": "stdout",
     "output_type": "stream",
     "text": [
      "\n"
     ]
    },
    {
     "data": {
      "application/vnd.jupyter.widget-view+json": {
       "model_id": "1e3867adaf914a2cb28ee3740ed55b04",
       "version_major": 2,
       "version_minor": 0
      },
      "text/plain": [
       "HBox(children=(IntProgress(value=0, max=10), HTML(value='')))"
      ]
     },
     "metadata": {},
     "output_type": "display_data"
    },
    {
     "name": "stdout",
     "output_type": "stream",
     "text": [
      "0.6341445852757264\n",
      "\n"
     ]
    },
    {
     "data": {
      "application/vnd.jupyter.widget-view+json": {
       "model_id": "ef461b34f53943b8bac5645ee5fa50c7",
       "version_major": 2,
       "version_minor": 0
      },
      "text/plain": [
       "HBox(children=(IntProgress(value=0, max=60000), HTML(value='')))"
      ]
     },
     "metadata": {},
     "output_type": "display_data"
    },
    {
     "name": "stdout",
     "output_type": "stream",
     "text": [
      "\n"
     ]
    },
    {
     "data": {
      "application/vnd.jupyter.widget-view+json": {
       "model_id": "36803dddd2be4ac4825d73a9025c8669",
       "version_major": 2,
       "version_minor": 0
      },
      "text/plain": [
       "HBox(children=(IntProgress(value=0, max=10), HTML(value='')))"
      ]
     },
     "metadata": {},
     "output_type": "display_data"
    },
    {
     "name": "stdout",
     "output_type": "stream",
     "text": [
      "0.6545410978833524\n",
      "\n"
     ]
    },
    {
     "data": {
      "application/vnd.jupyter.widget-view+json": {
       "model_id": "2dbb445a5b214679890f4e2cafb42a0a",
       "version_major": 2,
       "version_minor": 0
      },
      "text/plain": [
       "HBox(children=(IntProgress(value=0, max=60000), HTML(value='')))"
      ]
     },
     "metadata": {},
     "output_type": "display_data"
    },
    {
     "name": "stdout",
     "output_type": "stream",
     "text": [
      "\n"
     ]
    },
    {
     "data": {
      "application/vnd.jupyter.widget-view+json": {
       "model_id": "0a2eca93c3b74891b5ea405cfd1ef08c",
       "version_major": 2,
       "version_minor": 0
      },
      "text/plain": [
       "HBox(children=(IntProgress(value=0, max=10), HTML(value='')))"
      ]
     },
     "metadata": {},
     "output_type": "display_data"
    },
    {
     "name": "stdout",
     "output_type": "stream",
     "text": [
      "0.6493978857886389\n",
      "\n"
     ]
    },
    {
     "data": {
      "application/vnd.jupyter.widget-view+json": {
       "model_id": "42ef84ce48ea4b1a90d63c5e40ccd4fc",
       "version_major": 2,
       "version_minor": 0
      },
      "text/plain": [
       "HBox(children=(IntProgress(value=0, max=60000), HTML(value='')))"
      ]
     },
     "metadata": {},
     "output_type": "display_data"
    },
    {
     "name": "stdout",
     "output_type": "stream",
     "text": [
      "\n"
     ]
    },
    {
     "data": {
      "application/vnd.jupyter.widget-view+json": {
       "model_id": "80a2caed764d44fab9d9e78f56ee2767",
       "version_major": 2,
       "version_minor": 0
      },
      "text/plain": [
       "HBox(children=(IntProgress(value=0, max=10), HTML(value='')))"
      ]
     },
     "metadata": {},
     "output_type": "display_data"
    },
    {
     "name": "stdout",
     "output_type": "stream",
     "text": [
      "0.5858376339875957\n",
      "\n"
     ]
    },
    {
     "data": {
      "application/vnd.jupyter.widget-view+json": {
       "model_id": "d2f1c5381b1f4baeac7366950691b72b",
       "version_major": 2,
       "version_minor": 0
      },
      "text/plain": [
       "HBox(children=(IntProgress(value=0, max=60000), HTML(value='')))"
      ]
     },
     "metadata": {},
     "output_type": "display_data"
    },
    {
     "name": "stdout",
     "output_type": "stream",
     "text": [
      "\n"
     ]
    },
    {
     "data": {
      "application/vnd.jupyter.widget-view+json": {
       "model_id": "0ed0a18e63fc4648ad05ae24edd34730",
       "version_major": 2,
       "version_minor": 0
      },
      "text/plain": [
       "HBox(children=(IntProgress(value=0, max=10), HTML(value='')))"
      ]
     },
     "metadata": {},
     "output_type": "display_data"
    },
    {
     "name": "stdout",
     "output_type": "stream",
     "text": [
      "0.5558621260803037\n",
      "\n"
     ]
    },
    {
     "data": {
      "application/vnd.jupyter.widget-view+json": {
       "model_id": "1168117d5cdd4124896f49a57fee58da",
       "version_major": 2,
       "version_minor": 0
      },
      "text/plain": [
       "HBox(children=(IntProgress(value=0, max=60000), HTML(value='')))"
      ]
     },
     "metadata": {},
     "output_type": "display_data"
    },
    {
     "name": "stdout",
     "output_type": "stream",
     "text": [
      "\n"
     ]
    },
    {
     "data": {
      "application/vnd.jupyter.widget-view+json": {
       "model_id": "31c2352c02774816a271d119cf23eaa4",
       "version_major": 2,
       "version_minor": 0
      },
      "text/plain": [
       "HBox(children=(IntProgress(value=0, max=10), HTML(value='')))"
      ]
     },
     "metadata": {},
     "output_type": "display_data"
    },
    {
     "name": "stdout",
     "output_type": "stream",
     "text": [
      "0.4984871766993327\n",
      "\n"
     ]
    },
    {
     "data": {
      "application/vnd.jupyter.widget-view+json": {
       "model_id": "c0fd6ec224d2471d84a8cb87eb437c37",
       "version_major": 2,
       "version_minor": 0
      },
      "text/plain": [
       "HBox(children=(IntProgress(value=0, max=60000), HTML(value='')))"
      ]
     },
     "metadata": {},
     "output_type": "display_data"
    },
    {
     "name": "stdout",
     "output_type": "stream",
     "text": [
      "\n"
     ]
    },
    {
     "data": {
      "application/vnd.jupyter.widget-view+json": {
       "model_id": "75d965dc39fa4876abc016d694000c2b",
       "version_major": 2,
       "version_minor": 0
      },
      "text/plain": [
       "HBox(children=(IntProgress(value=0, max=10), HTML(value='')))"
      ]
     },
     "metadata": {},
     "output_type": "display_data"
    },
    {
     "name": "stdout",
     "output_type": "stream",
     "text": [
      "0.45486057804739155\n",
      "\n"
     ]
    },
    {
     "data": {
      "application/vnd.jupyter.widget-view+json": {
       "model_id": "9caefc52a3bc4044ae049ad27761a22d",
       "version_major": 2,
       "version_minor": 0
      },
      "text/plain": [
       "HBox(children=(IntProgress(value=0, max=60000), HTML(value='')))"
      ]
     },
     "metadata": {},
     "output_type": "display_data"
    },
    {
     "name": "stdout",
     "output_type": "stream",
     "text": [
      "\n"
     ]
    },
    {
     "data": {
      "application/vnd.jupyter.widget-view+json": {
       "model_id": "7863221e9c2b4e2c91cccd6f12345891",
       "version_major": 2,
       "version_minor": 0
      },
      "text/plain": [
       "HBox(children=(IntProgress(value=0, max=10), HTML(value='')))"
      ]
     },
     "metadata": {},
     "output_type": "display_data"
    },
    {
     "name": "stdout",
     "output_type": "stream",
     "text": [
      "0.4096975429245441\n",
      "\n"
     ]
    },
    {
     "data": {
      "application/vnd.jupyter.widget-view+json": {
       "model_id": "ef59fddd05404b5983553daeb7623404",
       "version_major": 2,
       "version_minor": 0
      },
      "text/plain": [
       "HBox(children=(IntProgress(value=0, max=60000), HTML(value='')))"
      ]
     },
     "metadata": {},
     "output_type": "display_data"
    },
    {
     "name": "stdout",
     "output_type": "stream",
     "text": [
      "\n"
     ]
    },
    {
     "data": {
      "application/vnd.jupyter.widget-view+json": {
       "model_id": "d1f68ec3c22847388d612f2b7088ee6e",
       "version_major": 2,
       "version_minor": 0
      },
      "text/plain": [
       "HBox(children=(IntProgress(value=0, max=10), HTML(value='')))"
      ]
     },
     "metadata": {},
     "output_type": "display_data"
    },
    {
     "name": "stdout",
     "output_type": "stream",
     "text": [
      "0.3696663301180982\n",
      "\n"
     ]
    },
    {
     "data": {
      "application/vnd.jupyter.widget-view+json": {
       "model_id": "84be9402903e44b8a4359a605f73bc89",
       "version_major": 2,
       "version_minor": 0
      },
      "text/plain": [
       "HBox(children=(IntProgress(value=0, max=60000), HTML(value='')))"
      ]
     },
     "metadata": {},
     "output_type": "display_data"
    },
    {
     "name": "stdout",
     "output_type": "stream",
     "text": [
      "\n"
     ]
    },
    {
     "data": {
      "application/vnd.jupyter.widget-view+json": {
       "model_id": "3f7064eecbee4ab591d15144eeee5c1c",
       "version_major": 2,
       "version_minor": 0
      },
      "text/plain": [
       "HBox(children=(IntProgress(value=0, max=10), HTML(value='')))"
      ]
     },
     "metadata": {},
     "output_type": "display_data"
    },
    {
     "name": "stdout",
     "output_type": "stream",
     "text": [
      "0.34151522043795035\n",
      "\n"
     ]
    },
    {
     "data": {
      "application/vnd.jupyter.widget-view+json": {
       "model_id": "4603a6a732e4439cb1b020ec53795466",
       "version_major": 2,
       "version_minor": 0
      },
      "text/plain": [
       "HBox(children=(IntProgress(value=0, max=60000), HTML(value='')))"
      ]
     },
     "metadata": {},
     "output_type": "display_data"
    },
    {
     "name": "stdout",
     "output_type": "stream",
     "text": [
      "\n"
     ]
    },
    {
     "data": {
      "application/vnd.jupyter.widget-view+json": {
       "model_id": "8552ca361878489c8f418821313c3132",
       "version_major": 2,
       "version_minor": 0
      },
      "text/plain": [
       "HBox(children=(IntProgress(value=0, max=10), HTML(value='')))"
      ]
     },
     "metadata": {},
     "output_type": "display_data"
    },
    {
     "name": "stdout",
     "output_type": "stream",
     "text": [
      "0.3191563507757973\n",
      "\n"
     ]
    },
    {
     "data": {
      "application/vnd.jupyter.widget-view+json": {
       "model_id": "6f61e8c407514d578a41d88de52caaa9",
       "version_major": 2,
       "version_minor": 0
      },
      "text/plain": [
       "HBox(children=(IntProgress(value=0, max=60000), HTML(value='')))"
      ]
     },
     "metadata": {},
     "output_type": "display_data"
    },
    {
     "name": "stdout",
     "output_type": "stream",
     "text": [
      "\n"
     ]
    },
    {
     "data": {
      "application/vnd.jupyter.widget-view+json": {
       "model_id": "574eb6c0bda84723bddb82bb951054f2",
       "version_major": 2,
       "version_minor": 0
      },
      "text/plain": [
       "HBox(children=(IntProgress(value=0, max=10), HTML(value='')))"
      ]
     },
     "metadata": {},
     "output_type": "display_data"
    },
    {
     "name": "stdout",
     "output_type": "stream",
     "text": [
      "0.29614530910124487\n",
      "\n"
     ]
    },
    {
     "data": {
      "application/vnd.jupyter.widget-view+json": {
       "model_id": "591348b124a44647ada5e61fc4e0a84a",
       "version_major": 2,
       "version_minor": 0
      },
      "text/plain": [
       "HBox(children=(IntProgress(value=0, max=60000), HTML(value='')))"
      ]
     },
     "metadata": {},
     "output_type": "display_data"
    },
    {
     "name": "stdout",
     "output_type": "stream",
     "text": [
      "\n"
     ]
    },
    {
     "data": {
      "application/vnd.jupyter.widget-view+json": {
       "model_id": "48048384bfbf46d68110060426b79f60",
       "version_major": 2,
       "version_minor": 0
      },
      "text/plain": [
       "HBox(children=(IntProgress(value=0, max=10), HTML(value='')))"
      ]
     },
     "metadata": {},
     "output_type": "display_data"
    },
    {
     "name": "stdout",
     "output_type": "stream",
     "text": [
      "0.2875507371270962\n",
      "\n"
     ]
    },
    {
     "data": {
      "application/vnd.jupyter.widget-view+json": {
       "model_id": "1f2667248e2344a1a8405ff331db84e5",
       "version_major": 2,
       "version_minor": 0
      },
      "text/plain": [
       "HBox(children=(IntProgress(value=0, max=60000), HTML(value='')))"
      ]
     },
     "metadata": {},
     "output_type": "display_data"
    },
    {
     "name": "stdout",
     "output_type": "stream",
     "text": [
      "\n"
     ]
    },
    {
     "data": {
      "application/vnd.jupyter.widget-view+json": {
       "model_id": "23dc1240526d43bfa578af9b66af30f3",
       "version_major": 2,
       "version_minor": 0
      },
      "text/plain": [
       "HBox(children=(IntProgress(value=0, max=10), HTML(value='')))"
      ]
     },
     "metadata": {},
     "output_type": "display_data"
    },
    {
     "name": "stdout",
     "output_type": "stream",
     "text": [
      "0.2735214331564815\n",
      "\n"
     ]
    },
    {
     "data": {
      "application/vnd.jupyter.widget-view+json": {
       "model_id": "1539d819853e46d5a079e72245b23e26",
       "version_major": 2,
       "version_minor": 0
      },
      "text/plain": [
       "HBox(children=(IntProgress(value=0, max=60000), HTML(value='')))"
      ]
     },
     "metadata": {},
     "output_type": "display_data"
    },
    {
     "name": "stdout",
     "output_type": "stream",
     "text": [
      "\n"
     ]
    },
    {
     "data": {
      "application/vnd.jupyter.widget-view+json": {
       "model_id": "3a999728c64f4adda2dbe280746e8db8",
       "version_major": 2,
       "version_minor": 0
      },
      "text/plain": [
       "HBox(children=(IntProgress(value=0, max=10), HTML(value='')))"
      ]
     },
     "metadata": {},
     "output_type": "display_data"
    },
    {
     "name": "stdout",
     "output_type": "stream",
     "text": [
      "0.2560462282936223\n",
      "\n"
     ]
    },
    {
     "data": {
      "application/vnd.jupyter.widget-view+json": {
       "model_id": "101676c098d848a98c0ee38ef3bfb835",
       "version_major": 2,
       "version_minor": 0
      },
      "text/plain": [
       "HBox(children=(IntProgress(value=0, max=60000), HTML(value='')))"
      ]
     },
     "metadata": {},
     "output_type": "display_data"
    },
    {
     "name": "stdout",
     "output_type": "stream",
     "text": [
      "\n"
     ]
    },
    {
     "data": {
      "application/vnd.jupyter.widget-view+json": {
       "model_id": "db3f522617f64b56a437472659d0d7cc",
       "version_major": 2,
       "version_minor": 0
      },
      "text/plain": [
       "HBox(children=(IntProgress(value=0, max=10), HTML(value='')))"
      ]
     },
     "metadata": {},
     "output_type": "display_data"
    },
    {
     "name": "stdout",
     "output_type": "stream",
     "text": [
      "0.24891406313743483\n",
      "\n"
     ]
    },
    {
     "data": {
      "application/vnd.jupyter.widget-view+json": {
       "model_id": "ad2bc8ffcb534126b8bacd747bcc905f",
       "version_major": 2,
       "version_minor": 0
      },
      "text/plain": [
       "HBox(children=(IntProgress(value=0, max=60000), HTML(value='')))"
      ]
     },
     "metadata": {},
     "output_type": "display_data"
    },
    {
     "name": "stdout",
     "output_type": "stream",
     "text": [
      "\n"
     ]
    },
    {
     "data": {
      "application/vnd.jupyter.widget-view+json": {
       "model_id": "3b0703b28d38452dba749e9dad007f54",
       "version_major": 2,
       "version_minor": 0
      },
      "text/plain": [
       "HBox(children=(IntProgress(value=0, max=10), HTML(value='')))"
      ]
     },
     "metadata": {},
     "output_type": "display_data"
    },
    {
     "name": "stdout",
     "output_type": "stream",
     "text": [
      "0.2742699411035644\n",
      "\n"
     ]
    },
    {
     "data": {
      "application/vnd.jupyter.widget-view+json": {
       "model_id": "897ffeadda4b49aabd26b2a34efd7d97",
       "version_major": 2,
       "version_minor": 0
      },
      "text/plain": [
       "HBox(children=(IntProgress(value=0, max=60000), HTML(value='')))"
      ]
     },
     "metadata": {},
     "output_type": "display_data"
    },
    {
     "name": "stdout",
     "output_type": "stream",
     "text": [
      "\n"
     ]
    },
    {
     "data": {
      "application/vnd.jupyter.widget-view+json": {
       "model_id": "63b35b98ccef40e29326aebff2021368",
       "version_major": 2,
       "version_minor": 0
      },
      "text/plain": [
       "HBox(children=(IntProgress(value=0, max=10), HTML(value='')))"
      ]
     },
     "metadata": {},
     "output_type": "display_data"
    },
    {
     "name": "stdout",
     "output_type": "stream",
     "text": [
      "0.27986041462286637\n",
      "\n"
     ]
    },
    {
     "data": {
      "application/vnd.jupyter.widget-view+json": {
       "model_id": "f80fe247bc26456794956ec380be408f",
       "version_major": 2,
       "version_minor": 0
      },
      "text/plain": [
       "HBox(children=(IntProgress(value=0, max=60000), HTML(value='')))"
      ]
     },
     "metadata": {},
     "output_type": "display_data"
    },
    {
     "name": "stdout",
     "output_type": "stream",
     "text": [
      "\n"
     ]
    },
    {
     "data": {
      "application/vnd.jupyter.widget-view+json": {
       "model_id": "7264b1fb3a9f4306bbd6382d0ded5542",
       "version_major": 2,
       "version_minor": 0
      },
      "text/plain": [
       "HBox(children=(IntProgress(value=0, max=10), HTML(value='')))"
      ]
     },
     "metadata": {},
     "output_type": "display_data"
    },
    {
     "name": "stdout",
     "output_type": "stream",
     "text": [
      "0.28943261233363005\n",
      "\n"
     ]
    },
    {
     "data": {
      "application/vnd.jupyter.widget-view+json": {
       "model_id": "d60c3fd63f674865a8c0750845e3a96d",
       "version_major": 2,
       "version_minor": 0
      },
      "text/plain": [
       "HBox(children=(IntProgress(value=0, max=60000), HTML(value='')))"
      ]
     },
     "metadata": {},
     "output_type": "display_data"
    },
    {
     "name": "stdout",
     "output_type": "stream",
     "text": [
      "\n"
     ]
    },
    {
     "data": {
      "application/vnd.jupyter.widget-view+json": {
       "model_id": "021472a508144c13af86970b16489c17",
       "version_major": 2,
       "version_minor": 0
      },
      "text/plain": [
       "HBox(children=(IntProgress(value=0, max=10), HTML(value='')))"
      ]
     },
     "metadata": {},
     "output_type": "display_data"
    },
    {
     "name": "stdout",
     "output_type": "stream",
     "text": [
      "0.30591676138750545\n",
      "\n"
     ]
    },
    {
     "data": {
      "application/vnd.jupyter.widget-view+json": {
       "model_id": "18a4326d29aa4bc389abb539f8c249f5",
       "version_major": 2,
       "version_minor": 0
      },
      "text/plain": [
       "HBox(children=(IntProgress(value=0, max=60000), HTML(value='')))"
      ]
     },
     "metadata": {},
     "output_type": "display_data"
    },
    {
     "name": "stdout",
     "output_type": "stream",
     "text": [
      "\n"
     ]
    },
    {
     "data": {
      "application/vnd.jupyter.widget-view+json": {
       "model_id": "f55914a524664e30999441b3a3d7673d",
       "version_major": 2,
       "version_minor": 0
      },
      "text/plain": [
       "HBox(children=(IntProgress(value=0, max=10), HTML(value='')))"
      ]
     },
     "metadata": {},
     "output_type": "display_data"
    },
    {
     "name": "stdout",
     "output_type": "stream",
     "text": [
      "0.31665749206774146\n",
      "\n"
     ]
    },
    {
     "data": {
      "application/vnd.jupyter.widget-view+json": {
       "model_id": "203814b51f3a461b84eb192bedfaf2ba",
       "version_major": 2,
       "version_minor": 0
      },
      "text/plain": [
       "HBox(children=(IntProgress(value=0, max=60000), HTML(value='')))"
      ]
     },
     "metadata": {},
     "output_type": "display_data"
    },
    {
     "name": "stdout",
     "output_type": "stream",
     "text": [
      "\n"
     ]
    },
    {
     "data": {
      "application/vnd.jupyter.widget-view+json": {
       "model_id": "6e9e7bd212e548c2b4b545d03b47a033",
       "version_major": 2,
       "version_minor": 0
      },
      "text/plain": [
       "HBox(children=(IntProgress(value=0, max=10), HTML(value='')))"
      ]
     },
     "metadata": {},
     "output_type": "display_data"
    },
    {
     "name": "stdout",
     "output_type": "stream",
     "text": [
      "0.32301524418176264\n",
      "\n"
     ]
    },
    {
     "data": {
      "application/vnd.jupyter.widget-view+json": {
       "model_id": "c884690d4686490c8ea92b6d5035ccc7",
       "version_major": 2,
       "version_minor": 0
      },
      "text/plain": [
       "HBox(children=(IntProgress(value=0, max=60000), HTML(value='')))"
      ]
     },
     "metadata": {},
     "output_type": "display_data"
    },
    {
     "name": "stdout",
     "output_type": "stream",
     "text": [
      "\n"
     ]
    },
    {
     "data": {
      "application/vnd.jupyter.widget-view+json": {
       "model_id": "3f39d877dee548b3a400fb392d78df83",
       "version_major": 2,
       "version_minor": 0
      },
      "text/plain": [
       "HBox(children=(IntProgress(value=0, max=10), HTML(value='')))"
      ]
     },
     "metadata": {},
     "output_type": "display_data"
    },
    {
     "name": "stdout",
     "output_type": "stream",
     "text": [
      "0.3246256649277126\n",
      "\n"
     ]
    },
    {
     "data": {
      "application/vnd.jupyter.widget-view+json": {
       "model_id": "647fb4b5bb2043f9834719dff1191804",
       "version_major": 2,
       "version_minor": 0
      },
      "text/plain": [
       "HBox(children=(IntProgress(value=0, max=60000), HTML(value='')))"
      ]
     },
     "metadata": {},
     "output_type": "display_data"
    },
    {
     "name": "stdout",
     "output_type": "stream",
     "text": [
      "\n"
     ]
    },
    {
     "data": {
      "application/vnd.jupyter.widget-view+json": {
       "model_id": "2cc1dd25ce4c4dff9a8cf2d2dbfea9da",
       "version_major": 2,
       "version_minor": 0
      },
      "text/plain": [
       "HBox(children=(IntProgress(value=0, max=10), HTML(value='')))"
      ]
     },
     "metadata": {},
     "output_type": "display_data"
    },
    {
     "name": "stdout",
     "output_type": "stream",
     "text": [
      "0.30210684616295586\n",
      "\n"
     ]
    },
    {
     "data": {
      "application/vnd.jupyter.widget-view+json": {
       "model_id": "bf0da6b6d42a4df99a6c4e0dc1d3b448",
       "version_major": 2,
       "version_minor": 0
      },
      "text/plain": [
       "HBox(children=(IntProgress(value=0, max=60000), HTML(value='')))"
      ]
     },
     "metadata": {},
     "output_type": "display_data"
    },
    {
     "name": "stdout",
     "output_type": "stream",
     "text": [
      "\n"
     ]
    },
    {
     "data": {
      "application/vnd.jupyter.widget-view+json": {
       "model_id": "ba5a0e9620c04cba9070b14319f3e843",
       "version_major": 2,
       "version_minor": 0
      },
      "text/plain": [
       "HBox(children=(IntProgress(value=0, max=10), HTML(value='')))"
      ]
     },
     "metadata": {},
     "output_type": "display_data"
    },
    {
     "name": "stdout",
     "output_type": "stream",
     "text": [
      "0.2791610195163686\n",
      "\n"
     ]
    },
    {
     "data": {
      "application/vnd.jupyter.widget-view+json": {
       "model_id": "81ecc496f13d4aa1b7321be0f47cefb7",
       "version_major": 2,
       "version_minor": 0
      },
      "text/plain": [
       "HBox(children=(IntProgress(value=0, max=60000), HTML(value='')))"
      ]
     },
     "metadata": {},
     "output_type": "display_data"
    },
    {
     "name": "stdout",
     "output_type": "stream",
     "text": [
      "\n"
     ]
    },
    {
     "data": {
      "application/vnd.jupyter.widget-view+json": {
       "model_id": "5289113c67bd476396d7033d7c4ef48f",
       "version_major": 2,
       "version_minor": 0
      },
      "text/plain": [
       "HBox(children=(IntProgress(value=0, max=10), HTML(value='')))"
      ]
     },
     "metadata": {},
     "output_type": "display_data"
    },
    {
     "name": "stdout",
     "output_type": "stream",
     "text": [
      "0.25135946542752213\n",
      "\n"
     ]
    },
    {
     "data": {
      "application/vnd.jupyter.widget-view+json": {
       "model_id": "657395bc3aa041efa782927b2f99718d",
       "version_major": 2,
       "version_minor": 0
      },
      "text/plain": [
       "HBox(children=(IntProgress(value=0, max=60000), HTML(value='')))"
      ]
     },
     "metadata": {},
     "output_type": "display_data"
    },
    {
     "name": "stdout",
     "output_type": "stream",
     "text": [
      "\n"
     ]
    },
    {
     "data": {
      "application/vnd.jupyter.widget-view+json": {
       "model_id": "ef3de090e1034467bff89b2ac58775a8",
       "version_major": 2,
       "version_minor": 0
      },
      "text/plain": [
       "HBox(children=(IntProgress(value=0, max=10), HTML(value='')))"
      ]
     },
     "metadata": {},
     "output_type": "display_data"
    },
    {
     "name": "stdout",
     "output_type": "stream",
     "text": [
      "0.21421733055091433\n",
      "\n"
     ]
    },
    {
     "data": {
      "application/vnd.jupyter.widget-view+json": {
       "model_id": "0a52febfbf994a3e94b972f7306f8d67",
       "version_major": 2,
       "version_minor": 0
      },
      "text/plain": [
       "HBox(children=(IntProgress(value=0, max=60000), HTML(value='')))"
      ]
     },
     "metadata": {},
     "output_type": "display_data"
    },
    {
     "name": "stdout",
     "output_type": "stream",
     "text": [
      "\n"
     ]
    },
    {
     "data": {
      "application/vnd.jupyter.widget-view+json": {
       "model_id": "8793278db0bd4e7d95b309a5b5ab642c",
       "version_major": 2,
       "version_minor": 0
      },
      "text/plain": [
       "HBox(children=(IntProgress(value=0, max=10), HTML(value='')))"
      ]
     },
     "metadata": {},
     "output_type": "display_data"
    },
    {
     "name": "stdout",
     "output_type": "stream",
     "text": [
      "0.190678105621654\n",
      "\n"
     ]
    },
    {
     "data": {
      "application/vnd.jupyter.widget-view+json": {
       "model_id": "a3344c4e3fe849fdbfa7cadc3ef3017a",
       "version_major": 2,
       "version_minor": 0
      },
      "text/plain": [
       "HBox(children=(IntProgress(value=0, max=60000), HTML(value='')))"
      ]
     },
     "metadata": {},
     "output_type": "display_data"
    },
    {
     "name": "stdout",
     "output_type": "stream",
     "text": [
      "\n"
     ]
    },
    {
     "data": {
      "application/vnd.jupyter.widget-view+json": {
       "model_id": "de5e5cd1af504b25a990e1c3720629a2",
       "version_major": 2,
       "version_minor": 0
      },
      "text/plain": [
       "HBox(children=(IntProgress(value=0, max=10), HTML(value='')))"
      ]
     },
     "metadata": {},
     "output_type": "display_data"
    },
    {
     "name": "stdout",
     "output_type": "stream",
     "text": [
      "0.19377916075146312\n",
      "\n"
     ]
    },
    {
     "data": {
      "application/vnd.jupyter.widget-view+json": {
       "model_id": "060826ed1f9a4d8885e207d637962ac8",
       "version_major": 2,
       "version_minor": 0
      },
      "text/plain": [
       "HBox(children=(IntProgress(value=0, max=60000), HTML(value='')))"
      ]
     },
     "metadata": {},
     "output_type": "display_data"
    },
    {
     "name": "stdout",
     "output_type": "stream",
     "text": [
      "\n"
     ]
    },
    {
     "data": {
      "application/vnd.jupyter.widget-view+json": {
       "model_id": "8b692d133def4f7186916e9033879c83",
       "version_major": 2,
       "version_minor": 0
      },
      "text/plain": [
       "HBox(children=(IntProgress(value=0, max=10), HTML(value='')))"
      ]
     },
     "metadata": {},
     "output_type": "display_data"
    },
    {
     "name": "stdout",
     "output_type": "stream",
     "text": [
      "0.19383779265947523\n",
      "\n"
     ]
    },
    {
     "data": {
      "application/vnd.jupyter.widget-view+json": {
       "model_id": "c1475e8636f5482ab754ed5e326232c7",
       "version_major": 2,
       "version_minor": 0
      },
      "text/plain": [
       "HBox(children=(IntProgress(value=0, max=60000), HTML(value='')))"
      ]
     },
     "metadata": {},
     "output_type": "display_data"
    },
    {
     "name": "stdout",
     "output_type": "stream",
     "text": [
      "\n"
     ]
    },
    {
     "data": {
      "application/vnd.jupyter.widget-view+json": {
       "model_id": "f81dcdceb43c430a8c840bb570c267bf",
       "version_major": 2,
       "version_minor": 0
      },
      "text/plain": [
       "HBox(children=(IntProgress(value=0, max=10), HTML(value='')))"
      ]
     },
     "metadata": {},
     "output_type": "display_data"
    },
    {
     "name": "stdout",
     "output_type": "stream",
     "text": [
      "0.17520436945616638\n",
      "\n"
     ]
    },
    {
     "data": {
      "application/vnd.jupyter.widget-view+json": {
       "model_id": "d5b3dd21ace94958a31892acd6078989",
       "version_major": 2,
       "version_minor": 0
      },
      "text/plain": [
       "HBox(children=(IntProgress(value=0, max=60000), HTML(value='')))"
      ]
     },
     "metadata": {},
     "output_type": "display_data"
    },
    {
     "name": "stdout",
     "output_type": "stream",
     "text": [
      "\n"
     ]
    },
    {
     "data": {
      "application/vnd.jupyter.widget-view+json": {
       "model_id": "071e454587c14f7d8e6c07ba28164b71",
       "version_major": 2,
       "version_minor": 0
      },
      "text/plain": [
       "HBox(children=(IntProgress(value=0, max=10), HTML(value='')))"
      ]
     },
     "metadata": {},
     "output_type": "display_data"
    },
    {
     "name": "stdout",
     "output_type": "stream",
     "text": [
      "0.14510081348925902\n",
      "\n"
     ]
    },
    {
     "data": {
      "application/vnd.jupyter.widget-view+json": {
       "model_id": "1e573cec9cee4aa4a30ea13f35e3930e",
       "version_major": 2,
       "version_minor": 0
      },
      "text/plain": [
       "HBox(children=(IntProgress(value=0, max=60000), HTML(value='')))"
      ]
     },
     "metadata": {},
     "output_type": "display_data"
    },
    {
     "name": "stdout",
     "output_type": "stream",
     "text": [
      "\n"
     ]
    },
    {
     "data": {
      "application/vnd.jupyter.widget-view+json": {
       "model_id": "05821ce62f654041b07cfdad2bcb9420",
       "version_major": 2,
       "version_minor": 0
      },
      "text/plain": [
       "HBox(children=(IntProgress(value=0, max=10), HTML(value='')))"
      ]
     },
     "metadata": {},
     "output_type": "display_data"
    },
    {
     "name": "stdout",
     "output_type": "stream",
     "text": [
      "0.1171090324343892\n",
      "\n"
     ]
    },
    {
     "data": {
      "application/vnd.jupyter.widget-view+json": {
       "model_id": "35fc28a7b8634cd48947de7089b24888",
       "version_major": 2,
       "version_minor": 0
      },
      "text/plain": [
       "HBox(children=(IntProgress(value=0, max=60000), HTML(value='')))"
      ]
     },
     "metadata": {},
     "output_type": "display_data"
    },
    {
     "name": "stdout",
     "output_type": "stream",
     "text": [
      "\n"
     ]
    },
    {
     "data": {
      "application/vnd.jupyter.widget-view+json": {
       "model_id": "6ba8073a668f491c9b7b8817eaec188c",
       "version_major": 2,
       "version_minor": 0
      },
      "text/plain": [
       "HBox(children=(IntProgress(value=0, max=10), HTML(value='')))"
      ]
     },
     "metadata": {},
     "output_type": "display_data"
    },
    {
     "name": "stdout",
     "output_type": "stream",
     "text": [
      "0.09316916586955304\n",
      "\n"
     ]
    },
    {
     "data": {
      "application/vnd.jupyter.widget-view+json": {
       "model_id": "507e9d283a4f4964b463acf822f026c6",
       "version_major": 2,
       "version_minor": 0
      },
      "text/plain": [
       "HBox(children=(IntProgress(value=0, max=60000), HTML(value='')))"
      ]
     },
     "metadata": {},
     "output_type": "display_data"
    },
    {
     "name": "stdout",
     "output_type": "stream",
     "text": [
      "\n"
     ]
    },
    {
     "data": {
      "application/vnd.jupyter.widget-view+json": {
       "model_id": "e62f57010edd499c8e37c28bf465353d",
       "version_major": 2,
       "version_minor": 0
      },
      "text/plain": [
       "HBox(children=(IntProgress(value=0, max=10), HTML(value='')))"
      ]
     },
     "metadata": {},
     "output_type": "display_data"
    },
    {
     "name": "stdout",
     "output_type": "stream",
     "text": [
      "0.07803069436663135\n",
      "\n"
     ]
    },
    {
     "data": {
      "application/vnd.jupyter.widget-view+json": {
       "model_id": "eea06aace3c44711ac7454abf76a1724",
       "version_major": 2,
       "version_minor": 0
      },
      "text/plain": [
       "HBox(children=(IntProgress(value=0, max=60000), HTML(value='')))"
      ]
     },
     "metadata": {},
     "output_type": "display_data"
    },
    {
     "name": "stdout",
     "output_type": "stream",
     "text": [
      "\n"
     ]
    },
    {
     "data": {
      "application/vnd.jupyter.widget-view+json": {
       "model_id": "818427a0393045e4ad291f9ad2365e01",
       "version_major": 2,
       "version_minor": 0
      },
      "text/plain": [
       "HBox(children=(IntProgress(value=0, max=10), HTML(value='')))"
      ]
     },
     "metadata": {},
     "output_type": "display_data"
    },
    {
     "name": "stdout",
     "output_type": "stream",
     "text": [
      "0.06689343659549356\n",
      "\n"
     ]
    },
    {
     "data": {
      "application/vnd.jupyter.widget-view+json": {
       "model_id": "4113faa9378b406395cfdab3957b5405",
       "version_major": 2,
       "version_minor": 0
      },
      "text/plain": [
       "HBox(children=(IntProgress(value=0, max=60000), HTML(value='')))"
      ]
     },
     "metadata": {},
     "output_type": "display_data"
    },
    {
     "name": "stdout",
     "output_type": "stream",
     "text": [
      "\n"
     ]
    },
    {
     "data": {
      "application/vnd.jupyter.widget-view+json": {
       "model_id": "7958fbf045b34f20939124a4f4159b6d",
       "version_major": 2,
       "version_minor": 0
      },
      "text/plain": [
       "HBox(children=(IntProgress(value=0, max=10), HTML(value='')))"
      ]
     },
     "metadata": {},
     "output_type": "display_data"
    },
    {
     "name": "stdout",
     "output_type": "stream",
     "text": [
      "0.05526347857743265\n",
      "\n"
     ]
    },
    {
     "data": {
      "application/vnd.jupyter.widget-view+json": {
       "model_id": "e23bcb27d32f49b084b24f19758a9249",
       "version_major": 2,
       "version_minor": 0
      },
      "text/plain": [
       "HBox(children=(IntProgress(value=0, max=60000), HTML(value='')))"
      ]
     },
     "metadata": {},
     "output_type": "display_data"
    },
    {
     "name": "stdout",
     "output_type": "stream",
     "text": [
      "\n"
     ]
    },
    {
     "data": {
      "application/vnd.jupyter.widget-view+json": {
       "model_id": "69923dee7c3443b1ba415281aa0fcde2",
       "version_major": 2,
       "version_minor": 0
      },
      "text/plain": [
       "HBox(children=(IntProgress(value=0, max=10), HTML(value='')))"
      ]
     },
     "metadata": {},
     "output_type": "display_data"
    },
    {
     "name": "stdout",
     "output_type": "stream",
     "text": [
      "0.045436077877356054\n",
      "\n"
     ]
    },
    {
     "data": {
      "application/vnd.jupyter.widget-view+json": {
       "model_id": "6b5dd6bca2ab497187f88266d7f8d4f7",
       "version_major": 2,
       "version_minor": 0
      },
      "text/plain": [
       "HBox(children=(IntProgress(value=0, max=60000), HTML(value='')))"
      ]
     },
     "metadata": {},
     "output_type": "display_data"
    },
    {
     "name": "stdout",
     "output_type": "stream",
     "text": [
      "\n"
     ]
    },
    {
     "data": {
      "application/vnd.jupyter.widget-view+json": {
       "model_id": "4aa8ff52f9754c5db5f2ca3e0263256a",
       "version_major": 2,
       "version_minor": 0
      },
      "text/plain": [
       "HBox(children=(IntProgress(value=0, max=10), HTML(value='')))"
      ]
     },
     "metadata": {},
     "output_type": "display_data"
    },
    {
     "name": "stdout",
     "output_type": "stream",
     "text": [
      "0.037362360737272865\n",
      "\n"
     ]
    },
    {
     "data": {
      "application/vnd.jupyter.widget-view+json": {
       "model_id": "dad46bcbc351482cb6d1d677618dbf7e",
       "version_major": 2,
       "version_minor": 0
      },
      "text/plain": [
       "HBox(children=(IntProgress(value=0, max=60000), HTML(value='')))"
      ]
     },
     "metadata": {},
     "output_type": "display_data"
    },
    {
     "name": "stdout",
     "output_type": "stream",
     "text": [
      "\n"
     ]
    },
    {
     "data": {
      "application/vnd.jupyter.widget-view+json": {
       "model_id": "7313670dbb444eb1a24b7c20aee9a20f",
       "version_major": 2,
       "version_minor": 0
      },
      "text/plain": [
       "HBox(children=(IntProgress(value=0, max=10), HTML(value='')))"
      ]
     },
     "metadata": {},
     "output_type": "display_data"
    },
    {
     "name": "stdout",
     "output_type": "stream",
     "text": [
      "0.030874364678400403\n",
      "\n"
     ]
    },
    {
     "data": {
      "application/vnd.jupyter.widget-view+json": {
       "model_id": "32f1b5b017a345c880447955cb5bc5c6",
       "version_major": 2,
       "version_minor": 0
      },
      "text/plain": [
       "HBox(children=(IntProgress(value=0, max=60000), HTML(value='')))"
      ]
     },
     "metadata": {},
     "output_type": "display_data"
    },
    {
     "name": "stdout",
     "output_type": "stream",
     "text": [
      "\n"
     ]
    },
    {
     "data": {
      "application/vnd.jupyter.widget-view+json": {
       "model_id": "f8d05c2d5847485497526b767651e6e7",
       "version_major": 2,
       "version_minor": 0
      },
      "text/plain": [
       "HBox(children=(IntProgress(value=0, max=10), HTML(value='')))"
      ]
     },
     "metadata": {},
     "output_type": "display_data"
    },
    {
     "name": "stdout",
     "output_type": "stream",
     "text": [
      "0.026005525224129047\n",
      "\n"
     ]
    },
    {
     "data": {
      "application/vnd.jupyter.widget-view+json": {
       "model_id": "f4dceb18db274cae9dd360131eda9379",
       "version_major": 2,
       "version_minor": 0
      },
      "text/plain": [
       "HBox(children=(IntProgress(value=0, max=60000), HTML(value='')))"
      ]
     },
     "metadata": {},
     "output_type": "display_data"
    },
    {
     "name": "stdout",
     "output_type": "stream",
     "text": [
      "\n"
     ]
    },
    {
     "data": {
      "application/vnd.jupyter.widget-view+json": {
       "model_id": "a414b61a38364897982a8648309522ba",
       "version_major": 2,
       "version_minor": 0
      },
      "text/plain": [
       "HBox(children=(IntProgress(value=0, max=10), HTML(value='')))"
      ]
     },
     "metadata": {},
     "output_type": "display_data"
    },
    {
     "name": "stdout",
     "output_type": "stream",
     "text": [
      "0.022756159377046704\n",
      "\n"
     ]
    },
    {
     "data": {
      "application/vnd.jupyter.widget-view+json": {
       "model_id": "a4135b90871647ba88f4eab4fa927873",
       "version_major": 2,
       "version_minor": 0
      },
      "text/plain": [
       "HBox(children=(IntProgress(value=0, max=60000), HTML(value='')))"
      ]
     },
     "metadata": {},
     "output_type": "display_data"
    },
    {
     "name": "stdout",
     "output_type": "stream",
     "text": [
      "\n"
     ]
    },
    {
     "data": {
      "application/vnd.jupyter.widget-view+json": {
       "model_id": "8f7551a038974aa9a806fd09a62609d1",
       "version_major": 2,
       "version_minor": 0
      },
      "text/plain": [
       "HBox(children=(IntProgress(value=0, max=10), HTML(value='')))"
      ]
     },
     "metadata": {},
     "output_type": "display_data"
    },
    {
     "name": "stdout",
     "output_type": "stream",
     "text": [
      "0.020275529578071553\n",
      "\n"
     ]
    },
    {
     "data": {
      "application/vnd.jupyter.widget-view+json": {
       "model_id": "76f226680d4a4e2d9da68e8973c19f30",
       "version_major": 2,
       "version_minor": 0
      },
      "text/plain": [
       "HBox(children=(IntProgress(value=0, max=60000), HTML(value='')))"
      ]
     },
     "metadata": {},
     "output_type": "display_data"
    },
    {
     "name": "stdout",
     "output_type": "stream",
     "text": [
      "\n"
     ]
    },
    {
     "data": {
      "application/vnd.jupyter.widget-view+json": {
       "model_id": "f4bfcc52cdca4b9ebac62ec5d58d5ed6",
       "version_major": 2,
       "version_minor": 0
      },
      "text/plain": [
       "HBox(children=(IntProgress(value=0, max=10), HTML(value='')))"
      ]
     },
     "metadata": {},
     "output_type": "display_data"
    },
    {
     "name": "stdout",
     "output_type": "stream",
     "text": [
      "0.018231369086506\n",
      "\n"
     ]
    },
    {
     "data": {
      "application/vnd.jupyter.widget-view+json": {
       "model_id": "f71e4db583424f459b1d1660e7be903a",
       "version_major": 2,
       "version_minor": 0
      },
      "text/plain": [
       "HBox(children=(IntProgress(value=0, max=60000), HTML(value='')))"
      ]
     },
     "metadata": {},
     "output_type": "display_data"
    },
    {
     "name": "stdout",
     "output_type": "stream",
     "text": [
      "\n"
     ]
    },
    {
     "data": {
      "application/vnd.jupyter.widget-view+json": {
       "model_id": "e8f98812fba849539696dbe28b4663d5",
       "version_major": 2,
       "version_minor": 0
      },
      "text/plain": [
       "HBox(children=(IntProgress(value=0, max=10), HTML(value='')))"
      ]
     },
     "metadata": {},
     "output_type": "display_data"
    },
    {
     "name": "stdout",
     "output_type": "stream",
     "text": [
      "0.016694374857260465\n",
      "\n"
     ]
    },
    {
     "data": {
      "application/vnd.jupyter.widget-view+json": {
       "model_id": "3885f00816464aac9d9d62670bed8f67",
       "version_major": 2,
       "version_minor": 0
      },
      "text/plain": [
       "HBox(children=(IntProgress(value=0, max=60000), HTML(value='')))"
      ]
     },
     "metadata": {},
     "output_type": "display_data"
    },
    {
     "name": "stdout",
     "output_type": "stream",
     "text": [
      "\n"
     ]
    },
    {
     "data": {
      "application/vnd.jupyter.widget-view+json": {
       "model_id": "0b4a449c8ff94fea897c2bfa32915d50",
       "version_major": 2,
       "version_minor": 0
      },
      "text/plain": [
       "HBox(children=(IntProgress(value=0, max=10), HTML(value='')))"
      ]
     },
     "metadata": {},
     "output_type": "display_data"
    },
    {
     "name": "stdout",
     "output_type": "stream",
     "text": [
      "0.015513925567247927\n",
      "\n"
     ]
    },
    {
     "data": {
      "application/vnd.jupyter.widget-view+json": {
       "model_id": "908e6859500c4ccdb188af1a91c56441",
       "version_major": 2,
       "version_minor": 0
      },
      "text/plain": [
       "HBox(children=(IntProgress(value=0, max=60000), HTML(value='')))"
      ]
     },
     "metadata": {},
     "output_type": "display_data"
    },
    {
     "name": "stdout",
     "output_type": "stream",
     "text": [
      "\n"
     ]
    },
    {
     "data": {
      "application/vnd.jupyter.widget-view+json": {
       "model_id": "c76a1ad297994d638879df4cfda3689b",
       "version_major": 2,
       "version_minor": 0
      },
      "text/plain": [
       "HBox(children=(IntProgress(value=0, max=10), HTML(value='')))"
      ]
     },
     "metadata": {},
     "output_type": "display_data"
    },
    {
     "name": "stdout",
     "output_type": "stream",
     "text": [
      "0.014915793226836487\n",
      "\n"
     ]
    },
    {
     "data": {
      "application/vnd.jupyter.widget-view+json": {
       "model_id": "068aaf1c03b941b9ad68157bda402785",
       "version_major": 2,
       "version_minor": 0
      },
      "text/plain": [
       "HBox(children=(IntProgress(value=0, max=60000), HTML(value='')))"
      ]
     },
     "metadata": {},
     "output_type": "display_data"
    },
    {
     "name": "stdout",
     "output_type": "stream",
     "text": [
      "\n"
     ]
    },
    {
     "data": {
      "application/vnd.jupyter.widget-view+json": {
       "model_id": "f19c1f838d4a4e9f8288292a7df30ba5",
       "version_major": 2,
       "version_minor": 0
      },
      "text/plain": [
       "HBox(children=(IntProgress(value=0, max=10), HTML(value='')))"
      ]
     },
     "metadata": {},
     "output_type": "display_data"
    },
    {
     "name": "stdout",
     "output_type": "stream",
     "text": [
      "0.014302699565744807\n",
      "\n"
     ]
    },
    {
     "data": {
      "application/vnd.jupyter.widget-view+json": {
       "model_id": "c7d4e29c2ed14278b7597cf447370a40",
       "version_major": 2,
       "version_minor": 0
      },
      "text/plain": [
       "HBox(children=(IntProgress(value=0, max=60000), HTML(value='')))"
      ]
     },
     "metadata": {},
     "output_type": "display_data"
    },
    {
     "name": "stdout",
     "output_type": "stream",
     "text": [
      "\n"
     ]
    },
    {
     "data": {
      "application/vnd.jupyter.widget-view+json": {
       "model_id": "c09ba22f31fd4b1895363011643f4d72",
       "version_major": 2,
       "version_minor": 0
      },
      "text/plain": [
       "HBox(children=(IntProgress(value=0, max=10), HTML(value='')))"
      ]
     },
     "metadata": {},
     "output_type": "display_data"
    },
    {
     "name": "stdout",
     "output_type": "stream",
     "text": [
      "0.013884447314246168\n",
      "\n"
     ]
    },
    {
     "data": {
      "application/vnd.jupyter.widget-view+json": {
       "model_id": "583b433afd3a41b4a77e27f78fe40cb2",
       "version_major": 2,
       "version_minor": 0
      },
      "text/plain": [
       "HBox(children=(IntProgress(value=0, max=60000), HTML(value='')))"
      ]
     },
     "metadata": {},
     "output_type": "display_data"
    },
    {
     "name": "stdout",
     "output_type": "stream",
     "text": [
      "\n"
     ]
    },
    {
     "data": {
      "application/vnd.jupyter.widget-view+json": {
       "model_id": "34f15211aadd4add85096fb90d5e69a5",
       "version_major": 2,
       "version_minor": 0
      },
      "text/plain": [
       "HBox(children=(IntProgress(value=0, max=10), HTML(value='')))"
      ]
     },
     "metadata": {},
     "output_type": "display_data"
    },
    {
     "name": "stdout",
     "output_type": "stream",
     "text": [
      "0.013131233720693643\n",
      "\n"
     ]
    },
    {
     "data": {
      "application/vnd.jupyter.widget-view+json": {
       "model_id": "d743f22514cd46b68e26109d9645685b",
       "version_major": 2,
       "version_minor": 0
      },
      "text/plain": [
       "HBox(children=(IntProgress(value=0, max=60000), HTML(value='')))"
      ]
     },
     "metadata": {},
     "output_type": "display_data"
    },
    {
     "name": "stdout",
     "output_type": "stream",
     "text": [
      "\n"
     ]
    },
    {
     "data": {
      "application/vnd.jupyter.widget-view+json": {
       "model_id": "7ef4f00aef4e4c5bb7f01598a4ec4fee",
       "version_major": 2,
       "version_minor": 0
      },
      "text/plain": [
       "HBox(children=(IntProgress(value=0, max=10), HTML(value='')))"
      ]
     },
     "metadata": {},
     "output_type": "display_data"
    },
    {
     "name": "stdout",
     "output_type": "stream",
     "text": [
      "0.012207014153497864\n",
      "\n"
     ]
    },
    {
     "data": {
      "application/vnd.jupyter.widget-view+json": {
       "model_id": "98ea1fb3663c4b22ac650c53d4f566e7",
       "version_major": 2,
       "version_minor": 0
      },
      "text/plain": [
       "HBox(children=(IntProgress(value=0, max=60000), HTML(value='')))"
      ]
     },
     "metadata": {},
     "output_type": "display_data"
    },
    {
     "name": "stdout",
     "output_type": "stream",
     "text": [
      "\n"
     ]
    },
    {
     "data": {
      "application/vnd.jupyter.widget-view+json": {
       "model_id": "44f7dbc60d1641e7aede3af7f55372cf",
       "version_major": 2,
       "version_minor": 0
      },
      "text/plain": [
       "HBox(children=(IntProgress(value=0, max=10), HTML(value='')))"
      ]
     },
     "metadata": {},
     "output_type": "display_data"
    },
    {
     "name": "stdout",
     "output_type": "stream",
     "text": [
      "0.011323055364273273\n",
      "\n"
     ]
    },
    {
     "data": {
      "application/vnd.jupyter.widget-view+json": {
       "model_id": "8ee7454cb55d44a5a6e39a855596f715",
       "version_major": 2,
       "version_minor": 0
      },
      "text/plain": [
       "HBox(children=(IntProgress(value=0, max=60000), HTML(value='')))"
      ]
     },
     "metadata": {},
     "output_type": "display_data"
    },
    {
     "name": "stdout",
     "output_type": "stream",
     "text": [
      "\n"
     ]
    },
    {
     "data": {
      "application/vnd.jupyter.widget-view+json": {
       "model_id": "8be7604591814bf9bc21e100ddb6e00c",
       "version_major": 2,
       "version_minor": 0
      },
      "text/plain": [
       "HBox(children=(IntProgress(value=0, max=10), HTML(value='')))"
      ]
     },
     "metadata": {},
     "output_type": "display_data"
    },
    {
     "name": "stdout",
     "output_type": "stream",
     "text": [
      "0.010480732778109724\n",
      "\n"
     ]
    },
    {
     "data": {
      "application/vnd.jupyter.widget-view+json": {
       "model_id": "8c57a1c60406485499b8a2fc968f24a9",
       "version_major": 2,
       "version_minor": 0
      },
      "text/plain": [
       "HBox(children=(IntProgress(value=0, max=60000), HTML(value='')))"
      ]
     },
     "metadata": {},
     "output_type": "display_data"
    },
    {
     "name": "stdout",
     "output_type": "stream",
     "text": [
      "\n"
     ]
    },
    {
     "data": {
      "application/vnd.jupyter.widget-view+json": {
       "model_id": "2d357ab2aef0475798084e49a5c42c94",
       "version_major": 2,
       "version_minor": 0
      },
      "text/plain": [
       "HBox(children=(IntProgress(value=0, max=10), HTML(value='')))"
      ]
     },
     "metadata": {},
     "output_type": "display_data"
    },
    {
     "name": "stdout",
     "output_type": "stream",
     "text": [
      "0.009720274532042807\n",
      "\n"
     ]
    },
    {
     "data": {
      "application/vnd.jupyter.widget-view+json": {
       "model_id": "e2bcefa83dbd48aba29278c3ed030615",
       "version_major": 2,
       "version_minor": 0
      },
      "text/plain": [
       "HBox(children=(IntProgress(value=0, max=60000), HTML(value='')))"
      ]
     },
     "metadata": {},
     "output_type": "display_data"
    },
    {
     "name": "stdout",
     "output_type": "stream",
     "text": [
      "\n"
     ]
    },
    {
     "data": {
      "application/vnd.jupyter.widget-view+json": {
       "model_id": "c16bf72a09f742768d252884afe2a3e6",
       "version_major": 2,
       "version_minor": 0
      },
      "text/plain": [
       "HBox(children=(IntProgress(value=0, max=10), HTML(value='')))"
      ]
     },
     "metadata": {},
     "output_type": "display_data"
    },
    {
     "name": "stdout",
     "output_type": "stream",
     "text": [
      "0.00906513023989921\n",
      "\n"
     ]
    },
    {
     "data": {
      "application/vnd.jupyter.widget-view+json": {
       "model_id": "35b38a72f2fb4d9883874d08f5937e5f",
       "version_major": 2,
       "version_minor": 0
      },
      "text/plain": [
       "HBox(children=(IntProgress(value=0, max=60000), HTML(value='')))"
      ]
     },
     "metadata": {},
     "output_type": "display_data"
    },
    {
     "name": "stdout",
     "output_type": "stream",
     "text": [
      "\n"
     ]
    },
    {
     "data": {
      "application/vnd.jupyter.widget-view+json": {
       "model_id": "651262585152450d9f649efdf9083120",
       "version_major": 2,
       "version_minor": 0
      },
      "text/plain": [
       "HBox(children=(IntProgress(value=0, max=10), HTML(value='')))"
      ]
     },
     "metadata": {},
     "output_type": "display_data"
    },
    {
     "name": "stdout",
     "output_type": "stream",
     "text": [
      "0.008521765543748746\n",
      "\n"
     ]
    },
    {
     "data": {
      "application/vnd.jupyter.widget-view+json": {
       "model_id": "5440085a3874479f9699de48f5074bde",
       "version_major": 2,
       "version_minor": 0
      },
      "text/plain": [
       "HBox(children=(IntProgress(value=0, max=60000), HTML(value='')))"
      ]
     },
     "metadata": {},
     "output_type": "display_data"
    },
    {
     "name": "stdout",
     "output_type": "stream",
     "text": [
      "\n"
     ]
    },
    {
     "data": {
      "application/vnd.jupyter.widget-view+json": {
       "model_id": "9df3e8b4dd5846e29243abbdca7d98d5",
       "version_major": 2,
       "version_minor": 0
      },
      "text/plain": [
       "HBox(children=(IntProgress(value=0, max=10), HTML(value='')))"
      ]
     },
     "metadata": {},
     "output_type": "display_data"
    },
    {
     "name": "stdout",
     "output_type": "stream",
     "text": [
      "0.0080865718092452\n",
      "\n"
     ]
    },
    {
     "data": {
      "application/vnd.jupyter.widget-view+json": {
       "model_id": "ae0ecc34b8da4d36b00d0f528ee2a4f3",
       "version_major": 2,
       "version_minor": 0
      },
      "text/plain": [
       "HBox(children=(IntProgress(value=0, max=60000), HTML(value='')))"
      ]
     },
     "metadata": {},
     "output_type": "display_data"
    },
    {
     "name": "stdout",
     "output_type": "stream",
     "text": [
      "\n"
     ]
    },
    {
     "data": {
      "application/vnd.jupyter.widget-view+json": {
       "model_id": "a3fd0b0fa6e94bada65952882a53227b",
       "version_major": 2,
       "version_minor": 0
      },
      "text/plain": [
       "HBox(children=(IntProgress(value=0, max=10), HTML(value='')))"
      ]
     },
     "metadata": {},
     "output_type": "display_data"
    },
    {
     "name": "stdout",
     "output_type": "stream",
     "text": [
      "0.007755582218898565\n",
      "\n"
     ]
    },
    {
     "data": {
      "application/vnd.jupyter.widget-view+json": {
       "model_id": "c69c53aa2d1f42d5ab781abe7514ee81",
       "version_major": 2,
       "version_minor": 0
      },
      "text/plain": [
       "HBox(children=(IntProgress(value=0, max=60000), HTML(value='')))"
      ]
     },
     "metadata": {},
     "output_type": "display_data"
    },
    {
     "name": "stdout",
     "output_type": "stream",
     "text": [
      "\n"
     ]
    },
    {
     "data": {
      "application/vnd.jupyter.widget-view+json": {
       "model_id": "580ac7e24ee04a79a4aa3a1f20147bf4",
       "version_major": 2,
       "version_minor": 0
      },
      "text/plain": [
       "HBox(children=(IntProgress(value=0, max=10), HTML(value='')))"
      ]
     },
     "metadata": {},
     "output_type": "display_data"
    },
    {
     "name": "stdout",
     "output_type": "stream",
     "text": [
      "0.00751329632326332\n",
      "\n"
     ]
    },
    {
     "data": {
      "application/vnd.jupyter.widget-view+json": {
       "model_id": "b85a77782d3d42e78ca15dc4b62d3a4e",
       "version_major": 2,
       "version_minor": 0
      },
      "text/plain": [
       "HBox(children=(IntProgress(value=0, max=60000), HTML(value='')))"
      ]
     },
     "metadata": {},
     "output_type": "display_data"
    },
    {
     "name": "stdout",
     "output_type": "stream",
     "text": [
      "\n"
     ]
    },
    {
     "data": {
      "application/vnd.jupyter.widget-view+json": {
       "model_id": "cf6cd355bd114fb980c03a6e4e37b8aa",
       "version_major": 2,
       "version_minor": 0
      },
      "text/plain": [
       "HBox(children=(IntProgress(value=0, max=10), HTML(value='')))"
      ]
     },
     "metadata": {},
     "output_type": "display_data"
    },
    {
     "name": "stdout",
     "output_type": "stream",
     "text": [
      "0.007310683033069174\n",
      "\n"
     ]
    },
    {
     "data": {
      "application/vnd.jupyter.widget-view+json": {
       "model_id": "c06b08f675ef40709c3c3752aeb13548",
       "version_major": 2,
       "version_minor": 0
      },
      "text/plain": [
       "HBox(children=(IntProgress(value=0, max=60000), HTML(value='')))"
      ]
     },
     "metadata": {},
     "output_type": "display_data"
    },
    {
     "name": "stdout",
     "output_type": "stream",
     "text": [
      "\n"
     ]
    },
    {
     "data": {
      "application/vnd.jupyter.widget-view+json": {
       "model_id": "0a1f1119cc00443d83677976824aca17",
       "version_major": 2,
       "version_minor": 0
      },
      "text/plain": [
       "HBox(children=(IntProgress(value=0, max=10), HTML(value='')))"
      ]
     },
     "metadata": {},
     "output_type": "display_data"
    },
    {
     "name": "stdout",
     "output_type": "stream",
     "text": [
      "0.007141023334946896\n",
      "\n"
     ]
    },
    {
     "data": {
      "application/vnd.jupyter.widget-view+json": {
       "model_id": "82b5d293ed7f49cdb98a33c5d75855b6",
       "version_major": 2,
       "version_minor": 0
      },
      "text/plain": [
       "HBox(children=(IntProgress(value=0, max=60000), HTML(value='')))"
      ]
     },
     "metadata": {},
     "output_type": "display_data"
    },
    {
     "name": "stdout",
     "output_type": "stream",
     "text": [
      "\n"
     ]
    },
    {
     "data": {
      "application/vnd.jupyter.widget-view+json": {
       "model_id": "66e5d176da28410bb2d71b40781f81d8",
       "version_major": 2,
       "version_minor": 0
      },
      "text/plain": [
       "HBox(children=(IntProgress(value=0, max=10), HTML(value='')))"
      ]
     },
     "metadata": {},
     "output_type": "display_data"
    },
    {
     "name": "stdout",
     "output_type": "stream",
     "text": [
      "0.007028091490021577\n",
      "\n"
     ]
    },
    {
     "data": {
      "application/vnd.jupyter.widget-view+json": {
       "model_id": "47519ed9d0db450282ec4346f9215fd8",
       "version_major": 2,
       "version_minor": 0
      },
      "text/plain": [
       "HBox(children=(IntProgress(value=0, max=60000), HTML(value='')))"
      ]
     },
     "metadata": {},
     "output_type": "display_data"
    },
    {
     "name": "stdout",
     "output_type": "stream",
     "text": [
      "\n"
     ]
    },
    {
     "data": {
      "application/vnd.jupyter.widget-view+json": {
       "model_id": "fd25f2243c6a4016b4b074e7cfe88434",
       "version_major": 2,
       "version_minor": 0
      },
      "text/plain": [
       "HBox(children=(IntProgress(value=0, max=10), HTML(value='')))"
      ]
     },
     "metadata": {},
     "output_type": "display_data"
    },
    {
     "name": "stdout",
     "output_type": "stream",
     "text": [
      "0.006981863708501603\n",
      "\n"
     ]
    },
    {
     "data": {
      "application/vnd.jupyter.widget-view+json": {
       "model_id": "0e8c84046eb148668a4df9a15f7c076a",
       "version_major": 2,
       "version_minor": 0
      },
      "text/plain": [
       "HBox(children=(IntProgress(value=0, max=60000), HTML(value='')))"
      ]
     },
     "metadata": {},
     "output_type": "display_data"
    },
    {
     "name": "stdout",
     "output_type": "stream",
     "text": [
      "\n"
     ]
    },
    {
     "data": {
      "application/vnd.jupyter.widget-view+json": {
       "model_id": "41b9338e01d94c9286de493bb1995dc6",
       "version_major": 2,
       "version_minor": 0
      },
      "text/plain": [
       "HBox(children=(IntProgress(value=0, max=10), HTML(value='')))"
      ]
     },
     "metadata": {},
     "output_type": "display_data"
    },
    {
     "name": "stdout",
     "output_type": "stream",
     "text": [
      "0.006997353650713018\n",
      "\n"
     ]
    },
    {
     "data": {
      "application/vnd.jupyter.widget-view+json": {
       "model_id": "bb144d809879419e96ee35d0570c6b90",
       "version_major": 2,
       "version_minor": 0
      },
      "text/plain": [
       "HBox(children=(IntProgress(value=0, max=60000), HTML(value='')))"
      ]
     },
     "metadata": {},
     "output_type": "display_data"
    },
    {
     "name": "stdout",
     "output_type": "stream",
     "text": [
      "\n"
     ]
    },
    {
     "data": {
      "application/vnd.jupyter.widget-view+json": {
       "model_id": "b4306adfe67942c2b08e5472df408cf3",
       "version_major": 2,
       "version_minor": 0
      },
      "text/plain": [
       "HBox(children=(IntProgress(value=0, max=10), HTML(value='')))"
      ]
     },
     "metadata": {},
     "output_type": "display_data"
    },
    {
     "name": "stdout",
     "output_type": "stream",
     "text": [
      "0.007049871977334805\n",
      "\n"
     ]
    },
    {
     "data": {
      "application/vnd.jupyter.widget-view+json": {
       "model_id": "d405875b7c5844388095862cda3bf095",
       "version_major": 2,
       "version_minor": 0
      },
      "text/plain": [
       "HBox(children=(IntProgress(value=0, max=60000), HTML(value='')))"
      ]
     },
     "metadata": {},
     "output_type": "display_data"
    },
    {
     "name": "stdout",
     "output_type": "stream",
     "text": [
      "\n"
     ]
    },
    {
     "data": {
      "application/vnd.jupyter.widget-view+json": {
       "model_id": "f1232a634ff84168970bb7ca7738af9c",
       "version_major": 2,
       "version_minor": 0
      },
      "text/plain": [
       "HBox(children=(IntProgress(value=0, max=10), HTML(value='')))"
      ]
     },
     "metadata": {},
     "output_type": "display_data"
    },
    {
     "name": "stdout",
     "output_type": "stream",
     "text": [
      "0.007098070088044218\n",
      "\n"
     ]
    },
    {
     "data": {
      "application/vnd.jupyter.widget-view+json": {
       "model_id": "734b7ab9d2f84aa4894148a0caef5814",
       "version_major": 2,
       "version_minor": 0
      },
      "text/plain": [
       "HBox(children=(IntProgress(value=0, max=60000), HTML(value='')))"
      ]
     },
     "metadata": {},
     "output_type": "display_data"
    },
    {
     "name": "stdout",
     "output_type": "stream",
     "text": [
      "\n"
     ]
    },
    {
     "data": {
      "application/vnd.jupyter.widget-view+json": {
       "model_id": "f092efc421d14eacb9d9008b1dd2f936",
       "version_major": 2,
       "version_minor": 0
      },
      "text/plain": [
       "HBox(children=(IntProgress(value=0, max=10), HTML(value='')))"
      ]
     },
     "metadata": {},
     "output_type": "display_data"
    },
    {
     "name": "stdout",
     "output_type": "stream",
     "text": [
      "0.007123029311223163\n",
      "\n"
     ]
    },
    {
     "data": {
      "application/vnd.jupyter.widget-view+json": {
       "model_id": "aa9f503337574e2497272f6808428c50",
       "version_major": 2,
       "version_minor": 0
      },
      "text/plain": [
       "HBox(children=(IntProgress(value=0, max=60000), HTML(value='')))"
      ]
     },
     "metadata": {},
     "output_type": "display_data"
    },
    {
     "name": "stdout",
     "output_type": "stream",
     "text": [
      "\n"
     ]
    },
    {
     "data": {
      "application/vnd.jupyter.widget-view+json": {
       "model_id": "6c9469fd3b76465d9e0f30241f03c098",
       "version_major": 2,
       "version_minor": 0
      },
      "text/plain": [
       "HBox(children=(IntProgress(value=0, max=10), HTML(value='')))"
      ]
     },
     "metadata": {},
     "output_type": "display_data"
    },
    {
     "name": "stdout",
     "output_type": "stream",
     "text": [
      "0.0071162916621864275\n",
      "\n"
     ]
    },
    {
     "data": {
      "application/vnd.jupyter.widget-view+json": {
       "model_id": "9d377d51955e4efb9adceb40f8bcca1a",
       "version_major": 2,
       "version_minor": 0
      },
      "text/plain": [
       "HBox(children=(IntProgress(value=0, max=60000), HTML(value='')))"
      ]
     },
     "metadata": {},
     "output_type": "display_data"
    },
    {
     "name": "stdout",
     "output_type": "stream",
     "text": [
      "\n"
     ]
    },
    {
     "data": {
      "application/vnd.jupyter.widget-view+json": {
       "model_id": "44cfdb90e17f484c9eb6dbc0239a1782",
       "version_major": 2,
       "version_minor": 0
      },
      "text/plain": [
       "HBox(children=(IntProgress(value=0, max=10), HTML(value='')))"
      ]
     },
     "metadata": {},
     "output_type": "display_data"
    },
    {
     "name": "stdout",
     "output_type": "stream",
     "text": [
      "0.0070633169518354326\n",
      "\n"
     ]
    },
    {
     "data": {
      "application/vnd.jupyter.widget-view+json": {
       "model_id": "4095836515144762b98fb8196976c0ff",
       "version_major": 2,
       "version_minor": 0
      },
      "text/plain": [
       "HBox(children=(IntProgress(value=0, max=60000), HTML(value='')))"
      ]
     },
     "metadata": {},
     "output_type": "display_data"
    },
    {
     "name": "stdout",
     "output_type": "stream",
     "text": [
      "\n"
     ]
    },
    {
     "data": {
      "application/vnd.jupyter.widget-view+json": {
       "model_id": "206f5b4c1a5849139096c5229b551e1f",
       "version_major": 2,
       "version_minor": 0
      },
      "text/plain": [
       "HBox(children=(IntProgress(value=0, max=10), HTML(value='')))"
      ]
     },
     "metadata": {},
     "output_type": "display_data"
    },
    {
     "name": "stdout",
     "output_type": "stream",
     "text": [
      "0.006953423217483521\n",
      "\n"
     ]
    },
    {
     "data": {
      "application/vnd.jupyter.widget-view+json": {
       "model_id": "eb02a8f4cf564a5e8e9a391f39b98745",
       "version_major": 2,
       "version_minor": 0
      },
      "text/plain": [
       "HBox(children=(IntProgress(value=0, max=60000), HTML(value='')))"
      ]
     },
     "metadata": {},
     "output_type": "display_data"
    },
    {
     "name": "stdout",
     "output_type": "stream",
     "text": [
      "\n"
     ]
    },
    {
     "data": {
      "application/vnd.jupyter.widget-view+json": {
       "model_id": "c4b2e6bd08054d65bb3f69891e31a6c9",
       "version_major": 2,
       "version_minor": 0
      },
      "text/plain": [
       "HBox(children=(IntProgress(value=0, max=10), HTML(value='')))"
      ]
     },
     "metadata": {},
     "output_type": "display_data"
    },
    {
     "name": "stdout",
     "output_type": "stream",
     "text": [
      "0.006783476996813323\n",
      "\n"
     ]
    },
    {
     "data": {
      "application/vnd.jupyter.widget-view+json": {
       "model_id": "f0f291522c67424689fcb696ae6be29f",
       "version_major": 2,
       "version_minor": 0
      },
      "text/plain": [
       "HBox(children=(IntProgress(value=0, max=60000), HTML(value='')))"
      ]
     },
     "metadata": {},
     "output_type": "display_data"
    },
    {
     "name": "stdout",
     "output_type": "stream",
     "text": [
      "\n"
     ]
    },
    {
     "data": {
      "application/vnd.jupyter.widget-view+json": {
       "model_id": "fe045936918348efbea3af3bd06a13ae",
       "version_major": 2,
       "version_minor": 0
      },
      "text/plain": [
       "HBox(children=(IntProgress(value=0, max=10), HTML(value='')))"
      ]
     },
     "metadata": {},
     "output_type": "display_data"
    },
    {
     "name": "stdout",
     "output_type": "stream",
     "text": [
      "0.0065640457360261785\n",
      "\n"
     ]
    },
    {
     "data": {
      "application/vnd.jupyter.widget-view+json": {
       "model_id": "f604f2e23830470195b4013281053b35",
       "version_major": 2,
       "version_minor": 0
      },
      "text/plain": [
       "HBox(children=(IntProgress(value=0, max=60000), HTML(value='')))"
      ]
     },
     "metadata": {},
     "output_type": "display_data"
    },
    {
     "name": "stdout",
     "output_type": "stream",
     "text": [
      "\n"
     ]
    },
    {
     "data": {
      "application/vnd.jupyter.widget-view+json": {
       "model_id": "7ec63ccb036a4f6babefd859bc47be41",
       "version_major": 2,
       "version_minor": 0
      },
      "text/plain": [
       "HBox(children=(IntProgress(value=0, max=10), HTML(value='')))"
      ]
     },
     "metadata": {},
     "output_type": "display_data"
    },
    {
     "name": "stdout",
     "output_type": "stream",
     "text": [
      "0.006473711988444342\n",
      "\n"
     ]
    },
    {
     "data": {
      "application/vnd.jupyter.widget-view+json": {
       "model_id": "9f1ff5e0461647729e27bab68137fc19",
       "version_major": 2,
       "version_minor": 0
      },
      "text/plain": [
       "HBox(children=(IntProgress(value=0, max=60000), HTML(value='')))"
      ]
     },
     "metadata": {},
     "output_type": "display_data"
    },
    {
     "name": "stdout",
     "output_type": "stream",
     "text": [
      "\n"
     ]
    },
    {
     "data": {
      "application/vnd.jupyter.widget-view+json": {
       "model_id": "b2852e97826a46eba84d2bfd237c0382",
       "version_major": 2,
       "version_minor": 0
      },
      "text/plain": [
       "HBox(children=(IntProgress(value=0, max=10), HTML(value='')))"
      ]
     },
     "metadata": {},
     "output_type": "display_data"
    },
    {
     "name": "stdout",
     "output_type": "stream",
     "text": [
      "0.006046719766957037\n",
      "\n"
     ]
    },
    {
     "data": {
      "application/vnd.jupyter.widget-view+json": {
       "model_id": "b54c4163280e40ddb51d53432ae21ccd",
       "version_major": 2,
       "version_minor": 0
      },
      "text/plain": [
       "HBox(children=(IntProgress(value=0, max=60000), HTML(value='')))"
      ]
     },
     "metadata": {},
     "output_type": "display_data"
    },
    {
     "name": "stdout",
     "output_type": "stream",
     "text": [
      "\n"
     ]
    },
    {
     "data": {
      "application/vnd.jupyter.widget-view+json": {
       "model_id": "506d9d41a39d44bc9ad8f1039aa6c570",
       "version_major": 2,
       "version_minor": 0
      },
      "text/plain": [
       "HBox(children=(IntProgress(value=0, max=10), HTML(value='')))"
      ]
     },
     "metadata": {},
     "output_type": "display_data"
    },
    {
     "name": "stdout",
     "output_type": "stream",
     "text": [
      "0.005634716291807656\n",
      "\n"
     ]
    },
    {
     "data": {
      "application/vnd.jupyter.widget-view+json": {
       "model_id": "cb3306f00fc84fb3b4832fd92ddcae7a",
       "version_major": 2,
       "version_minor": 0
      },
      "text/plain": [
       "HBox(children=(IntProgress(value=0, max=60000), HTML(value='')))"
      ]
     },
     "metadata": {},
     "output_type": "display_data"
    },
    {
     "name": "stdout",
     "output_type": "stream",
     "text": [
      "\n"
     ]
    },
    {
     "data": {
      "application/vnd.jupyter.widget-view+json": {
       "model_id": "9412eccb3ec14a229993c76647f0e698",
       "version_major": 2,
       "version_minor": 0
      },
      "text/plain": [
       "HBox(children=(IntProgress(value=0, max=10), HTML(value='')))"
      ]
     },
     "metadata": {},
     "output_type": "display_data"
    },
    {
     "name": "stdout",
     "output_type": "stream",
     "text": [
      "0.005198782447873531\n",
      "\n"
     ]
    },
    {
     "data": {
      "application/vnd.jupyter.widget-view+json": {
       "model_id": "e33af502a0cb4ab69b6ed0b41256dd94",
       "version_major": 2,
       "version_minor": 0
      },
      "text/plain": [
       "HBox(children=(IntProgress(value=0, max=60000), HTML(value='')))"
      ]
     },
     "metadata": {},
     "output_type": "display_data"
    },
    {
     "name": "stdout",
     "output_type": "stream",
     "text": [
      "\n"
     ]
    },
    {
     "data": {
      "application/vnd.jupyter.widget-view+json": {
       "model_id": "274e445e874c4997a6b9921d656cea82",
       "version_major": 2,
       "version_minor": 0
      },
      "text/plain": [
       "HBox(children=(IntProgress(value=0, max=10), HTML(value='')))"
      ]
     },
     "metadata": {},
     "output_type": "display_data"
    },
    {
     "name": "stdout",
     "output_type": "stream",
     "text": [
      "0.0047480644082287275\n",
      "\n"
     ]
    },
    {
     "data": {
      "application/vnd.jupyter.widget-view+json": {
       "model_id": "bf52518e5ff24c3dafbef9b2ba13aa65",
       "version_major": 2,
       "version_minor": 0
      },
      "text/plain": [
       "HBox(children=(IntProgress(value=0, max=60000), HTML(value='')))"
      ]
     },
     "metadata": {},
     "output_type": "display_data"
    },
    {
     "name": "stdout",
     "output_type": "stream",
     "text": [
      "\n"
     ]
    },
    {
     "data": {
      "application/vnd.jupyter.widget-view+json": {
       "model_id": "a5ca864ed4bd4aeb8f2cc2ba15ed637a",
       "version_major": 2,
       "version_minor": 0
      },
      "text/plain": [
       "HBox(children=(IntProgress(value=0, max=10), HTML(value='')))"
      ]
     },
     "metadata": {},
     "output_type": "display_data"
    },
    {
     "name": "stdout",
     "output_type": "stream",
     "text": [
      "0.004298134228997266\n",
      "\n"
     ]
    },
    {
     "data": {
      "application/vnd.jupyter.widget-view+json": {
       "model_id": "e96110a146d24c79b6e9e9f9a817c947",
       "version_major": 2,
       "version_minor": 0
      },
      "text/plain": [
       "HBox(children=(IntProgress(value=0, max=60000), HTML(value='')))"
      ]
     },
     "metadata": {},
     "output_type": "display_data"
    },
    {
     "name": "stdout",
     "output_type": "stream",
     "text": [
      "\n"
     ]
    },
    {
     "data": {
      "application/vnd.jupyter.widget-view+json": {
       "model_id": "9275683683e647b882dfb302916fbdf0",
       "version_major": 2,
       "version_minor": 0
      },
      "text/plain": [
       "HBox(children=(IntProgress(value=0, max=10), HTML(value='')))"
      ]
     },
     "metadata": {},
     "output_type": "display_data"
    },
    {
     "name": "stdout",
     "output_type": "stream",
     "text": [
      "0.0038671425187720423\n",
      "\n"
     ]
    },
    {
     "data": {
      "application/vnd.jupyter.widget-view+json": {
       "model_id": "4ef0156d3bdb4ea0a3589a00bff39457",
       "version_major": 2,
       "version_minor": 0
      },
      "text/plain": [
       "HBox(children=(IntProgress(value=0, max=60000), HTML(value='')))"
      ]
     },
     "metadata": {},
     "output_type": "display_data"
    },
    {
     "name": "stdout",
     "output_type": "stream",
     "text": [
      "\n"
     ]
    },
    {
     "data": {
      "application/vnd.jupyter.widget-view+json": {
       "model_id": "a8781425f8fd43bcb60444be47a94be8",
       "version_major": 2,
       "version_minor": 0
      },
      "text/plain": [
       "HBox(children=(IntProgress(value=0, max=10), HTML(value='')))"
      ]
     },
     "metadata": {},
     "output_type": "display_data"
    },
    {
     "name": "stdout",
     "output_type": "stream",
     "text": [
      "0.0034669605168538113\n",
      "\n"
     ]
    },
    {
     "data": {
      "application/vnd.jupyter.widget-view+json": {
       "model_id": "a561c60e10ba49ef83677424a6463bef",
       "version_major": 2,
       "version_minor": 0
      },
      "text/plain": [
       "HBox(children=(IntProgress(value=0, max=60000), HTML(value='')))"
      ]
     },
     "metadata": {},
     "output_type": "display_data"
    },
    {
     "name": "stdout",
     "output_type": "stream",
     "text": [
      "\n"
     ]
    },
    {
     "data": {
      "application/vnd.jupyter.widget-view+json": {
       "model_id": "1eaecf1eee094450bf0d529a22eefc40",
       "version_major": 2,
       "version_minor": 0
      },
      "text/plain": [
       "HBox(children=(IntProgress(value=0, max=10), HTML(value='')))"
      ]
     },
     "metadata": {},
     "output_type": "display_data"
    },
    {
     "name": "stdout",
     "output_type": "stream",
     "text": [
      "0.003102673130627031\n",
      "\n"
     ]
    },
    {
     "data": {
      "application/vnd.jupyter.widget-view+json": {
       "model_id": "7443ff60a14740dda1ff0b9685edf98c",
       "version_major": 2,
       "version_minor": 0
      },
      "text/plain": [
       "HBox(children=(IntProgress(value=0, max=60000), HTML(value='')))"
      ]
     },
     "metadata": {},
     "output_type": "display_data"
    },
    {
     "name": "stdout",
     "output_type": "stream",
     "text": [
      "\n"
     ]
    },
    {
     "data": {
      "application/vnd.jupyter.widget-view+json": {
       "model_id": "c5657161e3934225a427d5e9fdc2610b",
       "version_major": 2,
       "version_minor": 0
      },
      "text/plain": [
       "HBox(children=(IntProgress(value=0, max=10), HTML(value='')))"
      ]
     },
     "metadata": {},
     "output_type": "display_data"
    },
    {
     "name": "stdout",
     "output_type": "stream",
     "text": [
      "0.002775271032163038\n",
      "\n"
     ]
    },
    {
     "data": {
      "application/vnd.jupyter.widget-view+json": {
       "model_id": "9225f493c3a04d8fa0125b5b5977d4f2",
       "version_major": 2,
       "version_minor": 0
      },
      "text/plain": [
       "HBox(children=(IntProgress(value=0, max=60000), HTML(value='')))"
      ]
     },
     "metadata": {},
     "output_type": "display_data"
    },
    {
     "name": "stdout",
     "output_type": "stream",
     "text": [
      "\n"
     ]
    },
    {
     "data": {
      "application/vnd.jupyter.widget-view+json": {
       "model_id": "6170cafc8e8f44d0b5cc45bb4f8bb600",
       "version_major": 2,
       "version_minor": 0
      },
      "text/plain": [
       "HBox(children=(IntProgress(value=0, max=10), HTML(value='')))"
      ]
     },
     "metadata": {},
     "output_type": "display_data"
    },
    {
     "name": "stdout",
     "output_type": "stream",
     "text": [
      "0.0024835590196581026\n",
      "\n"
     ]
    },
    {
     "data": {
      "application/vnd.jupyter.widget-view+json": {
       "model_id": "6277eaa08ef047e0b33f8bf48d22ab79",
       "version_major": 2,
       "version_minor": 0
      },
      "text/plain": [
       "HBox(children=(IntProgress(value=0, max=60000), HTML(value='')))"
      ]
     },
     "metadata": {},
     "output_type": "display_data"
    },
    {
     "name": "stdout",
     "output_type": "stream",
     "text": [
      "\n"
     ]
    },
    {
     "data": {
      "application/vnd.jupyter.widget-view+json": {
       "model_id": "4d75810da45c45a5904b4cc84fa4d7f7",
       "version_major": 2,
       "version_minor": 0
      },
      "text/plain": [
       "HBox(children=(IntProgress(value=0, max=10), HTML(value='')))"
      ]
     },
     "metadata": {},
     "output_type": "display_data"
    },
    {
     "name": "stdout",
     "output_type": "stream",
     "text": [
      "0.0022253086953990483\n",
      "\n"
     ]
    },
    {
     "data": {
      "application/vnd.jupyter.widget-view+json": {
       "model_id": "3f8278a3dbe44ad28978b3b91858bafc",
       "version_major": 2,
       "version_minor": 0
      },
      "text/plain": [
       "HBox(children=(IntProgress(value=0, max=60000), HTML(value='')))"
      ]
     },
     "metadata": {},
     "output_type": "display_data"
    },
    {
     "name": "stdout",
     "output_type": "stream",
     "text": [
      "\n"
     ]
    },
    {
     "data": {
      "application/vnd.jupyter.widget-view+json": {
       "model_id": "84637e0ff0b940faa096a9e7538ab975",
       "version_major": 2,
       "version_minor": 0
      },
      "text/plain": [
       "HBox(children=(IntProgress(value=0, max=10), HTML(value='')))"
      ]
     },
     "metadata": {},
     "output_type": "display_data"
    },
    {
     "name": "stdout",
     "output_type": "stream",
     "text": [
      "0.001997980164328339\n",
      "\n"
     ]
    },
    {
     "data": {
      "application/vnd.jupyter.widget-view+json": {
       "model_id": "ab4f89601c204730ad8da6c9b2c5ebb4",
       "version_major": 2,
       "version_minor": 0
      },
      "text/plain": [
       "HBox(children=(IntProgress(value=0, max=60000), HTML(value='')))"
      ]
     },
     "metadata": {},
     "output_type": "display_data"
    },
    {
     "name": "stdout",
     "output_type": "stream",
     "text": [
      "\n"
     ]
    },
    {
     "data": {
      "application/vnd.jupyter.widget-view+json": {
       "model_id": "0688432403d046d5b190f656f40d3894",
       "version_major": 2,
       "version_minor": 0
      },
      "text/plain": [
       "HBox(children=(IntProgress(value=0, max=10), HTML(value='')))"
      ]
     },
     "metadata": {},
     "output_type": "display_data"
    },
    {
     "name": "stdout",
     "output_type": "stream",
     "text": [
      "0.0017991756577878674\n",
      "\n"
     ]
    },
    {
     "data": {
      "application/vnd.jupyter.widget-view+json": {
       "model_id": "8404fdf86c6f47e3ad40ffe33b918569",
       "version_major": 2,
       "version_minor": 0
      },
      "text/plain": [
       "HBox(children=(IntProgress(value=0, max=60000), HTML(value='')))"
      ]
     },
     "metadata": {},
     "output_type": "display_data"
    },
    {
     "name": "stdout",
     "output_type": "stream",
     "text": [
      "\n"
     ]
    },
    {
     "data": {
      "application/vnd.jupyter.widget-view+json": {
       "model_id": "d297c240060647f4b6003bc343526f8a",
       "version_major": 2,
       "version_minor": 0
      },
      "text/plain": [
       "HBox(children=(IntProgress(value=0, max=10), HTML(value='')))"
      ]
     },
     "metadata": {},
     "output_type": "display_data"
    },
    {
     "name": "stdout",
     "output_type": "stream",
     "text": [
      "0.0016269395171545854\n",
      "\n"
     ]
    },
    {
     "data": {
      "application/vnd.jupyter.widget-view+json": {
       "model_id": "5d11f461da8d4f3ab4b13b23ac459dbf",
=======
   "execution_count": null,
   "metadata": {},
   "outputs": [
    {
     "data": {
      "application/vnd.jupyter.widget-view+json": {
       "model_id": "f718d3ea48f5437c8d3786ced9c71328",
>>>>>>> 7d3acfb81e3049b404ab37118874607489051b98
       "version_major": 2,
       "version_minor": 0
      },
      "text/plain": [
       "HBox(children=(IntProgress(value=0, max=60000), HTML(value='')))"
      ]
     },
     "metadata": {},
     "output_type": "display_data"
<<<<<<< HEAD
    },
    {
     "name": "stdout",
     "output_type": "stream",
     "text": [
      "\n"
     ]
    },
    {
     "data": {
      "application/vnd.jupyter.widget-view+json": {
       "model_id": "097f0f69a7af43b1923082427407dea7",
       "version_major": 2,
       "version_minor": 0
      },
      "text/plain": [
       "HBox(children=(IntProgress(value=0, max=10), HTML(value='')))"
      ]
     },
     "metadata": {},
     "output_type": "display_data"
    },
    {
     "name": "stdout",
     "output_type": "stream",
     "text": [
      "0.0014799741038355474\n",
      "\n"
     ]
    },
    {
     "data": {
      "application/vnd.jupyter.widget-view+json": {
       "model_id": "3e680341cd6a436aa789fc8f43235ea2",
=======
    }
   ],
   "source": [
    "mu, pi, r = EM(X, mu, pi, r)"
   ]
  },
  {
   "cell_type": "code",
   "execution_count": 23,
   "metadata": {},
   "outputs": [
    {
     "data": {
      "application/vnd.jupyter.widget-view+json": {
       "model_id": "3b655c4ee2a04f17b38d7e8f7c3d8f7c",
>>>>>>> 7d3acfb81e3049b404ab37118874607489051b98
       "version_major": 2,
       "version_minor": 0
      },
      "text/plain": [
       "HBox(children=(IntProgress(value=0, max=60000), HTML(value='')))"
      ]
     },
     "metadata": {},
     "output_type": "display_data"
<<<<<<< HEAD
    },
    {
     "name": "stdout",
     "output_type": "stream",
     "text": [
      "\n"
     ]
    },
    {
     "data": {
      "application/vnd.jupyter.widget-view+json": {
       "model_id": "4a9a49afdc3741bfa5982bb53cf2e8ab",
       "version_major": 2,
       "version_minor": 0
      },
      "text/plain": [
       "HBox(children=(IntProgress(value=0, max=10), HTML(value='')))"
      ]
     },
     "metadata": {},
     "output_type": "display_data"
    },
    {
     "name": "stdout",
     "output_type": "stream",
     "text": [
      "0.0013577385073864194\n",
      "\n"
     ]
    }
   ],
   "source": [
    "mu, pi, r = EM(X, mu, pi, r)"
   ]
  },
  {
   "cell_type": "code",
   "execution_count": 11,
   "metadata": {},
   "outputs": [],
   "source": [
=======
    }
   ],
   "source": [
>>>>>>> 7d3acfb81e3049b404ab37118874607489051b98
    "y_pred = EM_inference(X, mu, pi)"
   ]
  },
  {
   "cell_type": "code",
<<<<<<< HEAD
   "execution_count": null,
   "metadata": {},
   "outputs": [],
=======
   "execution_count": 37,
   "metadata": {},
   "outputs": [
    {
     "name": "stdout",
     "output_type": "stream",
     "text": [
      "y_real [5923, 6742, 5958, 6131, 5842, 5421, 5918, 6265, 5851, 5949]\n",
      "y_pred [9748, 8516, 7851, 7728, 2, 5648, 3696, 3430, 8329, 5052]\n",
      "\n",
      "Confusion Matrix(row:y_pred, col:y_true)\n",
      "[[   8    9   24   69 2229  247    2 4043  304 2813]\n",
      " [   6 6340  262  377  116  112  313  283  528  179]\n",
      " [ 695  310  184  773  280 2449  375  101 2577  107]\n",
      " [ 351   21  243 3590    4 1571   62    7 1783   96]\n",
      " [   0    0    0    0    0    0    0    0    2    0]\n",
      " [ 110   22  302   53  123   83 4917    6   28    4]\n",
      " [3523    0   39   18    7   37   41    6    9   16]\n",
      " [1210    1  139  750   51  671  154   15  380   59]\n",
      " [  13   16  179  220 2989  235   37 1763  208 2669]\n",
      " [   7   23 4586  281   43   16   17   41   32    6]]\n"
     ]
    }
   ],
>>>>>>> 7d3acfb81e3049b404ab37118874607489051b98
   "source": [
    "from sklearn.metrics import confusion_matrix\n",
    "\n",
    "count_y = [np.count_nonzero(Y == i) for i in range(10)]\n",
    "count_y_pred = [np.count_nonzero(y_pred == i) for i in range(num_cluster)]\n",
<<<<<<< HEAD
    "print(count_y)\n",
    "print(count_y_pred)\n",
    "\n",
    "print(confusion_matrix(y_pred, Y))"
=======
    "print('y_real', count_y)\n",
    "print('y_pred', count_y_pred)\n",
    "print('\\nConfusion Matrix(row:y_pred, col:y_true)')\n",
    "print(confusion_matrix(y_pred, Y, labels=[i for i in range(10)]))"
>>>>>>> 7d3acfb81e3049b404ab37118874607489051b98
   ]
  },
  {
   "cell_type": "code",
<<<<<<< HEAD
   "execution_count": null,
   "metadata": {},
   "outputs": [],
=======
   "execution_count": 25,
   "metadata": {},
   "outputs": [
    {
     "name": "stdout",
     "output_type": "stream",
     "text": [
      "(60000, 10)\n",
      "(10, 784)\n"
     ]
    }
   ],
>>>>>>> 7d3acfb81e3049b404ab37118874607489051b98
   "source": [
    "print(r.shape)\n",
    "print(mu.shape)"
   ]
  },
  {
   "cell_type": "code",
<<<<<<< HEAD
   "execution_count": null,
=======
   "execution_count": 26,
>>>>>>> 7d3acfb81e3049b404ab37118874607489051b98
   "metadata": {},
   "outputs": [],
   "source": [
    "# print(Nk)\n",
    "# print(Nk.sum())\n",
    "# print(Nk/Nk.sum())"
   ]
  },
  {
   "cell_type": "code",
<<<<<<< HEAD
   "execution_count": null,
   "metadata": {},
   "outputs": [],
=======
   "execution_count": 27,
   "metadata": {},
   "outputs": [
    {
     "name": "stdout",
     "output_type": "stream",
     "text": [
      "1.0\n",
      "0.0\n"
     ]
    }
   ],
>>>>>>> 7d3acfb81e3049b404ab37118874607489051b98
   "source": [
    "print(mu.max())\n",
    "print(mu.min())"
   ]
  },
  {
   "cell_type": "code",
<<<<<<< HEAD
   "execution_count": null,
   "metadata": {},
   "outputs": [],
=======
   "execution_count": 28,
   "metadata": {},
   "outputs": [
    {
     "data": {
      "image/png": "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\n",
      "text/plain": [
       "<Figure size 432x288 with 10 Axes>"
      ]
     },
     "metadata": {},
     "output_type": "display_data"
    }
   ],
>>>>>>> 7d3acfb81e3049b404ab37118874607489051b98
   "source": [
    "for i in range(num_cluster):\n",
    "    plt.subplot(2,5,i+1)\n",
    "    p = mu[i].reshape((28,28))\n",
    "    plt.imshow(p, cmap='gray'), plt.xticks([]), plt.yticks([])\n",
    "plt.show()"
   ]
  },
  {
   "cell_type": "code",
   "execution_count": null,
   "metadata": {},
   "outputs": [],
   "source": []
  }
 ],
 "metadata": {
  "kernelspec": {
   "display_name": "Python 3",
   "language": "python",
   "name": "python3"
  },
  "language_info": {
   "codemirror_mode": {
    "name": "ipython",
    "version": 3
   },
   "file_extension": ".py",
   "mimetype": "text/x-python",
   "name": "python",
   "nbconvert_exporter": "python",
   "pygments_lexer": "ipython3",
<<<<<<< HEAD
   "version": "3.6.0"
=======
   "version": "3.6.5"
>>>>>>> 7d3acfb81e3049b404ab37118874607489051b98
  }
 },
 "nbformat": 4,
 "nbformat_minor": 2
}
