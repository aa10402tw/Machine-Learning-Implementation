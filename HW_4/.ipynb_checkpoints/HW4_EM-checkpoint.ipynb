{
 "cells": [
  {
   "cell_type": "code",
   "execution_count": 1,
   "metadata": {},
   "outputs": [],
   "source": [
    "from numpy.linalg import inv\n",
    "import numpy as np\n",
    "import matplotlib.pyplot as plt\n",
    "import math\n",
    "from math import e\n",
    "from math import log\n",
    "from numpy import linalg\n",
    "import sys\n",
    "import sympy\n",
    "from sympy import *\n",
    "from IPython.display import display, HTML\n",
    "import random\n",
    "from math import log\n",
    "from math import exp\n",
    "\n",
    "%matplotlib inline\n",
    "%config IPCompleter.greedy=True\n",
    "sympy.init_printing(use_unicode=False, wrap_line=True)\n",
    "np.set_printoptions(suppress=True)\n",
    "\n",
    "from utils import *"
   ]
  },
  {
   "cell_type": "code",
   "execution_count": 2,
   "metadata": {},
   "outputs": [
    {
     "name": "stdout",
     "output_type": "stream",
     "text": [
      "Load Data... Finish!\n"
     ]
    }
   ],
   "source": [
    "# Load mnist data\n",
    "print('Load Data...', end=' ')\n",
    "imgs_train, labels_train = load_mnist(train=True)\n",
    "imgs_test, labels_test = load_mnist(train=False)\n",
    "\n",
    "# Change Image to Feature Vector\n",
    "X_train, Y_train = img_to_vector(imgs_train), labels_train\n",
    "X_test, Y_test = img_to_vector(imgs_test), labels_test\n",
    "\n",
    "print('Finish!')"
   ]
  },
  {
   "cell_type": "code",
   "execution_count": 3,
   "metadata": {},
   "outputs": [
    {
     "name": "stdout",
     "output_type": "stream",
     "text": [
      "(60000, 784)\n",
      "255.0\n"
     ]
    }
   ],
   "source": [
    "print(X_train.shape)\n",
    "print(max(X_train[0]))"
   ]
  },
  {
   "cell_type": "code",
   "execution_count": 4,
   "metadata": {},
   "outputs": [],
   "source": [
    "# E-Step : Compute the probabilities of cluster assignment (r_ik)\n",
    "# M-step : Update parameters mu, pi givn r \n",
    "\n",
    "# X = [[x_11...x_1d], ..., [x_n1...x_nd]] where x_ij = 0/1 (success/fail)\n",
    "# mu : [mu_1...mu_k] where mu_i is the vector of prob of success for cluster k , mu_i's shape = (1, D)\n",
    "# pi : [pi_1 ... pi_k] where pi_i is the prob to draw cluster k\n",
    "# r_iK : the prob(expectation) that Xi belong to cluster k\n",
    "# Zi : [z_i1, ..., z_ik] binary k=dim data(assign to cluster k)"
   ]
  },
  {
   "cell_type": "markdown",
   "metadata": {},
   "source": [
    "![title](formula.PNG)"
   ]
  },
  {
   "cell_type": "code",
<<<<<<< HEAD
   "execution_count": 5,
=======
   "execution_count": 19,
>>>>>>> 7d3acfb81e3049b404ab37118874607489051b98
   "metadata": {},
   "outputs": [
    {
     "name": "stdout",
     "output_type": "stream",
     "text": [
      "255.0\n",
      "0.0\n"
     ]
    }
   ],
   "source": [
    "num_cluster = 10\n",
<<<<<<< HEAD
    "K = num_cluster\n",
    "X = np.copy(X_train)[:]\n",
    "Y = np.copy(Y_train)[:]\n",
=======
    "num_data_to_train = 60000\n",
    "K = num_cluster\n",
    "X = np.copy(X_train)[:num_data_to_train]\n",
    "Y = np.copy(Y_train)[:num_data_to_train]\n",
>>>>>>> 7d3acfb81e3049b404ab37118874607489051b98
    "N, D = X.shape\n",
    "# init parameters mu & pi\n",
    "mu = np.random.random((K, D))\n",
    "pi = np.random.random((K, 1)) \n",
    "pi = pi / pi.sum()\n",
    "r = np.zeros((N,K))\n",
    "print(X.max())\n",
    "print(X.min())"
   ]
  },
  {
   "cell_type": "code",
<<<<<<< HEAD
   "execution_count": 6,
=======
   "execution_count": 20,
>>>>>>> 7d3acfb81e3049b404ab37118874607489051b98
   "metadata": {},
   "outputs": [
    {
     "name": "stdout",
     "output_type": "stream",
     "text": [
      "1.0\n",
      "0.0\n"
     ]
    }
   ],
   "source": [
    "# 0~255 to 0 or 1\n",
    "X[X<128.0] = 0\n",
    "X[X>=128.0] = 1\n",
    "print(X.max())\n",
    "print(X.min())"
   ]
  },
  {
   "cell_type": "code",
<<<<<<< HEAD
   "execution_count": 9,
=======
   "execution_count": 21,
>>>>>>> 7d3acfb81e3049b404ab37118874607489051b98
   "metadata": {},
   "outputs": [],
   "source": [
    "from numpy import prod\n",
    "from tqdm import tqdm_notebook as tqdm\n",
    "import time\n",
    "def L2distance(A,B):\n",
    "    A = A.reshape(prod(A.shape))\n",
    "    B = B.reshape(prod(B.shape))\n",
    "    dis = math.sqrt(np.dot(A-B, A-B))\n",
    "    return dis\n",
    "\n",
    "def EM(X, mu, pi, r, max_iter=100):\n",
    "    \n",
    "    N, D = X.shape\n",
    "    K, _ = mu.shape\n",
    "    \n",
    "    new_mu = np.copy(mu)\n",
    "    \n",
    "    \n",
    "    for it in range(max_iter):\n",
    "        # E-Step : Compute the probabilities of cluster assignment (r_ik)\n",
    "        pbar = tqdm(total=N, unit='instance') # for progress bar\n",
    "        pbar.set_description('E-Step(iteration %d)' % (it)) # for progress bar\n",
    "        for i in range(N):\n",
    "            for k in range(K):\n",
    "                r[i][k] = log(pi[k]) # Log scale\n",
    "                for d in range(D):\n",
    "                    xid = X[i][d]\n",
    "                    try:\n",
    "                        r[i][k] += log((mu[k][d]**xid) * ((1-mu[k][d])**(1-xid))+1e-7)\n",
    "                    except:\n",
    "                        print('domain error')\n",
    "                        print(mu[k][d], xid)\n",
    "                        print((mu[k][d]**xid) * ((1-mu[k][d])**(1-xid)))\n",
    "            r[i] -= r[i].max()\n",
    "            r[i] = np.exp(r[i]) # Exp, back to origin scale\n",
    "            r[i] = r[i] / r[i].sum() # normalize to 1 \n",
    "            \n",
    "            pbar.update() # for progress bar\n",
<<<<<<< HEAD
    "        Nk = r.sum(axis=0)  # prob to draw k-th cluster\n",
=======
    "        Nk = r.sum(axis=0)  # prob to draw from k-th cluster\n",
>>>>>>> 7d3acfb81e3049b404ab37118874607489051b98
    "        pi = Nk/Nk.sum()\n",
    "        pbar.close() # for progress bar\n",
    "        time.sleep(1) # for progress bar\n",
    "        # M-step : Update parameters mu, pi givn r \n",
    "        pbar = tqdm(total=K, unit='cluster') # for progress bar\n",
    "        pbar.set_description('M-Step(iteration %d)' % (it)) # for progress bar\n",
    "        for k in range(K):\n",
    "            mu_k = 0\n",
    "            for i in range(N):\n",
    "                mu_k += r[i][k] * X[i]\n",
    "            new_mu[k] = mu_k / Nk[k]\n",
    "            pbar.update() # for progress bar\n",
    "        diff = L2distance(new_mu, mu)\n",
    "        print('L2 Distance Between old & new mu : ', diff ) \n",
    "        mu = np.copy(new_mu)\n",
<<<<<<< HEAD
    "        if diff < 1e-5:\n",
=======
    "        if diff < 1:\n",
>>>>>>> 7d3acfb81e3049b404ab37118874607489051b98
    "            print('converge after %d iteration'%(it))\n",
    "            break\n",
    "        pbar.close() # for progress bar\n",
    "        time.sleep(1) # for progress bar\n",
    "    return mu, pi, r\n",
    "\n",
    "def EM_inference(X, mu, pi):\n",
    "    N, D = X.shape\n",
    "    K, _ = mu.shape\n",
    "    y_pred = np.zeros((N,))\n",
    "    pbar = tqdm(total=N, unit='instance') # for progress bar\n",
<<<<<<< HEAD
    "    pbar.set_description('E-Step(iteration %d)' % (it)) # for progress bar\n",
    "    for i in range(N):\n",
    "        \n",
=======
    "    for i in range(N):\n",
>>>>>>> 7d3acfb81e3049b404ab37118874607489051b98
    "        for k in range(K):\n",
    "            r[i][k] = log(pi[k]) # Log scale\n",
    "            for d in range(D):\n",
    "                xid = X[i][d]\n",
    "                try:\n",
    "                    r[i][k] += log((mu[k][d]**xid) * ((1-mu[k][d])**(1-xid))+1e-7)\n",
    "                except:\n",
    "                    print('domain error')\n",
    "                    print(mu[k][d], xid)\n",
    "                    print((mu[k][d]**xid) * ((1-mu[k][d])**(1-xid)))\n",
    "#         print(r[i])\n",
    "        y_pred[i] = np.argmax(r[i]) \n",
    "        pbar.update() # for progress bar\n",
    "    pbar.close() # for progress bar\n",
    "    time.sleep(1) # for progress bar\n",
    "    return y_pred"
   ]
  },
  {
   "cell_type": "code",
<<<<<<< HEAD
   "execution_count": 10,
   "metadata": {},
   "outputs": [
    {
     "data": {
      "application/vnd.jupyter.widget-view+json": {
       "model_id": "b5c446330dc9442bbfb864334f30be3d",
       "version_major": 2,
       "version_minor": 0
      },
      "text/plain": [
       "HBox(children=(IntProgress(value=0, max=60000), HTML(value='')))"
      ]
     },
     "metadata": {},
     "output_type": "display_data"
    },
    {
     "name": "stdout",
     "output_type": "stream",
     "text": [
      "\n"
     ]
    },
    {
     "data": {
      "application/vnd.jupyter.widget-view+json": {
       "model_id": "ce07c5db825f449a80390bb9f4642b76",
       "version_major": 2,
       "version_minor": 0
      },
      "text/plain": [
       "HBox(children=(IntProgress(value=0, max=10), HTML(value='')))"
      ]
     },
     "metadata": {},
     "output_type": "display_data"
    },
    {
     "name": "stdout",
     "output_type": "stream",
     "text": [
      "44.08816238557957\n",
      "\n"
     ]
    },
    {
     "data": {
      "application/vnd.jupyter.widget-view+json": {
       "model_id": "564875bf33ff478da1a924685c744d52",
       "version_major": 2,
       "version_minor": 0
      },
      "text/plain": [
       "HBox(children=(IntProgress(value=0, max=60000), HTML(value='')))"
      ]
     },
     "metadata": {},
     "output_type": "display_data"
    },
    {
     "name": "stdout",
     "output_type": "stream",
     "text": [
      "\n"
     ]
    },
    {
     "data": {
      "application/vnd.jupyter.widget-view+json": {
       "model_id": "842dd8c1fca342ef9250bdcdb18617f6",
       "version_major": 2,
       "version_minor": 0
      },
      "text/plain": [
       "HBox(children=(IntProgress(value=0, max=10), HTML(value='')))"
      ]
     },
     "metadata": {},
     "output_type": "display_data"
    },
    {
     "name": "stdout",
     "output_type": "stream",
     "text": [
      "7.6151550469241975\n",
      "\n"
     ]
    },
    {
     "data": {
      "application/vnd.jupyter.widget-view+json": {
       "model_id": "3152f5cfb8914b4cb5badd3d89f4afed",
       "version_major": 2,
       "version_minor": 0
      },
      "text/plain": [
       "HBox(children=(IntProgress(value=0, max=60000), HTML(value='')))"
      ]
     },
     "metadata": {},
     "output_type": "display_data"
    },
    {
     "name": "stdout",
     "output_type": "stream",
     "text": [
      "\n"
     ]
    },
    {
     "data": {
      "application/vnd.jupyter.widget-view+json": {
       "model_id": "cee71168cfdb4cd3b7d07adc62f105f1",
       "version_major": 2,
       "version_minor": 0
      },
      "text/plain": [
       "HBox(children=(IntProgress(value=0, max=10), HTML(value='')))"
      ]
     },
     "metadata": {},
     "output_type": "display_data"
    },
    {
     "name": "stdout",
     "output_type": "stream",
     "text": [
      "4.834874767562426\n",
      "\n"
     ]
    },
    {
     "data": {
      "application/vnd.jupyter.widget-view+json": {
       "model_id": "2c2b0719bb684a8caa8ad5dc5798703f",
       "version_major": 2,
       "version_minor": 0
      },
      "text/plain": [
       "HBox(children=(IntProgress(value=0, max=60000), HTML(value='')))"
      ]
     },
     "metadata": {},
     "output_type": "display_data"
    },
    {
     "name": "stdout",
     "output_type": "stream",
     "text": [
      "\n"
     ]
    },
    {
     "data": {
      "application/vnd.jupyter.widget-view+json": {
       "model_id": "633471fe6f834302a7168b0814e7bee6",
       "version_major": 2,
       "version_minor": 0
      },
      "text/plain": [
       "HBox(children=(IntProgress(value=0, max=10), HTML(value='')))"
      ]
     },
     "metadata": {},
     "output_type": "display_data"
    },
    {
     "name": "stdout",
     "output_type": "stream",
     "text": [
      "3.4503743493086545\n",
      "\n"
     ]
    },
    {
     "data": {
      "application/vnd.jupyter.widget-view+json": {
       "model_id": "130f1cd5739c4e4f8a00549cf143474b",
       "version_major": 2,
       "version_minor": 0
      },
      "text/plain": [
       "HBox(children=(IntProgress(value=0, max=60000), HTML(value='')))"
      ]
     },
     "metadata": {},
     "output_type": "display_data"
    },
    {
     "name": "stdout",
     "output_type": "stream",
     "text": [
      "\n"
     ]
    },
    {
     "data": {
      "application/vnd.jupyter.widget-view+json": {
       "model_id": "540c30d98ae648ed9ed730cb3f6982de",
       "version_major": 2,
       "version_minor": 0
      },
      "text/plain": [
       "HBox(children=(IntProgress(value=0, max=10), HTML(value='')))"
      ]
     },
     "metadata": {},
     "output_type": "display_data"
    },
    {
     "name": "stdout",
     "output_type": "stream",
     "text": [
      "2.06743373221047\n",
      "\n"
     ]
    },
    {
     "data": {
      "application/vnd.jupyter.widget-view+json": {
       "model_id": "291d4b51da9e43f295ea6868fe2c8da1",
       "version_major": 2,
       "version_minor": 0
      },
      "text/plain": [
       "HBox(children=(IntProgress(value=0, max=60000), HTML(value='')))"
      ]
     },
     "metadata": {},
     "output_type": "display_data"
    },
    {
     "name": "stdout",
     "output_type": "stream",
     "text": [
      "\n"
     ]
    },
    {
     "data": {
      "application/vnd.jupyter.widget-view+json": {
       "model_id": "f2ad84e133be4e06a10189a0e97c9ffb",
       "version_major": 2,
       "version_minor": 0
      },
      "text/plain": [
       "HBox(children=(IntProgress(value=0, max=10), HTML(value='')))"
      ]
     },
     "metadata": {},
     "output_type": "display_data"
    },
    {
     "name": "stdout",
     "output_type": "stream",
     "text": [
      "1.3929488558055187\n",
      "\n"
     ]
    },
    {
     "data": {
      "application/vnd.jupyter.widget-view+json": {
       "model_id": "671806b1199f421e84a40a55fa8019b9",
       "version_major": 2,
       "version_minor": 0
      },
      "text/plain": [
       "HBox(children=(IntProgress(value=0, max=60000), HTML(value='')))"
      ]
     },
     "metadata": {},
     "output_type": "display_data"
    },
    {
     "name": "stdout",
     "output_type": "stream",
     "text": [
      "\n"
     ]
    },
    {
     "data": {
      "application/vnd.jupyter.widget-view+json": {
       "model_id": "e58245df62bc4e7ebaae8f8ba4bae0ca",
       "version_major": 2,
       "version_minor": 0
      },
      "text/plain": [
       "HBox(children=(IntProgress(value=0, max=10), HTML(value='')))"
      ]
     },
     "metadata": {},
     "output_type": "display_data"
    },
    {
     "name": "stdout",
     "output_type": "stream",
     "text": [
      "1.0004792232979052\n",
      "\n"
     ]
    },
    {
     "data": {
      "application/vnd.jupyter.widget-view+json": {
       "model_id": "2fc2600793cb453ca5a0cd92f054f223",
       "version_major": 2,
       "version_minor": 0
      },
      "text/plain": [
       "HBox(children=(IntProgress(value=0, max=60000), HTML(value='')))"
      ]
     },
     "metadata": {},
     "output_type": "display_data"
    },
    {
     "name": "stdout",
     "output_type": "stream",
     "text": [
      "\n"
     ]
    },
    {
     "data": {
      "application/vnd.jupyter.widget-view+json": {
       "model_id": "4c4edf9328154258aa4b705652cab201",
       "version_major": 2,
       "version_minor": 0
      },
      "text/plain": [
       "HBox(children=(IntProgress(value=0, max=10), HTML(value='')))"
      ]
     },
     "metadata": {},
     "output_type": "display_data"
    },
    {
     "name": "stdout",
     "output_type": "stream",
     "text": [
      "0.7793532219280064\n",
      "\n"
     ]
    },
    {
     "data": {
      "application/vnd.jupyter.widget-view+json": {
       "model_id": "9ec2e90b01604e49a14732544835c43b",
       "version_major": 2,
       "version_minor": 0
      },
      "text/plain": [
       "HBox(children=(IntProgress(value=0, max=60000), HTML(value='')))"
      ]
     },
     "metadata": {},
     "output_type": "display_data"
    },
    {
     "name": "stdout",
     "output_type": "stream",
     "text": [
      "\n"
     ]
    },
    {
     "data": {
      "application/vnd.jupyter.widget-view+json": {
       "model_id": "601856fa4aad4676afbebb1d8eab0694",
       "version_major": 2,
       "version_minor": 0
      },
      "text/plain": [
       "HBox(children=(IntProgress(value=0, max=10), HTML(value='')))"
      ]
     },
     "metadata": {},
     "output_type": "display_data"
    },
    {
     "name": "stdout",
     "output_type": "stream",
     "text": [
      "0.6760161484226596\n",
      "\n"
     ]
    },
    {
     "data": {
      "application/vnd.jupyter.widget-view+json": {
       "model_id": "3cb7298e6b7a48e59286147a072eabf8",
       "version_major": 2,
       "version_minor": 0
      },
      "text/plain": [
       "HBox(children=(IntProgress(value=0, max=60000), HTML(value='')))"
      ]
     },
     "metadata": {},
     "output_type": "display_data"
    },
    {
     "name": "stdout",
     "output_type": "stream",
     "text": [
      "\n"
     ]
    },
    {
     "data": {
      "application/vnd.jupyter.widget-view+json": {
       "model_id": "266613ce0ebe47ada1829a513285df3a",
       "version_major": 2,
       "version_minor": 0
      },
      "text/plain": [
       "HBox(children=(IntProgress(value=0, max=10), HTML(value='')))"
      ]
     },
     "metadata": {},
     "output_type": "display_data"
    },
    {
     "name": "stdout",
     "output_type": "stream",
     "text": [
      "0.6365821725327467\n",
      "\n"
     ]
    },
    {
     "data": {
      "application/vnd.jupyter.widget-view+json": {
       "model_id": "61f8d28b3d124a0999d70e4724df1551",
       "version_major": 2,
       "version_minor": 0
      },
      "text/plain": [
       "HBox(children=(IntProgress(value=0, max=60000), HTML(value='')))"
      ]
     },
     "metadata": {},
     "output_type": "display_data"
    },
    {
     "name": "stdout",
     "output_type": "stream",
     "text": [
      "\n"
     ]
    },
    {
     "data": {
      "application/vnd.jupyter.widget-view+json": {
       "model_id": "e4967494b2e3424db7e208aae6da7383",
       "version_major": 2,
       "version_minor": 0
      },
      "text/plain": [
       "HBox(children=(IntProgress(value=0, max=10), HTML(value='')))"
      ]
     },
     "metadata": {},
     "output_type": "display_data"
    },
    {
     "name": "stdout",
     "output_type": "stream",
     "text": [
      "0.6214602614789104\n",
      "\n"
     ]
    },
    {
     "data": {
      "application/vnd.jupyter.widget-view+json": {
       "model_id": "192a44589c7b412b930aa62c8a84449d",
       "version_major": 2,
       "version_minor": 0
      },
      "text/plain": [
       "HBox(children=(IntProgress(value=0, max=60000), HTML(value='')))"
      ]
     },
     "metadata": {},
     "output_type": "display_data"
    },
    {
     "name": "stdout",
     "output_type": "stream",
     "text": [
      "\n"
     ]
    },
    {
     "data": {
      "application/vnd.jupyter.widget-view+json": {
       "model_id": "1e3867adaf914a2cb28ee3740ed55b04",
       "version_major": 2,
       "version_minor": 0
      },
      "text/plain": [
       "HBox(children=(IntProgress(value=0, max=10), HTML(value='')))"
      ]
     },
     "metadata": {},
     "output_type": "display_data"
    },
    {
     "name": "stdout",
     "output_type": "stream",
     "text": [
      "0.6341445852757264\n",
      "\n"
     ]
    },
    {
     "data": {
      "application/vnd.jupyter.widget-view+json": {
       "model_id": "ef461b34f53943b8bac5645ee5fa50c7",
       "version_major": 2,
       "version_minor": 0
      },
      "text/plain": [
       "HBox(children=(IntProgress(value=0, max=60000), HTML(value='')))"
      ]
     },
     "metadata": {},
     "output_type": "display_data"
    },
    {
     "name": "stdout",
     "output_type": "stream",
     "text": [
      "\n"
     ]
    },
    {
     "data": {
      "application/vnd.jupyter.widget-view+json": {
       "model_id": "36803dddd2be4ac4825d73a9025c8669",
       "version_major": 2,
       "version_minor": 0
      },
      "text/plain": [
       "HBox(children=(IntProgress(value=0, max=10), HTML(value='')))"
      ]
     },
     "metadata": {},
     "output_type": "display_data"
    },
    {
     "name": "stdout",
     "output_type": "stream",
     "text": [
      "0.6545410978833524\n",
      "\n"
     ]
    },
    {
     "data": {
      "application/vnd.jupyter.widget-view+json": {
       "model_id": "2dbb445a5b214679890f4e2cafb42a0a",
       "version_major": 2,
       "version_minor": 0
      },
      "text/plain": [
       "HBox(children=(IntProgress(value=0, max=60000), HTML(value='')))"
      ]
     },
     "metadata": {},
     "output_type": "display_data"
    },
    {
     "name": "stdout",
     "output_type": "stream",
     "text": [
      "\n"
     ]
    },
    {
     "data": {
      "application/vnd.jupyter.widget-view+json": {
       "model_id": "0a2eca93c3b74891b5ea405cfd1ef08c",
       "version_major": 2,
       "version_minor": 0
      },
      "text/plain": [
       "HBox(children=(IntProgress(value=0, max=10), HTML(value='')))"
      ]
     },
     "metadata": {},
     "output_type": "display_data"
    },
    {
     "name": "stdout",
     "output_type": "stream",
     "text": [
      "0.6493978857886389\n",
      "\n"
     ]
    },
    {
     "data": {
      "application/vnd.jupyter.widget-view+json": {
       "model_id": "42ef84ce48ea4b1a90d63c5e40ccd4fc",
       "version_major": 2,
       "version_minor": 0
      },
      "text/plain": [
       "HBox(children=(IntProgress(value=0, max=60000), HTML(value='')))"
      ]
     },
     "metadata": {},
     "output_type": "display_data"
    },
    {
     "name": "stdout",
     "output_type": "stream",
     "text": [
      "\n"
     ]
    },
    {
     "data": {
      "application/vnd.jupyter.widget-view+json": {
       "model_id": "80a2caed764d44fab9d9e78f56ee2767",
       "version_major": 2,
       "version_minor": 0
      },
      "text/plain": [
       "HBox(children=(IntProgress(value=0, max=10), HTML(value='')))"
      ]
     },
     "metadata": {},
     "output_type": "display_data"
    },
    {
     "name": "stdout",
     "output_type": "stream",
     "text": [
      "0.5858376339875957\n",
      "\n"
     ]
    },
    {
     "data": {
      "application/vnd.jupyter.widget-view+json": {
       "model_id": "d2f1c5381b1f4baeac7366950691b72b",
       "version_major": 2,
       "version_minor": 0
      },
      "text/plain": [
       "HBox(children=(IntProgress(value=0, max=60000), HTML(value='')))"
      ]
     },
     "metadata": {},
     "output_type": "display_data"
    },
    {
     "name": "stdout",
     "output_type": "stream",
     "text": [
      "\n"
     ]
    },
    {
     "data": {
      "application/vnd.jupyter.widget-view+json": {
       "model_id": "0ed0a18e63fc4648ad05ae24edd34730",
       "version_major": 2,
       "version_minor": 0
      },
      "text/plain": [
       "HBox(children=(IntProgress(value=0, max=10), HTML(value='')))"
      ]
     },
     "metadata": {},
     "output_type": "display_data"
    },
    {
     "name": "stdout",
     "output_type": "stream",
     "text": [
      "0.5558621260803037\n",
      "\n"
     ]
    },
    {
     "data": {
      "application/vnd.jupyter.widget-view+json": {
       "model_id": "1168117d5cdd4124896f49a57fee58da",
       "version_major": 2,
       "version_minor": 0
      },
      "text/plain": [
       "HBox(children=(IntProgress(value=0, max=60000), HTML(value='')))"
      ]
     },
     "metadata": {},
     "output_type": "display_data"
    },
    {
     "name": "stdout",
     "output_type": "stream",
     "text": [
      "\n"
     ]
    },
    {
     "data": {
      "application/vnd.jupyter.widget-view+json": {
       "model_id": "31c2352c02774816a271d119cf23eaa4",
       "version_major": 2,
       "version_minor": 0
      },
      "text/plain": [
       "HBox(children=(IntProgress(value=0, max=10), HTML(value='')))"
      ]
     },
     "metadata": {},
     "output_type": "display_data"
    },
    {
     "name": "stdout",
     "output_type": "stream",
     "text": [
      "0.4984871766993327\n",
      "\n"
     ]
    },
    {
     "data": {
      "application/vnd.jupyter.widget-view+json": {
       "model_id": "c0fd6ec224d2471d84a8cb87eb437c37",
       "version_major": 2,
       "version_minor": 0
      },
      "text/plain": [
       "HBox(children=(IntProgress(value=0, max=60000), HTML(value='')))"
      ]
     },
     "metadata": {},
     "output_type": "display_data"
    },
    {
     "name": "stdout",
     "output_type": "stream",
     "text": [
      "\n"
     ]
    },
    {
     "data": {
      "application/vnd.jupyter.widget-view+json": {
       "model_id": "75d965dc39fa4876abc016d694000c2b",
       "version_major": 2,
       "version_minor": 0
      },
      "text/plain": [
       "HBox(children=(IntProgress(value=0, max=10), HTML(value='')))"
      ]
     },
     "metadata": {},
     "output_type": "display_data"
    },
    {
     "name": "stdout",
     "output_type": "stream",
     "text": [
      "0.45486057804739155\n",
      "\n"
     ]
    },
    {
     "data": {
      "application/vnd.jupyter.widget-view+json": {
       "model_id": "9caefc52a3bc4044ae049ad27761a22d",
       "version_major": 2,
       "version_minor": 0
      },
      "text/plain": [
       "HBox(children=(IntProgress(value=0, max=60000), HTML(value='')))"
      ]
     },
     "metadata": {},
     "output_type": "display_data"
    },
    {
     "name": "stdout",
     "output_type": "stream",
     "text": [
      "\n"
     ]
    },
    {
     "data": {
      "application/vnd.jupyter.widget-view+json": {
       "model_id": "7863221e9c2b4e2c91cccd6f12345891",
       "version_major": 2,
       "version_minor": 0
      },
      "text/plain": [
       "HBox(children=(IntProgress(value=0, max=10), HTML(value='')))"
      ]
     },
     "metadata": {},
     "output_type": "display_data"
    },
    {
     "name": "stdout",
     "output_type": "stream",
     "text": [
      "0.4096975429245441\n",
      "\n"
     ]
    },
    {
     "data": {
      "application/vnd.jupyter.widget-view+json": {
       "model_id": "ef59fddd05404b5983553daeb7623404",
       "version_major": 2,
       "version_minor": 0
      },
      "text/plain": [
       "HBox(children=(IntProgress(value=0, max=60000), HTML(value='')))"
      ]
     },
     "metadata": {},
     "output_type": "display_data"
    },
    {
     "name": "stdout",
     "output_type": "stream",
     "text": [
      "\n"
     ]
    },
    {
     "data": {
      "application/vnd.jupyter.widget-view+json": {
       "model_id": "d1f68ec3c22847388d612f2b7088ee6e",
       "version_major": 2,
       "version_minor": 0
      },
      "text/plain": [
       "HBox(children=(IntProgress(value=0, max=10), HTML(value='')))"
      ]
     },
     "metadata": {},
     "output_type": "display_data"
    },
    {
     "name": "stdout",
     "output_type": "stream",
     "text": [
      "0.3696663301180982\n",
      "\n"
     ]
    },
    {
     "data": {
      "application/vnd.jupyter.widget-view+json": {
       "model_id": "84be9402903e44b8a4359a605f73bc89",
       "version_major": 2,
       "version_minor": 0
      },
      "text/plain": [
       "HBox(children=(IntProgress(value=0, max=60000), HTML(value='')))"
      ]
     },
     "metadata": {},
     "output_type": "display_data"
    },
    {
     "name": "stdout",
     "output_type": "stream",
     "text": [
      "\n"
     ]
    },
    {
     "data": {
      "application/vnd.jupyter.widget-view+json": {
       "model_id": "3f7064eecbee4ab591d15144eeee5c1c",
       "version_major": 2,
       "version_minor": 0
      },
      "text/plain": [
       "HBox(children=(IntProgress(value=0, max=10), HTML(value='')))"
      ]
     },
     "metadata": {},
     "output_type": "display_data"
    },
    {
     "name": "stdout",
     "output_type": "stream",
     "text": [
      "0.34151522043795035\n",
      "\n"
     ]
    },
    {
     "data": {
      "application/vnd.jupyter.widget-view+json": {
       "model_id": "4603a6a732e4439cb1b020ec53795466",
       "version_major": 2,
       "version_minor": 0
      },
      "text/plain": [
       "HBox(children=(IntProgress(value=0, max=60000), HTML(value='')))"
      ]
     },
     "metadata": {},
     "output_type": "display_data"
    },
    {
     "name": "stdout",
     "output_type": "stream",
     "text": [
      "\n"
     ]
    },
    {
     "data": {
      "application/vnd.jupyter.widget-view+json": {
       "model_id": "8552ca361878489c8f418821313c3132",
       "version_major": 2,
       "version_minor": 0
      },
      "text/plain": [
       "HBox(children=(IntProgress(value=0, max=10), HTML(value='')))"
      ]
     },
     "metadata": {},
     "output_type": "display_data"
    },
    {
     "name": "stdout",
     "output_type": "stream",
     "text": [
      "0.3191563507757973\n",
      "\n"
     ]
    },
    {
     "data": {
      "application/vnd.jupyter.widget-view+json": {
       "model_id": "6f61e8c407514d578a41d88de52caaa9",
       "version_major": 2,
       "version_minor": 0
      },
      "text/plain": [
       "HBox(children=(IntProgress(value=0, max=60000), HTML(value='')))"
      ]
     },
     "metadata": {},
     "output_type": "display_data"
    },
    {
     "name": "stdout",
     "output_type": "stream",
     "text": [
      "\n"
     ]
    },
    {
     "data": {
      "application/vnd.jupyter.widget-view+json": {
       "model_id": "574eb6c0bda84723bddb82bb951054f2",
       "version_major": 2,
       "version_minor": 0
      },
      "text/plain": [
       "HBox(children=(IntProgress(value=0, max=10), HTML(value='')))"
      ]
     },
     "metadata": {},
     "output_type": "display_data"
    },
    {
     "name": "stdout",
     "output_type": "stream",
     "text": [
      "0.29614530910124487\n",
      "\n"
     ]
    },
    {
     "data": {
      "application/vnd.jupyter.widget-view+json": {
       "model_id": "591348b124a44647ada5e61fc4e0a84a",
       "version_major": 2,
       "version_minor": 0
      },
      "text/plain": [
       "HBox(children=(IntProgress(value=0, max=60000), HTML(value='')))"
      ]
     },
     "metadata": {},
     "output_type": "display_data"
    },
    {
     "name": "stdout",
     "output_type": "stream",
     "text": [
      "\n"
     ]
    },
    {
     "data": {
      "application/vnd.jupyter.widget-view+json": {
       "model_id": "48048384bfbf46d68110060426b79f60",
       "version_major": 2,
       "version_minor": 0
      },
      "text/plain": [
       "HBox(children=(IntProgress(value=0, max=10), HTML(value='')))"
      ]
     },
     "metadata": {},
     "output_type": "display_data"
    },
    {
     "name": "stdout",
     "output_type": "stream",
     "text": [
      "0.2875507371270962\n",
      "\n"
     ]
    },
    {
     "data": {
      "application/vnd.jupyter.widget-view+json": {
       "model_id": "1f2667248e2344a1a8405ff331db84e5",
       "version_major": 2,
       "version_minor": 0
      },
      "text/plain": [
       "HBox(children=(IntProgress(value=0, max=60000), HTML(value='')))"
      ]
     },
     "metadata": {},
     "output_type": "display_data"
    },
    {
     "name": "stdout",
     "output_type": "stream",
     "text": [
      "\n"
     ]
    },
    {
     "data": {
      "application/vnd.jupyter.widget-view+json": {
       "model_id": "23dc1240526d43bfa578af9b66af30f3",
       "version_major": 2,
       "version_minor": 0
      },
      "text/plain": [
       "HBox(children=(IntProgress(value=0, max=10), HTML(value='')))"
      ]
     },
     "metadata": {},
     "output_type": "display_data"
    },
    {
     "name": "stdout",
     "output_type": "stream",
     "text": [
      "0.2735214331564815\n",
      "\n"
     ]
    },
    {
     "data": {
      "application/vnd.jupyter.widget-view+json": {
       "model_id": "1539d819853e46d5a079e72245b23e26",
       "version_major": 2,
       "version_minor": 0
      },
      "text/plain": [
       "HBox(children=(IntProgress(value=0, max=60000), HTML(value='')))"
      ]
     },
     "metadata": {},
     "output_type": "display_data"
    },
    {
     "name": "stdout",
     "output_type": "stream",
     "text": [
      "\n"
     ]
    },
    {
     "data": {
      "application/vnd.jupyter.widget-view+json": {
       "model_id": "3a999728c64f4adda2dbe280746e8db8",
       "version_major": 2,
       "version_minor": 0
      },
      "text/plain": [
       "HBox(children=(IntProgress(value=0, max=10), HTML(value='')))"
      ]
     },
     "metadata": {},
     "output_type": "display_data"
    },
    {
     "name": "stdout",
     "output_type": "stream",
     "text": [
      "0.2560462282936223\n",
      "\n"
     ]
    },
    {
     "data": {
      "application/vnd.jupyter.widget-view+json": {
       "model_id": "101676c098d848a98c0ee38ef3bfb835",
       "version_major": 2,
       "version_minor": 0
      },
      "text/plain": [
       "HBox(children=(IntProgress(value=0, max=60000), HTML(value='')))"
      ]
     },
     "metadata": {},
     "output_type": "display_data"
    },
    {
     "name": "stdout",
     "output_type": "stream",
     "text": [
      "\n"
     ]
    },
    {
     "data": {
      "application/vnd.jupyter.widget-view+json": {
       "model_id": "db3f522617f64b56a437472659d0d7cc",
       "version_major": 2,
       "version_minor": 0
      },
      "text/plain": [
       "HBox(children=(IntProgress(value=0, max=10), HTML(value='')))"
      ]
     },
     "metadata": {},
     "output_type": "display_data"
    },
    {
     "name": "stdout",
     "output_type": "stream",
     "text": [
      "0.24891406313743483\n",
      "\n"
     ]
    },
    {
     "data": {
      "application/vnd.jupyter.widget-view+json": {
       "model_id": "ad2bc8ffcb534126b8bacd747bcc905f",
       "version_major": 2,
       "version_minor": 0
      },
      "text/plain": [
       "HBox(children=(IntProgress(value=0, max=60000), HTML(value='')))"
      ]
     },
     "metadata": {},
     "output_type": "display_data"
    },
    {
     "name": "stdout",
     "output_type": "stream",
     "text": [
      "\n"
     ]
    },
    {
     "data": {
      "application/vnd.jupyter.widget-view+json": {
       "model_id": "3b0703b28d38452dba749e9dad007f54",
       "version_major": 2,
       "version_minor": 0
      },
      "text/plain": [
       "HBox(children=(IntProgress(value=0, max=10), HTML(value='')))"
      ]
     },
     "metadata": {},
     "output_type": "display_data"
    },
    {
     "name": "stdout",
     "output_type": "stream",
     "text": [
      "0.2742699411035644\n",
      "\n"
     ]
    },
    {
     "data": {
      "application/vnd.jupyter.widget-view+json": {
       "model_id": "897ffeadda4b49aabd26b2a34efd7d97",
       "version_major": 2,
       "version_minor": 0
      },
      "text/plain": [
       "HBox(children=(IntProgress(value=0, max=60000), HTML(value='')))"
      ]
     },
     "metadata": {},
     "output_type": "display_data"
    },
    {
     "name": "stdout",
     "output_type": "stream",
     "text": [
      "\n"
     ]
    },
    {
     "data": {
      "application/vnd.jupyter.widget-view+json": {
       "model_id": "63b35b98ccef40e29326aebff2021368",
       "version_major": 2,
       "version_minor": 0
      },
      "text/plain": [
       "HBox(children=(IntProgress(value=0, max=10), HTML(value='')))"
      ]
     },
     "metadata": {},
     "output_type": "display_data"
    },
    {
     "name": "stdout",
     "output_type": "stream",
     "text": [
      "0.27986041462286637\n",
      "\n"
     ]
    },
    {
     "data": {
      "application/vnd.jupyter.widget-view+json": {
       "model_id": "f80fe247bc26456794956ec380be408f",
       "version_major": 2,
       "version_minor": 0
      },
      "text/plain": [
       "HBox(children=(IntProgress(value=0, max=60000), HTML(value='')))"
      ]
     },
     "metadata": {},
     "output_type": "display_data"
    },
    {
     "name": "stdout",
     "output_type": "stream",
     "text": [
      "\n"
     ]
    },
    {
     "data": {
      "application/vnd.jupyter.widget-view+json": {
       "model_id": "7264b1fb3a9f4306bbd6382d0ded5542",
       "version_major": 2,
       "version_minor": 0
      },
      "text/plain": [
       "HBox(children=(IntProgress(value=0, max=10), HTML(value='')))"
      ]
     },
     "metadata": {},
     "output_type": "display_data"
    },
    {
     "name": "stdout",
     "output_type": "stream",
     "text": [
      "0.28943261233363005\n",
      "\n"
     ]
    },
    {
     "data": {
      "application/vnd.jupyter.widget-view+json": {
       "model_id": "d60c3fd63f674865a8c0750845e3a96d",
       "version_major": 2,
       "version_minor": 0
      },
      "text/plain": [
       "HBox(children=(IntProgress(value=0, max=60000), HTML(value='')))"
      ]
     },
     "metadata": {},
     "output_type": "display_data"
    },
    {
     "name": "stdout",
     "output_type": "stream",
     "text": [
      "\n"
     ]
    },
    {
     "data": {
      "application/vnd.jupyter.widget-view+json": {
       "model_id": "021472a508144c13af86970b16489c17",
       "version_major": 2,
       "version_minor": 0
      },
      "text/plain": [
       "HBox(children=(IntProgress(value=0, max=10), HTML(value='')))"
      ]
     },
     "metadata": {},
     "output_type": "display_data"
    },
    {
     "name": "stdout",
     "output_type": "stream",
     "text": [
      "0.30591676138750545\n",
      "\n"
     ]
    },
    {
     "data": {
      "application/vnd.jupyter.widget-view+json": {
       "model_id": "18a4326d29aa4bc389abb539f8c249f5",
       "version_major": 2,
       "version_minor": 0
      },
      "text/plain": [
       "HBox(children=(IntProgress(value=0, max=60000), HTML(value='')))"
      ]
     },
     "metadata": {},
     "output_type": "display_data"
    },
    {
     "name": "stdout",
     "output_type": "stream",
     "text": [
      "\n"
     ]
    },
    {
     "data": {
      "application/vnd.jupyter.widget-view+json": {
       "model_id": "f55914a524664e30999441b3a3d7673d",
       "version_major": 2,
       "version_minor": 0
      },
      "text/plain": [
       "HBox(children=(IntProgress(value=0, max=10), HTML(value='')))"
      ]
     },
     "metadata": {},
     "output_type": "display_data"
    },
    {
     "name": "stdout",
     "output_type": "stream",
     "text": [
      "0.31665749206774146\n",
      "\n"
     ]
    },
    {
     "data": {
      "application/vnd.jupyter.widget-view+json": {
       "model_id": "203814b51f3a461b84eb192bedfaf2ba",
       "version_major": 2,
       "version_minor": 0
      },
      "text/plain": [
       "HBox(children=(IntProgress(value=0, max=60000), HTML(value='')))"
      ]
     },
     "metadata": {},
     "output_type": "display_data"
    },
    {
     "name": "stdout",
     "output_type": "stream",
     "text": [
      "\n"
     ]
    },
    {
     "data": {
      "application/vnd.jupyter.widget-view+json": {
       "model_id": "6e9e7bd212e548c2b4b545d03b47a033",
       "version_major": 2,
       "version_minor": 0
      },
      "text/plain": [
       "HBox(children=(IntProgress(value=0, max=10), HTML(value='')))"
      ]
     },
     "metadata": {},
     "output_type": "display_data"
    },
    {
     "name": "stdout",
     "output_type": "stream",
     "text": [
      "0.32301524418176264\n",
      "\n"
     ]
    },
    {
     "data": {
      "application/vnd.jupyter.widget-view+json": {
       "model_id": "c884690d4686490c8ea92b6d5035ccc7",
       "version_major": 2,
       "version_minor": 0
      },
      "text/plain": [
       "HBox(children=(IntProgress(value=0, max=60000), HTML(value='')))"
      ]
     },
     "metadata": {},
     "output_type": "display_data"
    },
    {
     "name": "stdout",
     "output_type": "stream",
     "text": [
      "\n"
     ]
    },
    {
     "data": {
      "application/vnd.jupyter.widget-view+json": {
       "model_id": "3f39d877dee548b3a400fb392d78df83",
       "version_major": 2,
       "version_minor": 0
      },
      "text/plain": [
       "HBox(children=(IntProgress(value=0, max=10), HTML(value='')))"
      ]
     },
     "metadata": {},
     "output_type": "display_data"
    },
    {
     "name": "stdout",
     "output_type": "stream",
     "text": [
      "0.3246256649277126\n",
      "\n"
     ]
    },
    {
     "data": {
      "application/vnd.jupyter.widget-view+json": {
       "model_id": "647fb4b5bb2043f9834719dff1191804",
       "version_major": 2,
       "version_minor": 0
      },
      "text/plain": [
       "HBox(children=(IntProgress(value=0, max=60000), HTML(value='')))"
      ]
     },
     "metadata": {},
     "output_type": "display_data"
    },
    {
     "name": "stdout",
     "output_type": "stream",
     "text": [
      "\n"
     ]
    },
    {
     "data": {
      "application/vnd.jupyter.widget-view+json": {
       "model_id": "2cc1dd25ce4c4dff9a8cf2d2dbfea9da",
       "version_major": 2,
       "version_minor": 0
      },
      "text/plain": [
       "HBox(children=(IntProgress(value=0, max=10), HTML(value='')))"
      ]
     },
     "metadata": {},
     "output_type": "display_data"
    },
    {
     "name": "stdout",
     "output_type": "stream",
     "text": [
      "0.30210684616295586\n",
      "\n"
     ]
    },
    {
     "data": {
      "application/vnd.jupyter.widget-view+json": {
       "model_id": "bf0da6b6d42a4df99a6c4e0dc1d3b448",
       "version_major": 2,
       "version_minor": 0
      },
      "text/plain": [
       "HBox(children=(IntProgress(value=0, max=60000), HTML(value='')))"
      ]
     },
     "metadata": {},
     "output_type": "display_data"
    },
    {
     "name": "stdout",
     "output_type": "stream",
     "text": [
      "\n"
     ]
    },
    {
     "data": {
      "application/vnd.jupyter.widget-view+json": {
       "model_id": "ba5a0e9620c04cba9070b14319f3e843",
       "version_major": 2,
       "version_minor": 0
      },
      "text/plain": [
       "HBox(children=(IntProgress(value=0, max=10), HTML(value='')))"
      ]
     },
     "metadata": {},
     "output_type": "display_data"
    },
    {
     "name": "stdout",
     "output_type": "stream",
     "text": [
      "0.2791610195163686\n",
      "\n"
     ]
    },
    {
     "data": {
      "application/vnd.jupyter.widget-view+json": {
       "model_id": "81ecc496f13d4aa1b7321be0f47cefb7",
       "version_major": 2,
       "version_minor": 0
      },
      "text/plain": [
       "HBox(children=(IntProgress(value=0, max=60000), HTML(value='')))"
      ]
     },
     "metadata": {},
     "output_type": "display_data"
    },
    {
     "name": "stdout",
     "output_type": "stream",
     "text": [
      "\n"
     ]
    },
    {
     "data": {
      "application/vnd.jupyter.widget-view+json": {
       "model_id": "5289113c67bd476396d7033d7c4ef48f",
       "version_major": 2,
       "version_minor": 0
      },
      "text/plain": [
       "HBox(children=(IntProgress(value=0, max=10), HTML(value='')))"
      ]
     },
     "metadata": {},
     "output_type": "display_data"
    },
    {
     "name": "stdout",
     "output_type": "stream",
     "text": [
      "0.25135946542752213\n",
      "\n"
     ]
    },
    {
     "data": {
      "application/vnd.jupyter.widget-view+json": {
       "model_id": "657395bc3aa041efa782927b2f99718d",
       "version_major": 2,
       "version_minor": 0
      },
      "text/plain": [
       "HBox(children=(IntProgress(value=0, max=60000), HTML(value='')))"
      ]
     },
     "metadata": {},
     "output_type": "display_data"
    },
    {
     "name": "stdout",
     "output_type": "stream",
     "text": [
      "\n"
     ]
    },
    {
     "data": {
      "application/vnd.jupyter.widget-view+json": {
       "model_id": "ef3de090e1034467bff89b2ac58775a8",
       "version_major": 2,
       "version_minor": 0
      },
      "text/plain": [
       "HBox(children=(IntProgress(value=0, max=10), HTML(value='')))"
      ]
     },
     "metadata": {},
     "output_type": "display_data"
    },
    {
     "name": "stdout",
     "output_type": "stream",
     "text": [
      "0.21421733055091433\n",
      "\n"
     ]
    },
    {
     "data": {
      "application/vnd.jupyter.widget-view+json": {
       "model_id": "0a52febfbf994a3e94b972f7306f8d67",
       "version_major": 2,
       "version_minor": 0
      },
      "text/plain": [
       "HBox(children=(IntProgress(value=0, max=60000), HTML(value='')))"
      ]
     },
     "metadata": {},
     "output_type": "display_data"
    },
    {
     "name": "stdout",
     "output_type": "stream",
     "text": [
      "\n"
     ]
    },
    {
     "data": {
      "application/vnd.jupyter.widget-view+json": {
       "model_id": "8793278db0bd4e7d95b309a5b5ab642c",
       "version_major": 2,
       "version_minor": 0
      },
      "text/plain": [
       "HBox(children=(IntProgress(value=0, max=10), HTML(value='')))"
      ]
     },
     "metadata": {},
     "output_type": "display_data"
    },
    {
     "name": "stdout",
     "output_type": "stream",
     "text": [
      "0.190678105621654\n",
      "\n"
     ]
    },
    {
     "data": {
      "application/vnd.jupyter.widget-view+json": {
       "model_id": "a3344c4e3fe849fdbfa7cadc3ef3017a",
       "version_major": 2,
       "version_minor": 0
      },
      "text/plain": [
       "HBox(children=(IntProgress(value=0, max=60000), HTML(value='')))"
      ]
     },
     "metadata": {},
     "output_type": "display_data"
    },
    {
     "name": "stdout",
     "output_type": "stream",
     "text": [
      "\n"
     ]
    },
    {
     "data": {
      "application/vnd.jupyter.widget-view+json": {
       "model_id": "de5e5cd1af504b25a990e1c3720629a2",
       "version_major": 2,
       "version_minor": 0
      },
      "text/plain": [
       "HBox(children=(IntProgress(value=0, max=10), HTML(value='')))"
      ]
     },
     "metadata": {},
     "output_type": "display_data"
    },
    {
     "name": "stdout",
     "output_type": "stream",
     "text": [
      "0.19377916075146312\n",
      "\n"
     ]
    },
    {
     "data": {
      "application/vnd.jupyter.widget-view+json": {
       "model_id": "060826ed1f9a4d8885e207d637962ac8",
       "version_major": 2,
       "version_minor": 0
      },
      "text/plain": [
       "HBox(children=(IntProgress(value=0, max=60000), HTML(value='')))"
      ]
     },
     "metadata": {},
     "output_type": "display_data"
    },
    {
     "name": "stdout",
     "output_type": "stream",
     "text": [
      "\n"
     ]
    },
    {
     "data": {
      "application/vnd.jupyter.widget-view+json": {
       "model_id": "8b692d133def4f7186916e9033879c83",
       "version_major": 2,
       "version_minor": 0
      },
      "text/plain": [
       "HBox(children=(IntProgress(value=0, max=10), HTML(value='')))"
      ]
     },
     "metadata": {},
     "output_type": "display_data"
    },
    {
     "name": "stdout",
     "output_type": "stream",
     "text": [
      "0.19383779265947523\n",
      "\n"
     ]
    },
    {
     "data": {
      "application/vnd.jupyter.widget-view+json": {
       "model_id": "c1475e8636f5482ab754ed5e326232c7",
       "version_major": 2,
       "version_minor": 0
      },
      "text/plain": [
       "HBox(children=(IntProgress(value=0, max=60000), HTML(value='')))"
      ]
     },
     "metadata": {},
     "output_type": "display_data"
    },
    {
     "name": "stdout",
     "output_type": "stream",
     "text": [
      "\n"
     ]
    },
    {
     "data": {
      "application/vnd.jupyter.widget-view+json": {
       "model_id": "f81dcdceb43c430a8c840bb570c267bf",
       "version_major": 2,
       "version_minor": 0
      },
      "text/plain": [
       "HBox(children=(IntProgress(value=0, max=10), HTML(value='')))"
      ]
     },
     "metadata": {},
     "output_type": "display_data"
    },
    {
     "name": "stdout",
     "output_type": "stream",
     "text": [
      "0.17520436945616638\n",
      "\n"
     ]
    },
    {
     "data": {
      "application/vnd.jupyter.widget-view+json": {
       "model_id": "d5b3dd21ace94958a31892acd6078989",
       "version_major": 2,
       "version_minor": 0
      },
      "text/plain": [
       "HBox(children=(IntProgress(value=0, max=60000), HTML(value='')))"
      ]
     },
     "metadata": {},
     "output_type": "display_data"
    },
    {
     "name": "stdout",
     "output_type": "stream",
     "text": [
      "\n"
     ]
    },
    {
     "data": {
      "application/vnd.jupyter.widget-view+json": {
       "model_id": "071e454587c14f7d8e6c07ba28164b71",
       "version_major": 2,
       "version_minor": 0
      },
      "text/plain": [
       "HBox(children=(IntProgress(value=0, max=10), HTML(value='')))"
      ]
     },
     "metadata": {},
     "output_type": "display_data"
    },
    {
     "name": "stdout",
     "output_type": "stream",
     "text": [
      "0.14510081348925902\n",
      "\n"
     ]
    },
    {
     "data": {
      "application/vnd.jupyter.widget-view+json": {
       "model_id": "1e573cec9cee4aa4a30ea13f35e3930e",
       "version_major": 2,
       "version_minor": 0
      },
      "text/plain": [
       "HBox(children=(IntProgress(value=0, max=60000), HTML(value='')))"
      ]
     },
     "metadata": {},
     "output_type": "display_data"
    },
    {
     "name": "stdout",
     "output_type": "stream",
     "text": [
      "\n"
     ]
    },
    {
     "data": {
      "application/vnd.jupyter.widget-view+json": {
       "model_id": "05821ce62f654041b07cfdad2bcb9420",
       "version_major": 2,
       "version_minor": 0
      },
      "text/plain": [
       "HBox(children=(IntProgress(value=0, max=10), HTML(value='')))"
      ]
     },
     "metadata": {},
     "output_type": "display_data"
    },
    {
     "name": "stdout",
     "output_type": "stream",
     "text": [
      "0.1171090324343892\n",
      "\n"
     ]
    },
    {
     "data": {
      "application/vnd.jupyter.widget-view+json": {
       "model_id": "35fc28a7b8634cd48947de7089b24888",
       "version_major": 2,
       "version_minor": 0
      },
      "text/plain": [
       "HBox(children=(IntProgress(value=0, max=60000), HTML(value='')))"
      ]
     },
     "metadata": {},
     "output_type": "display_data"
    },
    {
     "name": "stdout",
     "output_type": "stream",
     "text": [
      "\n"
     ]
    },
    {
     "data": {
      "application/vnd.jupyter.widget-view+json": {
       "model_id": "6ba8073a668f491c9b7b8817eaec188c",
       "version_major": 2,
       "version_minor": 0
      },
      "text/plain": [
       "HBox(children=(IntProgress(value=0, max=10), HTML(value='')))"
      ]
     },
     "metadata": {},
     "output_type": "display_data"
    },
    {
     "name": "stdout",
     "output_type": "stream",
     "text": [
      "0.09316916586955304\n",
      "\n"
     ]
    },
    {
     "data": {
      "application/vnd.jupyter.widget-view+json": {
       "model_id": "507e9d283a4f4964b463acf822f026c6",
       "version_major": 2,
       "version_minor": 0
      },
      "text/plain": [
       "HBox(children=(IntProgress(value=0, max=60000), HTML(value='')))"
      ]
     },
     "metadata": {},
     "output_type": "display_data"
    },
    {
     "name": "stdout",
     "output_type": "stream",
     "text": [
      "\n"
     ]
    },
    {
     "data": {
      "application/vnd.jupyter.widget-view+json": {
       "model_id": "e62f57010edd499c8e37c28bf465353d",
       "version_major": 2,
       "version_minor": 0
      },
      "text/plain": [
       "HBox(children=(IntProgress(value=0, max=10), HTML(value='')))"
      ]
     },
     "metadata": {},
     "output_type": "display_data"
    },
    {
     "name": "stdout",
     "output_type": "stream",
     "text": [
      "0.07803069436663135\n",
      "\n"
     ]
    },
    {
     "data": {
      "application/vnd.jupyter.widget-view+json": {
       "model_id": "eea06aace3c44711ac7454abf76a1724",
       "version_major": 2,
       "version_minor": 0
      },
      "text/plain": [
       "HBox(children=(IntProgress(value=0, max=60000), HTML(value='')))"
      ]
     },
     "metadata": {},
     "output_type": "display_data"
    },
    {
     "name": "stdout",
     "output_type": "stream",
     "text": [
      "\n"
     ]
    },
    {
     "data": {
      "application/vnd.jupyter.widget-view+json": {
       "model_id": "818427a0393045e4ad291f9ad2365e01",
       "version_major": 2,
       "version_minor": 0
      },
      "text/plain": [
       "HBox(children=(IntProgress(value=0, max=10), HTML(value='')))"
      ]
     },
     "metadata": {},
     "output_type": "display_data"
    },
    {
     "name": "stdout",
     "output_type": "stream",
     "text": [
      "0.06689343659549356\n",
      "\n"
     ]
    },
    {
     "data": {
      "application/vnd.jupyter.widget-view+json": {
       "model_id": "4113faa9378b406395cfdab3957b5405",
       "version_major": 2,
       "version_minor": 0
      },
      "text/plain": [
       "HBox(children=(IntProgress(value=0, max=60000), HTML(value='')))"
      ]
     },
     "metadata": {},
     "output_type": "display_data"
    },
    {
     "name": "stdout",
     "output_type": "stream",
     "text": [
      "\n"
     ]
    },
    {
     "data": {
      "application/vnd.jupyter.widget-view+json": {
       "model_id": "7958fbf045b34f20939124a4f4159b6d",
       "version_major": 2,
       "version_minor": 0
      },
      "text/plain": [
       "HBox(children=(IntProgress(value=0, max=10), HTML(value='')))"
      ]
     },
     "metadata": {},
     "output_type": "display_data"
    },
    {
     "name": "stdout",
     "output_type": "stream",
     "text": [
      "0.05526347857743265\n",
      "\n"
     ]
    },
    {
     "data": {
      "application/vnd.jupyter.widget-view+json": {
       "model_id": "e23bcb27d32f49b084b24f19758a9249",
       "version_major": 2,
       "version_minor": 0
      },
      "text/plain": [
       "HBox(children=(IntProgress(value=0, max=60000), HTML(value='')))"
      ]
     },
     "metadata": {},
     "output_type": "display_data"
    },
    {
     "name": "stdout",
     "output_type": "stream",
     "text": [
      "\n"
     ]
    },
    {
     "data": {
      "application/vnd.jupyter.widget-view+json": {
       "model_id": "69923dee7c3443b1ba415281aa0fcde2",
       "version_major": 2,
       "version_minor": 0
      },
      "text/plain": [
       "HBox(children=(IntProgress(value=0, max=10), HTML(value='')))"
      ]
     },
     "metadata": {},
     "output_type": "display_data"
    },
    {
     "name": "stdout",
     "output_type": "stream",
     "text": [
      "0.045436077877356054\n",
      "\n"
     ]
    },
    {
     "data": {
      "application/vnd.jupyter.widget-view+json": {
       "model_id": "6b5dd6bca2ab497187f88266d7f8d4f7",
       "version_major": 2,
       "version_minor": 0
      },
      "text/plain": [
       "HBox(children=(IntProgress(value=0, max=60000), HTML(value='')))"
      ]
     },
     "metadata": {},
     "output_type": "display_data"
    },
    {
     "name": "stdout",
     "output_type": "stream",
     "text": [
      "\n"
     ]
    },
    {
     "data": {
      "application/vnd.jupyter.widget-view+json": {
       "model_id": "4aa8ff52f9754c5db5f2ca3e0263256a",
       "version_major": 2,
       "version_minor": 0
      },
      "text/plain": [
       "HBox(children=(IntProgress(value=0, max=10), HTML(value='')))"
      ]
     },
     "metadata": {},
     "output_type": "display_data"
    },
    {
     "name": "stdout",
     "output_type": "stream",
     "text": [
      "0.037362360737272865\n",
      "\n"
     ]
    },
    {
     "data": {
      "application/vnd.jupyter.widget-view+json": {
       "model_id": "dad46bcbc351482cb6d1d677618dbf7e",
       "version_major": 2,
       "version_minor": 0
      },
      "text/plain": [
       "HBox(children=(IntProgress(value=0, max=60000), HTML(value='')))"
      ]
     },
     "metadata": {},
     "output_type": "display_data"
    },
    {
     "name": "stdout",
     "output_type": "stream",
     "text": [
      "\n"
     ]
    },
    {
     "data": {
      "application/vnd.jupyter.widget-view+json": {
       "model_id": "7313670dbb444eb1a24b7c20aee9a20f",
       "version_major": 2,
       "version_minor": 0
      },
      "text/plain": [
       "HBox(children=(IntProgress(value=0, max=10), HTML(value='')))"
      ]
     },
     "metadata": {},
     "output_type": "display_data"
    },
    {
     "name": "stdout",
     "output_type": "stream",
     "text": [
      "0.030874364678400403\n",
      "\n"
     ]
    },
    {
     "data": {
      "application/vnd.jupyter.widget-view+json": {
       "model_id": "32f1b5b017a345c880447955cb5bc5c6",
       "version_major": 2,
       "version_minor": 0
      },
      "text/plain": [
       "HBox(children=(IntProgress(value=0, max=60000), HTML(value='')))"
      ]
     },
     "metadata": {},
     "output_type": "display_data"
    },
    {
     "name": "stdout",
     "output_type": "stream",
     "text": [
      "\n"
     ]
    },
    {
     "data": {
      "application/vnd.jupyter.widget-view+json": {
       "model_id": "f8d05c2d5847485497526b767651e6e7",
       "version_major": 2,
       "version_minor": 0
      },
      "text/plain": [
       "HBox(children=(IntProgress(value=0, max=10), HTML(value='')))"
      ]
     },
     "metadata": {},
     "output_type": "display_data"
    },
    {
     "name": "stdout",
     "output_type": "stream",
     "text": [
      "0.026005525224129047\n",
      "\n"
     ]
    },
    {
     "data": {
      "application/vnd.jupyter.widget-view+json": {
       "model_id": "f4dceb18db274cae9dd360131eda9379",
       "version_major": 2,
       "version_minor": 0
      },
      "text/plain": [
       "HBox(children=(IntProgress(value=0, max=60000), HTML(value='')))"
      ]
     },
     "metadata": {},
     "output_type": "display_data"
    },
    {
     "name": "stdout",
     "output_type": "stream",
     "text": [
      "\n"
     ]
    },
    {
     "data": {
      "application/vnd.jupyter.widget-view+json": {
       "model_id": "a414b61a38364897982a8648309522ba",
       "version_major": 2,
       "version_minor": 0
      },
      "text/plain": [
       "HBox(children=(IntProgress(value=0, max=10), HTML(value='')))"
      ]
     },
     "metadata": {},
     "output_type": "display_data"
    },
    {
     "name": "stdout",
     "output_type": "stream",
     "text": [
      "0.022756159377046704\n",
      "\n"
     ]
    },
    {
     "data": {
      "application/vnd.jupyter.widget-view+json": {
       "model_id": "a4135b90871647ba88f4eab4fa927873",
       "version_major": 2,
       "version_minor": 0
      },
      "text/plain": [
       "HBox(children=(IntProgress(value=0, max=60000), HTML(value='')))"
      ]
     },
     "metadata": {},
     "output_type": "display_data"
    },
    {
     "name": "stdout",
     "output_type": "stream",
     "text": [
      "\n"
     ]
    },
    {
     "data": {
      "application/vnd.jupyter.widget-view+json": {
       "model_id": "8f7551a038974aa9a806fd09a62609d1",
       "version_major": 2,
       "version_minor": 0
      },
      "text/plain": [
       "HBox(children=(IntProgress(value=0, max=10), HTML(value='')))"
      ]
     },
     "metadata": {},
     "output_type": "display_data"
    },
    {
     "name": "stdout",
     "output_type": "stream",
     "text": [
      "0.020275529578071553\n",
      "\n"
     ]
    },
    {
     "data": {
      "application/vnd.jupyter.widget-view+json": {
       "model_id": "76f226680d4a4e2d9da68e8973c19f30",
       "version_major": 2,
       "version_minor": 0
      },
      "text/plain": [
       "HBox(children=(IntProgress(value=0, max=60000), HTML(value='')))"
      ]
     },
     "metadata": {},
     "output_type": "display_data"
    },
    {
     "name": "stdout",
     "output_type": "stream",
     "text": [
      "\n"
     ]
    },
    {
     "data": {
      "application/vnd.jupyter.widget-view+json": {
       "model_id": "f4bfcc52cdca4b9ebac62ec5d58d5ed6",
       "version_major": 2,
       "version_minor": 0
      },
      "text/plain": [
       "HBox(children=(IntProgress(value=0, max=10), HTML(value='')))"
      ]
     },
     "metadata": {},
     "output_type": "display_data"
    },
    {
     "name": "stdout",
     "output_type": "stream",
     "text": [
      "0.018231369086506\n",
      "\n"
     ]
    },
    {
     "data": {
      "application/vnd.jupyter.widget-view+json": {
       "model_id": "f71e4db583424f459b1d1660e7be903a",
       "version_major": 2,
       "version_minor": 0
      },
      "text/plain": [
       "HBox(children=(IntProgress(value=0, max=60000), HTML(value='')))"
      ]
     },
     "metadata": {},
     "output_type": "display_data"
    },
    {
     "name": "stdout",
     "output_type": "stream",
     "text": [
      "\n"
     ]
    },
    {
     "data": {
      "application/vnd.jupyter.widget-view+json": {
       "model_id": "e8f98812fba849539696dbe28b4663d5",
       "version_major": 2,
       "version_minor": 0
      },
      "text/plain": [
       "HBox(children=(IntProgress(value=0, max=10), HTML(value='')))"
      ]
     },
     "metadata": {},
     "output_type": "display_data"
    },
    {
     "name": "stdout",
     "output_type": "stream",
     "text": [
      "0.016694374857260465\n",
      "\n"
     ]
    },
    {
     "data": {
      "application/vnd.jupyter.widget-view+json": {
       "model_id": "3885f00816464aac9d9d62670bed8f67",
       "version_major": 2,
       "version_minor": 0
      },
      "text/plain": [
       "HBox(children=(IntProgress(value=0, max=60000), HTML(value='')))"
      ]
     },
     "metadata": {},
     "output_type": "display_data"
    },
    {
     "name": "stdout",
     "output_type": "stream",
     "text": [
      "\n"
     ]
    },
    {
     "data": {
      "application/vnd.jupyter.widget-view+json": {
       "model_id": "0b4a449c8ff94fea897c2bfa32915d50",
       "version_major": 2,
       "version_minor": 0
      },
      "text/plain": [
       "HBox(children=(IntProgress(value=0, max=10), HTML(value='')))"
      ]
     },
     "metadata": {},
     "output_type": "display_data"
    },
    {
     "name": "stdout",
     "output_type": "stream",
     "text": [
      "0.015513925567247927\n",
      "\n"
     ]
    },
    {
     "data": {
      "application/vnd.jupyter.widget-view+json": {
       "model_id": "908e6859500c4ccdb188af1a91c56441",
       "version_major": 2,
       "version_minor": 0
      },
      "text/plain": [
       "HBox(children=(IntProgress(value=0, max=60000), HTML(value='')))"
      ]
     },
     "metadata": {},
     "output_type": "display_data"
    },
    {
     "name": "stdout",
     "output_type": "stream",
     "text": [
      "\n"
     ]
    },
    {
     "data": {
      "application/vnd.jupyter.widget-view+json": {
       "model_id": "c76a1ad297994d638879df4cfda3689b",
       "version_major": 2,
       "version_minor": 0
      },
      "text/plain": [
       "HBox(children=(IntProgress(value=0, max=10), HTML(value='')))"
      ]
     },
     "metadata": {},
     "output_type": "display_data"
    },
    {
     "name": "stdout",
     "output_type": "stream",
     "text": [
      "0.014915793226836487\n",
      "\n"
     ]
    },
    {
     "data": {
      "application/vnd.jupyter.widget-view+json": {
       "model_id": "068aaf1c03b941b9ad68157bda402785",
       "version_major": 2,
       "version_minor": 0
      },
      "text/plain": [
       "HBox(children=(IntProgress(value=0, max=60000), HTML(value='')))"
      ]
     },
     "metadata": {},
     "output_type": "display_data"
    },
    {
     "name": "stdout",
     "output_type": "stream",
     "text": [
      "\n"
     ]
    },
    {
     "data": {
      "application/vnd.jupyter.widget-view+json": {
       "model_id": "f19c1f838d4a4e9f8288292a7df30ba5",
       "version_major": 2,
       "version_minor": 0
      },
      "text/plain": [
       "HBox(children=(IntProgress(value=0, max=10), HTML(value='')))"
      ]
     },
     "metadata": {},
     "output_type": "display_data"
    },
    {
     "name": "stdout",
     "output_type": "stream",
     "text": [
      "0.014302699565744807\n",
      "\n"
     ]
    },
    {
     "data": {
      "application/vnd.jupyter.widget-view+json": {
       "model_id": "c7d4e29c2ed14278b7597cf447370a40",
       "version_major": 2,
       "version_minor": 0
      },
      "text/plain": [
       "HBox(children=(IntProgress(value=0, max=60000), HTML(value='')))"
      ]
     },
     "metadata": {},
     "output_type": "display_data"
    },
    {
     "name": "stdout",
     "output_type": "stream",
     "text": [
      "\n"
     ]
    },
    {
     "data": {
      "application/vnd.jupyter.widget-view+json": {
       "model_id": "c09ba22f31fd4b1895363011643f4d72",
       "version_major": 2,
       "version_minor": 0
      },
      "text/plain": [
       "HBox(children=(IntProgress(value=0, max=10), HTML(value='')))"
      ]
     },
     "metadata": {},
     "output_type": "display_data"
    },
    {
     "name": "stdout",
     "output_type": "stream",
     "text": [
      "0.013884447314246168\n",
      "\n"
     ]
    },
    {
     "data": {
      "application/vnd.jupyter.widget-view+json": {
       "model_id": "583b433afd3a41b4a77e27f78fe40cb2",
       "version_major": 2,
       "version_minor": 0
      },
      "text/plain": [
       "HBox(children=(IntProgress(value=0, max=60000), HTML(value='')))"
      ]
     },
     "metadata": {},
     "output_type": "display_data"
    },
    {
     "name": "stdout",
     "output_type": "stream",
     "text": [
      "\n"
     ]
    },
    {
     "data": {
      "application/vnd.jupyter.widget-view+json": {
       "model_id": "34f15211aadd4add85096fb90d5e69a5",
       "version_major": 2,
       "version_minor": 0
      },
      "text/plain": [
       "HBox(children=(IntProgress(value=0, max=10), HTML(value='')))"
      ]
     },
     "metadata": {},
     "output_type": "display_data"
    },
    {
     "name": "stdout",
     "output_type": "stream",
     "text": [
      "0.013131233720693643\n",
      "\n"
     ]
    },
    {
     "data": {
      "application/vnd.jupyter.widget-view+json": {
       "model_id": "d743f22514cd46b68e26109d9645685b",
       "version_major": 2,
       "version_minor": 0
      },
      "text/plain": [
       "HBox(children=(IntProgress(value=0, max=60000), HTML(value='')))"
      ]
     },
     "metadata": {},
     "output_type": "display_data"
    },
    {
     "name": "stdout",
     "output_type": "stream",
     "text": [
      "\n"
     ]
    },
    {
     "data": {
      "application/vnd.jupyter.widget-view+json": {
       "model_id": "7ef4f00aef4e4c5bb7f01598a4ec4fee",
       "version_major": 2,
       "version_minor": 0
      },
      "text/plain": [
       "HBox(children=(IntProgress(value=0, max=10), HTML(value='')))"
      ]
     },
     "metadata": {},
     "output_type": "display_data"
    },
    {
     "name": "stdout",
     "output_type": "stream",
     "text": [
      "0.012207014153497864\n",
      "\n"
     ]
    },
    {
     "data": {
      "application/vnd.jupyter.widget-view+json": {
       "model_id": "98ea1fb3663c4b22ac650c53d4f566e7",
       "version_major": 2,
       "version_minor": 0
      },
      "text/plain": [
       "HBox(children=(IntProgress(value=0, max=60000), HTML(value='')))"
      ]
     },
     "metadata": {},
     "output_type": "display_data"
    },
    {
     "name": "stdout",
     "output_type": "stream",
     "text": [
      "\n"
     ]
    },
    {
     "data": {
      "application/vnd.jupyter.widget-view+json": {
       "model_id": "44f7dbc60d1641e7aede3af7f55372cf",
       "version_major": 2,
       "version_minor": 0
      },
      "text/plain": [
       "HBox(children=(IntProgress(value=0, max=10), HTML(value='')))"
      ]
     },
     "metadata": {},
     "output_type": "display_data"
    },
    {
     "name": "stdout",
     "output_type": "stream",
     "text": [
      "0.011323055364273273\n",
      "\n"
     ]
    },
    {
     "data": {
      "application/vnd.jupyter.widget-view+json": {
       "model_id": "8ee7454cb55d44a5a6e39a855596f715",
       "version_major": 2,
       "version_minor": 0
      },
      "text/plain": [
       "HBox(children=(IntProgress(value=0, max=60000), HTML(value='')))"
      ]
     },
     "metadata": {},
     "output_type": "display_data"
    },
    {
     "name": "stdout",
     "output_type": "stream",
     "text": [
      "\n"
     ]
    },
    {
     "data": {
      "application/vnd.jupyter.widget-view+json": {
       "model_id": "8be7604591814bf9bc21e100ddb6e00c",
       "version_major": 2,
       "version_minor": 0
      },
      "text/plain": [
       "HBox(children=(IntProgress(value=0, max=10), HTML(value='')))"
      ]
     },
     "metadata": {},
     "output_type": "display_data"
    },
    {
     "name": "stdout",
     "output_type": "stream",
     "text": [
      "0.010480732778109724\n",
      "\n"
     ]
    },
    {
     "data": {
      "application/vnd.jupyter.widget-view+json": {
       "model_id": "8c57a1c60406485499b8a2fc968f24a9",
       "version_major": 2,
       "version_minor": 0
      },
      "text/plain": [
       "HBox(children=(IntProgress(value=0, max=60000), HTML(value='')))"
      ]
     },
     "metadata": {},
     "output_type": "display_data"
    },
    {
     "name": "stdout",
     "output_type": "stream",
     "text": [
      "\n"
     ]
    },
    {
     "data": {
      "application/vnd.jupyter.widget-view+json": {
       "model_id": "2d357ab2aef0475798084e49a5c42c94",
       "version_major": 2,
       "version_minor": 0
      },
      "text/plain": [
       "HBox(children=(IntProgress(value=0, max=10), HTML(value='')))"
      ]
     },
     "metadata": {},
     "output_type": "display_data"
    },
    {
     "name": "stdout",
     "output_type": "stream",
     "text": [
      "0.009720274532042807\n",
      "\n"
     ]
    },
    {
     "data": {
      "application/vnd.jupyter.widget-view+json": {
       "model_id": "e2bcefa83dbd48aba29278c3ed030615",
       "version_major": 2,
       "version_minor": 0
      },
      "text/plain": [
       "HBox(children=(IntProgress(value=0, max=60000), HTML(value='')))"
      ]
     },
     "metadata": {},
     "output_type": "display_data"
    },
    {
     "name": "stdout",
     "output_type": "stream",
     "text": [
      "\n"
     ]
    },
    {
     "data": {
      "application/vnd.jupyter.widget-view+json": {
       "model_id": "c16bf72a09f742768d252884afe2a3e6",
       "version_major": 2,
       "version_minor": 0
      },
      "text/plain": [
       "HBox(children=(IntProgress(value=0, max=10), HTML(value='')))"
      ]
     },
     "metadata": {},
     "output_type": "display_data"
    },
    {
     "name": "stdout",
     "output_type": "stream",
     "text": [
      "0.00906513023989921\n",
      "\n"
     ]
    },
    {
     "data": {
      "application/vnd.jupyter.widget-view+json": {
       "model_id": "35b38a72f2fb4d9883874d08f5937e5f",
       "version_major": 2,
       "version_minor": 0
      },
      "text/plain": [
       "HBox(children=(IntProgress(value=0, max=60000), HTML(value='')))"
      ]
     },
     "metadata": {},
     "output_type": "display_data"
    },
    {
     "name": "stdout",
     "output_type": "stream",
     "text": [
      "\n"
     ]
    },
    {
     "data": {
      "application/vnd.jupyter.widget-view+json": {
       "model_id": "651262585152450d9f649efdf9083120",
       "version_major": 2,
       "version_minor": 0
      },
      "text/plain": [
       "HBox(children=(IntProgress(value=0, max=10), HTML(value='')))"
      ]
     },
     "metadata": {},
     "output_type": "display_data"
    },
    {
     "name": "stdout",
     "output_type": "stream",
     "text": [
      "0.008521765543748746\n",
      "\n"
     ]
    },
    {
     "data": {
      "application/vnd.jupyter.widget-view+json": {
       "model_id": "5440085a3874479f9699de48f5074bde",
       "version_major": 2,
       "version_minor": 0
      },
      "text/plain": [
       "HBox(children=(IntProgress(value=0, max=60000), HTML(value='')))"
      ]
     },
     "metadata": {},
     "output_type": "display_data"
    },
    {
     "name": "stdout",
     "output_type": "stream",
     "text": [
      "\n"
     ]
    },
    {
     "data": {
      "application/vnd.jupyter.widget-view+json": {
       "model_id": "9df3e8b4dd5846e29243abbdca7d98d5",
       "version_major": 2,
       "version_minor": 0
      },
      "text/plain": [
       "HBox(children=(IntProgress(value=0, max=10), HTML(value='')))"
      ]
     },
     "metadata": {},
     "output_type": "display_data"
    },
    {
     "name": "stdout",
     "output_type": "stream",
     "text": [
      "0.0080865718092452\n",
      "\n"
     ]
    },
    {
     "data": {
      "application/vnd.jupyter.widget-view+json": {
       "model_id": "ae0ecc34b8da4d36b00d0f528ee2a4f3",
       "version_major": 2,
       "version_minor": 0
      },
      "text/plain": [
       "HBox(children=(IntProgress(value=0, max=60000), HTML(value='')))"
      ]
     },
     "metadata": {},
     "output_type": "display_data"
    },
    {
     "name": "stdout",
     "output_type": "stream",
     "text": [
      "\n"
     ]
    },
    {
     "data": {
      "application/vnd.jupyter.widget-view+json": {
       "model_id": "a3fd0b0fa6e94bada65952882a53227b",
       "version_major": 2,
       "version_minor": 0
      },
      "text/plain": [
       "HBox(children=(IntProgress(value=0, max=10), HTML(value='')))"
      ]
     },
     "metadata": {},
     "output_type": "display_data"
    },
    {
     "name": "stdout",
     "output_type": "stream",
     "text": [
      "0.007755582218898565\n",
      "\n"
     ]
    },
    {
     "data": {
      "application/vnd.jupyter.widget-view+json": {
       "model_id": "c69c53aa2d1f42d5ab781abe7514ee81",
       "version_major": 2,
       "version_minor": 0
      },
      "text/plain": [
       "HBox(children=(IntProgress(value=0, max=60000), HTML(value='')))"
      ]
     },
     "metadata": {},
     "output_type": "display_data"
    },
    {
     "name": "stdout",
     "output_type": "stream",
     "text": [
      "\n"
     ]
    },
    {
     "data": {
      "application/vnd.jupyter.widget-view+json": {
       "model_id": "580ac7e24ee04a79a4aa3a1f20147bf4",
       "version_major": 2,
       "version_minor": 0
      },
      "text/plain": [
       "HBox(children=(IntProgress(value=0, max=10), HTML(value='')))"
      ]
     },
     "metadata": {},
     "output_type": "display_data"
    },
    {
     "name": "stdout",
     "output_type": "stream",
     "text": [
      "0.00751329632326332\n",
      "\n"
     ]
    },
    {
     "data": {
      "application/vnd.jupyter.widget-view+json": {
       "model_id": "b85a77782d3d42e78ca15dc4b62d3a4e",
       "version_major": 2,
       "version_minor": 0
      },
      "text/plain": [
       "HBox(children=(IntProgress(value=0, max=60000), HTML(value='')))"
      ]
     },
     "metadata": {},
     "output_type": "display_data"
    },
    {
     "name": "stdout",
     "output_type": "stream",
     "text": [
      "\n"
     ]
    },
    {
     "data": {
      "application/vnd.jupyter.widget-view+json": {
       "model_id": "cf6cd355bd114fb980c03a6e4e37b8aa",
       "version_major": 2,
       "version_minor": 0
      },
      "text/plain": [
       "HBox(children=(IntProgress(value=0, max=10), HTML(value='')))"
      ]
     },
     "metadata": {},
     "output_type": "display_data"
    },
    {
     "name": "stdout",
     "output_type": "stream",
     "text": [
      "0.007310683033069174\n",
      "\n"
     ]
    },
    {
     "data": {
      "application/vnd.jupyter.widget-view+json": {
       "model_id": "c06b08f675ef40709c3c3752aeb13548",
       "version_major": 2,
       "version_minor": 0
      },
      "text/plain": [
       "HBox(children=(IntProgress(value=0, max=60000), HTML(value='')))"
      ]
     },
     "metadata": {},
     "output_type": "display_data"
    },
    {
     "name": "stdout",
     "output_type": "stream",
     "text": [
      "\n"
     ]
    },
    {
     "data": {
      "application/vnd.jupyter.widget-view+json": {
       "model_id": "0a1f1119cc00443d83677976824aca17",
       "version_major": 2,
       "version_minor": 0
      },
      "text/plain": [
       "HBox(children=(IntProgress(value=0, max=10), HTML(value='')))"
      ]
     },
     "metadata": {},
     "output_type": "display_data"
    },
    {
     "name": "stdout",
     "output_type": "stream",
     "text": [
      "0.007141023334946896\n",
      "\n"
     ]
    },
    {
     "data": {
      "application/vnd.jupyter.widget-view+json": {
       "model_id": "82b5d293ed7f49cdb98a33c5d75855b6",
       "version_major": 2,
       "version_minor": 0
      },
      "text/plain": [
       "HBox(children=(IntProgress(value=0, max=60000), HTML(value='')))"
      ]
     },
     "metadata": {},
     "output_type": "display_data"
    },
    {
     "name": "stdout",
     "output_type": "stream",
     "text": [
      "\n"
     ]
    },
    {
     "data": {
      "application/vnd.jupyter.widget-view+json": {
       "model_id": "66e5d176da28410bb2d71b40781f81d8",
       "version_major": 2,
       "version_minor": 0
      },
      "text/plain": [
       "HBox(children=(IntProgress(value=0, max=10), HTML(value='')))"
      ]
     },
     "metadata": {},
     "output_type": "display_data"
    },
    {
     "name": "stdout",
     "output_type": "stream",
     "text": [
      "0.007028091490021577\n",
      "\n"
     ]
    },
    {
     "data": {
      "application/vnd.jupyter.widget-view+json": {
       "model_id": "47519ed9d0db450282ec4346f9215fd8",
       "version_major": 2,
       "version_minor": 0
      },
      "text/plain": [
       "HBox(children=(IntProgress(value=0, max=60000), HTML(value='')))"
      ]
     },
     "metadata": {},
     "output_type": "display_data"
    },
    {
     "name": "stdout",
     "output_type": "stream",
     "text": [
      "\n"
     ]
    },
    {
     "data": {
      "application/vnd.jupyter.widget-view+json": {
       "model_id": "fd25f2243c6a4016b4b074e7cfe88434",
       "version_major": 2,
       "version_minor": 0
      },
      "text/plain": [
       "HBox(children=(IntProgress(value=0, max=10), HTML(value='')))"
      ]
     },
     "metadata": {},
     "output_type": "display_data"
    },
    {
     "name": "stdout",
     "output_type": "stream",
     "text": [
      "0.006981863708501603\n",
      "\n"
     ]
    },
    {
     "data": {
      "application/vnd.jupyter.widget-view+json": {
       "model_id": "0e8c84046eb148668a4df9a15f7c076a",
       "version_major": 2,
       "version_minor": 0
      },
      "text/plain": [
       "HBox(children=(IntProgress(value=0, max=60000), HTML(value='')))"
      ]
     },
     "metadata": {},
     "output_type": "display_data"
    },
    {
     "name": "stdout",
     "output_type": "stream",
     "text": [
      "\n"
     ]
    },
    {
     "data": {
      "application/vnd.jupyter.widget-view+json": {
       "model_id": "41b9338e01d94c9286de493bb1995dc6",
       "version_major": 2,
       "version_minor": 0
      },
      "text/plain": [
       "HBox(children=(IntProgress(value=0, max=10), HTML(value='')))"
      ]
     },
     "metadata": {},
     "output_type": "display_data"
    },
    {
     "name": "stdout",
     "output_type": "stream",
     "text": [
      "0.006997353650713018\n",
      "\n"
     ]
    },
    {
     "data": {
      "application/vnd.jupyter.widget-view+json": {
       "model_id": "bb144d809879419e96ee35d0570c6b90",
       "version_major": 2,
       "version_minor": 0
      },
      "text/plain": [
       "HBox(children=(IntProgress(value=0, max=60000), HTML(value='')))"
      ]
     },
     "metadata": {},
     "output_type": "display_data"
    },
    {
     "name": "stdout",
     "output_type": "stream",
     "text": [
      "\n"
     ]
    },
    {
     "data": {
      "application/vnd.jupyter.widget-view+json": {
       "model_id": "b4306adfe67942c2b08e5472df408cf3",
       "version_major": 2,
       "version_minor": 0
      },
      "text/plain": [
       "HBox(children=(IntProgress(value=0, max=10), HTML(value='')))"
      ]
     },
     "metadata": {},
     "output_type": "display_data"
    },
    {
     "name": "stdout",
     "output_type": "stream",
     "text": [
      "0.007049871977334805\n",
      "\n"
     ]
    },
    {
     "data": {
      "application/vnd.jupyter.widget-view+json": {
       "model_id": "d405875b7c5844388095862cda3bf095",
       "version_major": 2,
       "version_minor": 0
      },
      "text/plain": [
       "HBox(children=(IntProgress(value=0, max=60000), HTML(value='')))"
      ]
     },
     "metadata": {},
     "output_type": "display_data"
    },
    {
     "name": "stdout",
     "output_type": "stream",
     "text": [
      "\n"
     ]
    },
    {
     "data": {
      "application/vnd.jupyter.widget-view+json": {
       "model_id": "f1232a634ff84168970bb7ca7738af9c",
       "version_major": 2,
       "version_minor": 0
      },
      "text/plain": [
       "HBox(children=(IntProgress(value=0, max=10), HTML(value='')))"
      ]
     },
     "metadata": {},
     "output_type": "display_data"
    },
    {
     "name": "stdout",
     "output_type": "stream",
     "text": [
      "0.007098070088044218\n",
      "\n"
     ]
    },
    {
     "data": {
      "application/vnd.jupyter.widget-view+json": {
       "model_id": "734b7ab9d2f84aa4894148a0caef5814",
       "version_major": 2,
       "version_minor": 0
      },
      "text/plain": [
       "HBox(children=(IntProgress(value=0, max=60000), HTML(value='')))"
      ]
     },
     "metadata": {},
     "output_type": "display_data"
    },
    {
     "name": "stdout",
     "output_type": "stream",
     "text": [
      "\n"
     ]
    },
    {
     "data": {
      "application/vnd.jupyter.widget-view+json": {
       "model_id": "f092efc421d14eacb9d9008b1dd2f936",
       "version_major": 2,
       "version_minor": 0
      },
      "text/plain": [
       "HBox(children=(IntProgress(value=0, max=10), HTML(value='')))"
      ]
     },
     "metadata": {},
     "output_type": "display_data"
    },
    {
     "name": "stdout",
     "output_type": "stream",
     "text": [
      "0.007123029311223163\n",
      "\n"
     ]
    },
    {
     "data": {
      "application/vnd.jupyter.widget-view+json": {
       "model_id": "aa9f503337574e2497272f6808428c50",
       "version_major": 2,
       "version_minor": 0
      },
      "text/plain": [
       "HBox(children=(IntProgress(value=0, max=60000), HTML(value='')))"
      ]
     },
     "metadata": {},
     "output_type": "display_data"
    },
    {
     "name": "stdout",
     "output_type": "stream",
     "text": [
      "\n"
     ]
    },
    {
     "data": {
      "application/vnd.jupyter.widget-view+json": {
       "model_id": "6c9469fd3b76465d9e0f30241f03c098",
       "version_major": 2,
       "version_minor": 0
      },
      "text/plain": [
       "HBox(children=(IntProgress(value=0, max=10), HTML(value='')))"
      ]
     },
     "metadata": {},
     "output_type": "display_data"
    },
    {
     "name": "stdout",
     "output_type": "stream",
     "text": [
      "0.0071162916621864275\n",
      "\n"
     ]
    },
    {
     "data": {
      "application/vnd.jupyter.widget-view+json": {
       "model_id": "9d377d51955e4efb9adceb40f8bcca1a",
       "version_major": 2,
       "version_minor": 0
      },
      "text/plain": [
       "HBox(children=(IntProgress(value=0, max=60000), HTML(value='')))"
      ]
     },
     "metadata": {},
     "output_type": "display_data"
    },
    {
     "name": "stdout",
     "output_type": "stream",
     "text": [
      "\n"
     ]
    },
    {
     "data": {
      "application/vnd.jupyter.widget-view+json": {
       "model_id": "44cfdb90e17f484c9eb6dbc0239a1782",
       "version_major": 2,
       "version_minor": 0
      },
      "text/plain": [
       "HBox(children=(IntProgress(value=0, max=10), HTML(value='')))"
      ]
     },
     "metadata": {},
     "output_type": "display_data"
    },
    {
     "name": "stdout",
     "output_type": "stream",
     "text": [
      "0.0070633169518354326\n",
      "\n"
     ]
    },
    {
     "data": {
      "application/vnd.jupyter.widget-view+json": {
       "model_id": "4095836515144762b98fb8196976c0ff",
       "version_major": 2,
       "version_minor": 0
      },
      "text/plain": [
       "HBox(children=(IntProgress(value=0, max=60000), HTML(value='')))"
      ]
     },
     "metadata": {},
     "output_type": "display_data"
    },
    {
     "name": "stdout",
     "output_type": "stream",
     "text": [
      "\n"
     ]
    },
    {
     "data": {
      "application/vnd.jupyter.widget-view+json": {
       "model_id": "206f5b4c1a5849139096c5229b551e1f",
       "version_major": 2,
       "version_minor": 0
      },
      "text/plain": [
       "HBox(children=(IntProgress(value=0, max=10), HTML(value='')))"
      ]
     },
     "metadata": {},
     "output_type": "display_data"
    },
    {
     "name": "stdout",
     "output_type": "stream",
     "text": [
      "0.006953423217483521\n",
      "\n"
     ]
    },
    {
     "data": {
      "application/vnd.jupyter.widget-view+json": {
       "model_id": "eb02a8f4cf564a5e8e9a391f39b98745",
       "version_major": 2,
       "version_minor": 0
      },
      "text/plain": [
       "HBox(children=(IntProgress(value=0, max=60000), HTML(value='')))"
      ]
     },
     "metadata": {},
     "output_type": "display_data"
    },
    {
     "name": "stdout",
     "output_type": "stream",
     "text": [
      "\n"
     ]
    },
    {
     "data": {
      "application/vnd.jupyter.widget-view+json": {
       "model_id": "c4b2e6bd08054d65bb3f69891e31a6c9",
       "version_major": 2,
       "version_minor": 0
      },
      "text/plain": [
       "HBox(children=(IntProgress(value=0, max=10), HTML(value='')))"
      ]
     },
     "metadata": {},
     "output_type": "display_data"
    },
    {
     "name": "stdout",
     "output_type": "stream",
     "text": [
      "0.006783476996813323\n",
      "\n"
     ]
    },
    {
     "data": {
      "application/vnd.jupyter.widget-view+json": {
       "model_id": "f0f291522c67424689fcb696ae6be29f",
       "version_major": 2,
       "version_minor": 0
      },
      "text/plain": [
       "HBox(children=(IntProgress(value=0, max=60000), HTML(value='')))"
      ]
     },
     "metadata": {},
     "output_type": "display_data"
    },
    {
     "name": "stdout",
     "output_type": "stream",
     "text": [
      "\n"
     ]
    },
    {
     "data": {
      "application/vnd.jupyter.widget-view+json": {
       "model_id": "fe045936918348efbea3af3bd06a13ae",
       "version_major": 2,
       "version_minor": 0
      },
      "text/plain": [
       "HBox(children=(IntProgress(value=0, max=10), HTML(value='')))"
      ]
     },
     "metadata": {},
     "output_type": "display_data"
    },
    {
     "name": "stdout",
     "output_type": "stream",
     "text": [
      "0.0065640457360261785\n",
      "\n"
     ]
    },
    {
     "data": {
      "application/vnd.jupyter.widget-view+json": {
       "model_id": "f604f2e23830470195b4013281053b35",
       "version_major": 2,
       "version_minor": 0
      },
      "text/plain": [
       "HBox(children=(IntProgress(value=0, max=60000), HTML(value='')))"
      ]
     },
     "metadata": {},
     "output_type": "display_data"
    },
    {
     "name": "stdout",
     "output_type": "stream",
     "text": [
      "\n"
     ]
    },
    {
     "data": {
      "application/vnd.jupyter.widget-view+json": {
       "model_id": "7ec63ccb036a4f6babefd859bc47be41",
       "version_major": 2,
       "version_minor": 0
      },
      "text/plain": [
       "HBox(children=(IntProgress(value=0, max=10), HTML(value='')))"
      ]
     },
     "metadata": {},
     "output_type": "display_data"
    },
    {
     "name": "stdout",
     "output_type": "stream",
     "text": [
      "0.006473711988444342\n",
      "\n"
     ]
    },
    {
     "data": {
      "application/vnd.jupyter.widget-view+json": {
       "model_id": "9f1ff5e0461647729e27bab68137fc19",
       "version_major": 2,
       "version_minor": 0
      },
      "text/plain": [
       "HBox(children=(IntProgress(value=0, max=60000), HTML(value='')))"
      ]
     },
     "metadata": {},
     "output_type": "display_data"
    },
    {
     "name": "stdout",
     "output_type": "stream",
     "text": [
      "\n"
     ]
    },
    {
     "data": {
      "application/vnd.jupyter.widget-view+json": {
       "model_id": "b2852e97826a46eba84d2bfd237c0382",
       "version_major": 2,
       "version_minor": 0
      },
      "text/plain": [
       "HBox(children=(IntProgress(value=0, max=10), HTML(value='')))"
      ]
     },
     "metadata": {},
     "output_type": "display_data"
    },
    {
     "name": "stdout",
     "output_type": "stream",
     "text": [
      "0.006046719766957037\n",
      "\n"
     ]
    },
    {
     "data": {
      "application/vnd.jupyter.widget-view+json": {
       "model_id": "b54c4163280e40ddb51d53432ae21ccd",
       "version_major": 2,
       "version_minor": 0
      },
      "text/plain": [
       "HBox(children=(IntProgress(value=0, max=60000), HTML(value='')))"
      ]
     },
     "metadata": {},
     "output_type": "display_data"
    },
    {
     "name": "stdout",
     "output_type": "stream",
     "text": [
      "\n"
     ]
    },
    {
     "data": {
      "application/vnd.jupyter.widget-view+json": {
       "model_id": "506d9d41a39d44bc9ad8f1039aa6c570",
       "version_major": 2,
       "version_minor": 0
      },
      "text/plain": [
       "HBox(children=(IntProgress(value=0, max=10), HTML(value='')))"
      ]
     },
     "metadata": {},
     "output_type": "display_data"
    },
    {
     "name": "stdout",
     "output_type": "stream",
     "text": [
      "0.005634716291807656\n",
      "\n"
     ]
    },
    {
     "data": {
      "application/vnd.jupyter.widget-view+json": {
       "model_id": "cb3306f00fc84fb3b4832fd92ddcae7a",
       "version_major": 2,
       "version_minor": 0
      },
      "text/plain": [
       "HBox(children=(IntProgress(value=0, max=60000), HTML(value='')))"
      ]
     },
     "metadata": {},
     "output_type": "display_data"
    },
    {
     "name": "stdout",
     "output_type": "stream",
     "text": [
      "\n"
     ]
    },
    {
     "data": {
      "application/vnd.jupyter.widget-view+json": {
       "model_id": "9412eccb3ec14a229993c76647f0e698",
       "version_major": 2,
       "version_minor": 0
      },
      "text/plain": [
       "HBox(children=(IntProgress(value=0, max=10), HTML(value='')))"
      ]
     },
     "metadata": {},
     "output_type": "display_data"
    },
    {
     "name": "stdout",
     "output_type": "stream",
     "text": [
      "0.005198782447873531\n",
      "\n"
     ]
    },
    {
     "data": {
      "application/vnd.jupyter.widget-view+json": {
       "model_id": "e33af502a0cb4ab69b6ed0b41256dd94",
       "version_major": 2,
       "version_minor": 0
      },
      "text/plain": [
       "HBox(children=(IntProgress(value=0, max=60000), HTML(value='')))"
      ]
     },
     "metadata": {},
     "output_type": "display_data"
    },
    {
     "name": "stdout",
     "output_type": "stream",
     "text": [
      "\n"
     ]
    },
    {
     "data": {
      "application/vnd.jupyter.widget-view+json": {
       "model_id": "274e445e874c4997a6b9921d656cea82",
       "version_major": 2,
       "version_minor": 0
      },
      "text/plain": [
       "HBox(children=(IntProgress(value=0, max=10), HTML(value='')))"
      ]
     },
     "metadata": {},
     "output_type": "display_data"
    },
    {
     "name": "stdout",
     "output_type": "stream",
     "text": [
      "0.0047480644082287275\n",
      "\n"
     ]
    },
    {
     "data": {
      "application/vnd.jupyter.widget-view+json": {
       "model_id": "bf52518e5ff24c3dafbef9b2ba13aa65",
       "version_major": 2,
       "version_minor": 0
      },
      "text/plain": [
       "HBox(children=(IntProgress(value=0, max=60000), HTML(value='')))"
      ]
     },
     "metadata": {},
     "output_type": "display_data"
    },
    {
     "name": "stdout",
     "output_type": "stream",
     "text": [
      "\n"
     ]
    },
    {
     "data": {
      "application/vnd.jupyter.widget-view+json": {
       "model_id": "a5ca864ed4bd4aeb8f2cc2ba15ed637a",
       "version_major": 2,
       "version_minor": 0
      },
      "text/plain": [
       "HBox(children=(IntProgress(value=0, max=10), HTML(value='')))"
      ]
     },
     "metadata": {},
     "output_type": "display_data"
    },
    {
     "name": "stdout",
     "output_type": "stream",
     "text": [
      "0.004298134228997266\n",
      "\n"
     ]
    },
    {
     "data": {
      "application/vnd.jupyter.widget-view+json": {
       "model_id": "e96110a146d24c79b6e9e9f9a817c947",
       "version_major": 2,
       "version_minor": 0
      },
      "text/plain": [
       "HBox(children=(IntProgress(value=0, max=60000), HTML(value='')))"
      ]
     },
     "metadata": {},
     "output_type": "display_data"
    },
    {
     "name": "stdout",
     "output_type": "stream",
     "text": [
      "\n"
     ]
    },
    {
     "data": {
      "application/vnd.jupyter.widget-view+json": {
       "model_id": "9275683683e647b882dfb302916fbdf0",
       "version_major": 2,
       "version_minor": 0
      },
      "text/plain": [
       "HBox(children=(IntProgress(value=0, max=10), HTML(value='')))"
      ]
     },
     "metadata": {},
     "output_type": "display_data"
    },
    {
     "name": "stdout",
     "output_type": "stream",
     "text": [
      "0.0038671425187720423\n",
      "\n"
     ]
    },
    {
     "data": {
      "application/vnd.jupyter.widget-view+json": {
       "model_id": "4ef0156d3bdb4ea0a3589a00bff39457",
       "version_major": 2,
       "version_minor": 0
      },
      "text/plain": [
       "HBox(children=(IntProgress(value=0, max=60000), HTML(value='')))"
      ]
     },
     "metadata": {},
     "output_type": "display_data"
    },
    {
     "name": "stdout",
     "output_type": "stream",
     "text": [
      "\n"
     ]
    },
    {
     "data": {
      "application/vnd.jupyter.widget-view+json": {
       "model_id": "a8781425f8fd43bcb60444be47a94be8",
       "version_major": 2,
       "version_minor": 0
      },
      "text/plain": [
       "HBox(children=(IntProgress(value=0, max=10), HTML(value='')))"
      ]
     },
     "metadata": {},
     "output_type": "display_data"
    },
    {
     "name": "stdout",
     "output_type": "stream",
     "text": [
      "0.0034669605168538113\n",
      "\n"
     ]
    },
    {
     "data": {
      "application/vnd.jupyter.widget-view+json": {
       "model_id": "a561c60e10ba49ef83677424a6463bef",
       "version_major": 2,
       "version_minor": 0
      },
      "text/plain": [
       "HBox(children=(IntProgress(value=0, max=60000), HTML(value='')))"
      ]
     },
     "metadata": {},
     "output_type": "display_data"
    },
    {
     "name": "stdout",
     "output_type": "stream",
     "text": [
      "\n"
     ]
    },
    {
     "data": {
      "application/vnd.jupyter.widget-view+json": {
       "model_id": "1eaecf1eee094450bf0d529a22eefc40",
       "version_major": 2,
       "version_minor": 0
      },
      "text/plain": [
       "HBox(children=(IntProgress(value=0, max=10), HTML(value='')))"
      ]
     },
     "metadata": {},
     "output_type": "display_data"
    },
    {
     "name": "stdout",
     "output_type": "stream",
     "text": [
      "0.003102673130627031\n",
      "\n"
     ]
    },
    {
     "data": {
      "application/vnd.jupyter.widget-view+json": {
       "model_id": "7443ff60a14740dda1ff0b9685edf98c",
       "version_major": 2,
       "version_minor": 0
      },
      "text/plain": [
       "HBox(children=(IntProgress(value=0, max=60000), HTML(value='')))"
      ]
     },
     "metadata": {},
     "output_type": "display_data"
    },
    {
     "name": "stdout",
     "output_type": "stream",
     "text": [
      "\n"
     ]
    },
    {
     "data": {
      "application/vnd.jupyter.widget-view+json": {
       "model_id": "c5657161e3934225a427d5e9fdc2610b",
       "version_major": 2,
       "version_minor": 0
      },
      "text/plain": [
       "HBox(children=(IntProgress(value=0, max=10), HTML(value='')))"
      ]
     },
     "metadata": {},
     "output_type": "display_data"
    },
    {
     "name": "stdout",
     "output_type": "stream",
     "text": [
      "0.002775271032163038\n",
      "\n"
     ]
    },
    {
     "data": {
      "application/vnd.jupyter.widget-view+json": {
       "model_id": "9225f493c3a04d8fa0125b5b5977d4f2",
       "version_major": 2,
       "version_minor": 0
      },
      "text/plain": [
       "HBox(children=(IntProgress(value=0, max=60000), HTML(value='')))"
      ]
     },
     "metadata": {},
     "output_type": "display_data"
    },
    {
     "name": "stdout",
     "output_type": "stream",
     "text": [
      "\n"
     ]
    },
    {
     "data": {
      "application/vnd.jupyter.widget-view+json": {
       "model_id": "6170cafc8e8f44d0b5cc45bb4f8bb600",
       "version_major": 2,
       "version_minor": 0
      },
      "text/plain": [
       "HBox(children=(IntProgress(value=0, max=10), HTML(value='')))"
      ]
     },
     "metadata": {},
     "output_type": "display_data"
    },
    {
     "name": "stdout",
     "output_type": "stream",
     "text": [
      "0.0024835590196581026\n",
      "\n"
     ]
    },
    {
     "data": {
      "application/vnd.jupyter.widget-view+json": {
       "model_id": "6277eaa08ef047e0b33f8bf48d22ab79",
       "version_major": 2,
       "version_minor": 0
      },
      "text/plain": [
       "HBox(children=(IntProgress(value=0, max=60000), HTML(value='')))"
      ]
     },
     "metadata": {},
     "output_type": "display_data"
    },
    {
     "name": "stdout",
     "output_type": "stream",
     "text": [
      "\n"
     ]
    },
    {
     "data": {
      "application/vnd.jupyter.widget-view+json": {
       "model_id": "4d75810da45c45a5904b4cc84fa4d7f7",
       "version_major": 2,
       "version_minor": 0
      },
      "text/plain": [
       "HBox(children=(IntProgress(value=0, max=10), HTML(value='')))"
      ]
     },
     "metadata": {},
     "output_type": "display_data"
    },
    {
     "name": "stdout",
     "output_type": "stream",
     "text": [
      "0.0022253086953990483\n",
      "\n"
     ]
    },
    {
     "data": {
      "application/vnd.jupyter.widget-view+json": {
       "model_id": "3f8278a3dbe44ad28978b3b91858bafc",
       "version_major": 2,
       "version_minor": 0
      },
      "text/plain": [
       "HBox(children=(IntProgress(value=0, max=60000), HTML(value='')))"
      ]
     },
     "metadata": {},
     "output_type": "display_data"
    },
    {
     "name": "stdout",
     "output_type": "stream",
     "text": [
      "\n"
     ]
    },
    {
     "data": {
      "application/vnd.jupyter.widget-view+json": {
       "model_id": "84637e0ff0b940faa096a9e7538ab975",
       "version_major": 2,
       "version_minor": 0
      },
      "text/plain": [
       "HBox(children=(IntProgress(value=0, max=10), HTML(value='')))"
      ]
     },
     "metadata": {},
     "output_type": "display_data"
    },
    {
     "name": "stdout",
     "output_type": "stream",
     "text": [
      "0.001997980164328339\n",
      "\n"
     ]
    },
    {
     "data": {
      "application/vnd.jupyter.widget-view+json": {
       "model_id": "ab4f89601c204730ad8da6c9b2c5ebb4",
       "version_major": 2,
       "version_minor": 0
      },
      "text/plain": [
       "HBox(children=(IntProgress(value=0, max=60000), HTML(value='')))"
      ]
     },
     "metadata": {},
     "output_type": "display_data"
    },
    {
     "name": "stdout",
     "output_type": "stream",
     "text": [
      "\n"
     ]
    },
    {
     "data": {
      "application/vnd.jupyter.widget-view+json": {
       "model_id": "0688432403d046d5b190f656f40d3894",
       "version_major": 2,
       "version_minor": 0
      },
      "text/plain": [
       "HBox(children=(IntProgress(value=0, max=10), HTML(value='')))"
      ]
     },
     "metadata": {},
     "output_type": "display_data"
    },
    {
     "name": "stdout",
     "output_type": "stream",
     "text": [
      "0.0017991756577878674\n",
      "\n"
     ]
    },
    {
     "data": {
      "application/vnd.jupyter.widget-view+json": {
       "model_id": "8404fdf86c6f47e3ad40ffe33b918569",
       "version_major": 2,
       "version_minor": 0
      },
      "text/plain": [
       "HBox(children=(IntProgress(value=0, max=60000), HTML(value='')))"
      ]
     },
     "metadata": {},
     "output_type": "display_data"
    },
    {
     "name": "stdout",
     "output_type": "stream",
     "text": [
      "\n"
     ]
    },
    {
     "data": {
      "application/vnd.jupyter.widget-view+json": {
       "model_id": "d297c240060647f4b6003bc343526f8a",
       "version_major": 2,
       "version_minor": 0
      },
      "text/plain": [
       "HBox(children=(IntProgress(value=0, max=10), HTML(value='')))"
      ]
     },
     "metadata": {},
     "output_type": "display_data"
    },
    {
     "name": "stdout",
     "output_type": "stream",
     "text": [
      "0.0016269395171545854\n",
      "\n"
     ]
    },
    {
     "data": {
      "application/vnd.jupyter.widget-view+json": {
       "model_id": "5d11f461da8d4f3ab4b13b23ac459dbf",
       "version_major": 2,
       "version_minor": 0
      },
      "text/plain": [
       "HBox(children=(IntProgress(value=0, max=60000), HTML(value='')))"
      ]
     },
     "metadata": {},
     "output_type": "display_data"
    },
    {
     "name": "stdout",
     "output_type": "stream",
     "text": [
      "\n"
     ]
    },
    {
     "data": {
      "application/vnd.jupyter.widget-view+json": {
       "model_id": "097f0f69a7af43b1923082427407dea7",
       "version_major": 2,
       "version_minor": 0
      },
      "text/plain": [
       "HBox(children=(IntProgress(value=0, max=10), HTML(value='')))"
      ]
     },
     "metadata": {},
     "output_type": "display_data"
    },
    {
     "name": "stdout",
     "output_type": "stream",
     "text": [
      "0.0014799741038355474\n",
      "\n"
     ]
    },
    {
     "data": {
      "application/vnd.jupyter.widget-view+json": {
       "model_id": "3e680341cd6a436aa789fc8f43235ea2",
=======
   "execution_count": null,
   "metadata": {},
   "outputs": [
    {
     "data": {
      "application/vnd.jupyter.widget-view+json": {
       "model_id": "2f0e44094bd14344a765558f1bb8378e",
>>>>>>> 7d3acfb81e3049b404ab37118874607489051b98
       "version_major": 2,
       "version_minor": 0
      },
      "text/plain": [
       "HBox(children=(IntProgress(value=0, max=60000), HTML(value='')))"
      ]
     },
     "metadata": {},
     "output_type": "display_data"
<<<<<<< HEAD
    },
    {
     "name": "stdout",
     "output_type": "stream",
     "text": [
      "\n"
     ]
    },
    {
     "data": {
      "application/vnd.jupyter.widget-view+json": {
       "model_id": "4a9a49afdc3741bfa5982bb53cf2e8ab",
=======
    }
   ],
   "source": [
    "mu, pi, r = EM(X, mu, pi, r)"
   ]
  },
  {
   "cell_type": "code",
   "execution_count": 14,
   "metadata": {},
   "outputs": [
    {
     "data": {
      "application/vnd.jupyter.widget-view+json": {
       "model_id": "ae57810c0a934bf88c03319a19ffdac4",
>>>>>>> 7d3acfb81e3049b404ab37118874607489051b98
       "version_major": 2,
       "version_minor": 0
      },
      "text/plain": [
<<<<<<< HEAD
       "HBox(children=(IntProgress(value=0, max=10), HTML(value='')))"
=======
       "HBox(children=(IntProgress(value=0, max=1000), HTML(value='')))"
>>>>>>> 7d3acfb81e3049b404ab37118874607489051b98
      ]
     },
     "metadata": {},
     "output_type": "display_data"
<<<<<<< HEAD
    },
    {
     "name": "stdout",
     "output_type": "stream",
     "text": [
      "0.0013577385073864194\n",
      "\n"
     ]
    }
   ],
   "source": [
    "mu, pi, r = EM(X, mu, pi, r)"
   ]
  },
  {
   "cell_type": "code",
   "execution_count": null,
   "metadata": {},
   "outputs": [],
   "source": [
=======
    }
   ],
   "source": [
>>>>>>> 7d3acfb81e3049b404ab37118874607489051b98
    "y_pred = EM_inference(X, mu, pi)"
   ]
  },
  {
   "cell_type": "code",
<<<<<<< HEAD
   "execution_count": null,
   "metadata": {},
   "outputs": [],
=======
   "execution_count": 16,
   "metadata": {},
   "outputs": [
    {
     "name": "stdout",
     "output_type": "stream",
     "text": [
      "y_real [97, 116, 99, 93, 105, 92, 94, 117, 87, 100]\n",
      "y_pred [289, 2, 2, 1, 158, 87, 80, 58, 284, 39]\n",
      "Confusion Matrix\n",
      "[[  7   6  51  25  41  34   6  43  49  27]\n",
      " [  0   0   0   0   0   2   0   0   0   0]\n",
      " [  0   0   0   0   0   0   0   2   0   0]\n",
      " [  0   0   0   1   0   0   0   0   0   0]\n",
      " [ 41   0  11   2  37   8   7  25   7  20]\n",
      " [  3   1  16  34   1  18   1   0  11   2]\n",
      " [  3   0   4   0   3   1  68   1   0   0]\n",
      " [  4   0   0  22   0  24   3   0   4   1]\n",
      " [  0 109  17   9  23   5   9  46  16  50]\n",
      " [ 39   0   0   0   0   0   0   0   0   0]]\n"
     ]
    }
   ],
>>>>>>> 7d3acfb81e3049b404ab37118874607489051b98
   "source": [
    "from sklearn.metrics import confusion_matrix\n",
    "\n",
    "count_y = [np.count_nonzero(Y == i) for i in range(10)]\n",
    "count_y_pred = [np.count_nonzero(y_pred == i) for i in range(num_cluster)]\n",
<<<<<<< HEAD
    "print(count_y)\n",
    "print(count_y_pred)\n",
    "\n",
=======
    "print('y_real', count_y)\n",
    "print('y_pred', count_y_pred)\n",
    "print('Confusion Matrix')\n",
>>>>>>> 7d3acfb81e3049b404ab37118874607489051b98
    "print(confusion_matrix(y_pred, Y))"
   ]
  },
  {
   "cell_type": "code",
<<<<<<< HEAD
   "execution_count": null,
   "metadata": {},
   "outputs": [],
=======
   "execution_count": 17,
   "metadata": {},
   "outputs": [
    {
     "name": "stdout",
     "output_type": "stream",
     "text": [
      "(1000, 10)\n",
      "(10, 784)\n"
     ]
    }
   ],
>>>>>>> 7d3acfb81e3049b404ab37118874607489051b98
   "source": [
    "print(r.shape)\n",
    "print(mu.shape)"
   ]
  },
  {
   "cell_type": "code",
<<<<<<< HEAD
   "execution_count": null,
=======
   "execution_count": 18,
>>>>>>> 7d3acfb81e3049b404ab37118874607489051b98
   "metadata": {},
   "outputs": [],
   "source": [
    "# print(Nk)\n",
    "# print(Nk.sum())\n",
    "# print(Nk/Nk.sum())"
   ]
  },
  {
   "cell_type": "code",
<<<<<<< HEAD
   "execution_count": null,
   "metadata": {},
   "outputs": [],
=======
   "execution_count": 11,
   "metadata": {},
   "outputs": [
    {
     "name": "stdout",
     "output_type": "stream",
     "text": [
      "1.0\n",
      "0.0\n"
     ]
    }
   ],
>>>>>>> 7d3acfb81e3049b404ab37118874607489051b98
   "source": [
    "print(mu.max())\n",
    "print(mu.min())"
   ]
  },
  {
   "cell_type": "code",
<<<<<<< HEAD
   "execution_count": null,
   "metadata": {},
   "outputs": [],
=======
   "execution_count": 12,
   "metadata": {},
   "outputs": [
    {
     "data": {
      "image/png": "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\n",
      "text/plain": [
       "<Figure size 432x288 with 10 Axes>"
      ]
     },
     "metadata": {},
     "output_type": "display_data"
    }
   ],
>>>>>>> 7d3acfb81e3049b404ab37118874607489051b98
   "source": [
    "for i in range(num_cluster):\n",
    "    plt.subplot(2,5,i+1)\n",
    "    p = mu[i].reshape((28,28))\n",
    "    plt.imshow(p, cmap='gray'), plt.xticks([]), plt.yticks([])\n",
    "plt.show()"
   ]
  },
  {
   "cell_type": "code",
   "execution_count": null,
   "metadata": {},
   "outputs": [],
   "source": []
  }
 ],
 "metadata": {
  "kernelspec": {
   "display_name": "Python 3",
   "language": "python",
   "name": "python3"
  },
  "language_info": {
   "codemirror_mode": {
    "name": "ipython",
    "version": 3
   },
   "file_extension": ".py",
   "mimetype": "text/x-python",
   "name": "python",
   "nbconvert_exporter": "python",
   "pygments_lexer": "ipython3",
   "version": "3.6.0"
  }
 },
 "nbformat": 4,
 "nbformat_minor": 2
}
