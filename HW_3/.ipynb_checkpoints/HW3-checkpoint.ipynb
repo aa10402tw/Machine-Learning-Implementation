{
 "cells": [
  {
   "cell_type": "code",
   "execution_count": 1,
   "metadata": {},
   "outputs": [
    {
     "name": "stdout",
     "output_type": "stream",
     "text": [
      "[[1.5]\n",
      " [1. ]]\n",
      "Posterior\n",
      "[[0.81632974]\n",
      " [1.05884663]]\n",
      "[[ 0.52227563 -0.02536424]\n",
      " [-0.02536424  0.02888111]]\n"
     ]
    }
   ],
   "source": [
    "from numpy.linalg import inv\n",
    "import numpy as np\n",
    "import matplotlib.pyplot as plt\n",
    "def x2phi(x, num_basis):\n",
    "    phi = np.array([[x**d for d in range(num_basis)]]).reshape(num_basis,1)\n",
    "    return phi\n",
    "\n",
    "#############\n",
    "##   MAP   ##\n",
    "#############\n",
    "\n",
    "# Ground Truth  y = 0.5x\n",
    "w_gt = [1.5, 1.0]\n",
    "num_basis = len(w_gt)\n",
    "w_gt = np.array(w_gt, ndmin=2).reshape(num_basis, 1)\n",
    "data_var = 10 \n",
    "print(w_gt)\n",
    "\n",
    "# prior \n",
    "a = 1/data_var     # a: guess 1/var of y\n",
    "b = 1              # b: guess 1/var of weight\n",
    "mu_prior = np.array( [[0.0 for x in range(num_basis)] ] ).T\n",
    "lambda_prior = np.identity(num_basis) * b\n",
    "\n",
    "mu_history = []\n",
    "var_history = []\n",
    "\n",
    "points_xs = []\n",
    "points_ys = []\n",
    "for i in range(10):\n",
    "    # data \n",
    "    x = np.asscalar(np.random.uniform(-10,10,1))\n",
    "    points_xs.append(x)\n",
    "    phi = x2phi(x, num_basis)\n",
    "    y = np.matmul(w_gt.T, phi) + np.asscalar(np.random.normal(0, data_var**(1/2), 1))\n",
    "    points_ys.append(y)\n",
    "    \n",
    "    # posterior\n",
    "    lambda_posterior = a * np.matmul(phi, phi.T) + lambda_prior\n",
    "    mu_posterior = np.matmul(inv(lambda_posterior),  a*np.matmul(phi, y) + np.matmul(lambda_prior, mu_prior))\n",
    "\n",
    "    # update prior\n",
    "    mu_prior = mu_posterior\n",
    "    lambda_prior = lambda_posterior\n",
    "    \n",
    "# print(\"Posterior\")\n",
    "# print(mu_posterior)\n",
    "# print(inv(lambda_posterior))"
   ]
  },
  {
   "cell_type": "code",
   "execution_count": 2,
   "metadata": {},
   "outputs": [
    {
     "data": {
      "image/png": "[encoded data removed]",
      "text/plain": [
       "<Figure size 432x288 with 1 Axes>"
      ]
     },
     "metadata": {},
     "output_type": "display_data"
    }
   ],
   "source": [
    "##################################\n",
    "##   Predictive Distribution    ##\n",
    "##################################\n",
    "def pred_distribution(mu, phi, a, lambda_):\n",
    "    mu_pred  = np.matmul(mu.T, phi)\n",
    "    var_pred = (1/a) + np.matmul(np.matmul(phi.T, inv(lambda_)), phi)\n",
    "    return np.asscalar(mu_pred), np.asscalar(var_pred)\n",
    "\n",
    "def plot_pred(mu_posterior, phi, a, lambda_posterior)\n",
    "    mu_pred, var_pred = pred_distribution(mu_posterior, phi, a, lambda_posterior)\n",
    "    xs = np.linspace(-10, 10, 100)\n",
    "    ys_mu = []\n",
    "    ys_std_up = []\n",
    "    ys_std_down = []\n",
    "    for x in xs:\n",
    "        phi = x2phi(x, num_basis)\n",
    "        mu_pred, var_pred = pred_distribution(mu_posterior, phi, a, lambda_posterior)\n",
    "        ys_mu.append(mu_pred)\n",
    "        ys_std_up.append(mu_pred+var_pred)\n",
    "        ys_std_down.append(mu_pred-var_pred)\n",
    "    plt.scatter(points_xs, points_ys)\n",
    "    plt.plot(xs, ys_mu)\n",
    "    plt.plot(xs, ys_std_up, alpha=0.5)\n",
    "    plt.plot(xs, ys_std_down, alpha=0.5)\n",
    "    plt.show()"
   ]
  },
  {
   "cell_type": "code",
   "execution_count": null,
   "metadata": {},
   "outputs": [],
   "source": []
  }
 ],
 "metadata": {
  "kernelspec": {
   "display_name": "Python 3",
   "language": "python",
   "name": "python3"
  },
  "language_info": {
   "codemirror_mode": {
    "name": "ipython",
    "version": 3
   },
   "file_extension": ".py",
   "mimetype": "text/x-python",
   "name": "python",
   "nbconvert_exporter": "python",
   "pygments_lexer": "ipython3",
   "version": "3.6.0"
  }
 },
 "nbformat": 4,
 "nbformat_minor": 2
}
