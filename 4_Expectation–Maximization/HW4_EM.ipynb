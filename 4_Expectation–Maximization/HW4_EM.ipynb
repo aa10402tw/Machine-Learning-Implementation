{
 "cells": [
  {
   "cell_type": "code",
   "execution_count": 1,
   "metadata": {},
   "outputs": [],
   "source": [
    "from numpy.linalg import inv\n",
    "import numpy as np\n",
    "import matplotlib.pyplot as plt\n",
    "import math\n",
    "from math import e\n",
    "from math import log\n",
    "from numpy import linalg\n",
    "import sys\n",
    "import sympy\n",
    "from sympy import *\n",
    "from IPython.display import display, HTML\n",
    "import random\n",
    "from math import log\n",
    "from math import exp\n",
    "\n",
    "%matplotlib inline\n",
    "%config IPCompleter.greedy=True\n",
    "sympy.init_printing(use_unicode=False, wrap_line=True)\n",
    "np.set_printoptions(suppress=True)\n",
    "\n",
    "from utils import *"
   ]
  },
  {
   "cell_type": "code",
   "execution_count": 2,
   "metadata": {},
   "outputs": [
    {
     "name": "stdout",
     "output_type": "stream",
     "text": [
      "Load Data... Finish!\n"
     ]
    }
   ],
   "source": [
    "# Load mnist data\n",
    "print('Load Data...', end=' ')\n",
    "imgs_train, labels_train = load_mnist(train=True)\n",
    "imgs_test, labels_test = load_mnist(train=False)\n",
    "\n",
    "# Change Image to Feature Vector\n",
    "X_train, Y_train = img_to_vector(imgs_train), labels_train\n",
    "X_test, Y_test = img_to_vector(imgs_test), labels_test\n",
    "\n",
    "print('Finish!')"
   ]
  },
  {
   "cell_type": "code",
   "execution_count": 3,
   "metadata": {},
   "outputs": [
    {
     "name": "stdout",
     "output_type": "stream",
     "text": [
      "(60000, 784)\n",
      "255.0\n"
     ]
    }
   ],
   "source": [
    "print(X_train.shape)\n",
    "print(max(X_train[0]))"
   ]
  },
  {
   "cell_type": "code",
   "execution_count": 4,
   "metadata": {},
   "outputs": [],
   "source": [
    "# E-Step : Compute the probabilities of cluster assignment (r_ik)\n",
    "# M-step : Update parameters mu, pi givn r \n",
    "\n",
    "# X = [[x_11...x_1d], ..., [x_n1...x_nd]] where x_ij = 0/1 (success/fail)\n",
    "# mu : [mu_1...mu_k] where mu_i is the vector of prob of success for cluster k , mu_i's shape = (1, D)\n",
    "# pi : [pi_1 ... pi_k] where pi_i is the prob to draw cluster k\n",
    "# r_iK : the prob(expectation) that Xi belong to cluster k\n",
    "# Zi : [z_i1, ..., z_ik] binary k=dim data(assign to cluster k)"
   ]
  },
  {
   "cell_type": "markdown",
   "metadata": {},
   "source": [
    "![title](formula.PNG)"
   ]
  },
  {
   "cell_type": "code",
   "execution_count": 5,
   "metadata": {},
   "outputs": [
    {
     "name": "stdout",
     "output_type": "stream",
     "text": [
      "255.0\n",
      "0.0\n"
     ]
    }
   ],
   "source": [
    "num_cluster = 10\n",
    "K = num_cluster\n",
    "X = np.copy(X_test)[:]\n",
    "Y = np.copy(Y_test)[:]\n",
    "N, D = X.shape\n",
    "# init parameters mu & pi\n",
    "mu = np.random.random((K, D))\n",
    "pi = np.random.random((K, 1)) \n",
    "pi = pi / pi.sum()\n",
    "r = np.zeros((N,K))\n",
    "print(X.max())\n",
    "print(X.min())"
   ]
  },
  {
   "cell_type": "code",
   "execution_count": 6,
   "metadata": {},
   "outputs": [
    {
     "name": "stdout",
     "output_type": "stream",
     "text": [
      "1.0\n",
      "0.0\n"
     ]
    }
   ],
   "source": [
    "# 0~255 to 0 or 1\n",
    "X[X<128.0] = 0\n",
    "X[X>=128.0] = 1\n",
    "print(X.max())\n",
    "print(X.min())"
   ]
  },
  {
   "cell_type": "code",
   "execution_count": 10,
   "metadata": {
    "code_folding": [
     3,
     9,
     60
    ]
   },
   "outputs": [],
   "source": [
    "from numpy import prod\n",
    "from tqdm.notebook import tqdm\n",
    "import time\n",
    "def L2distance(A,B):\n",
    "    A = A.reshape(prod(A.shape))\n",
    "    B = B.reshape(prod(B.shape))\n",
    "    dis = math.sqrt(np.dot(A-B, A-B))\n",
    "    return dis\n",
    "\n",
    "def EM(X, mu, pi, r, max_iter=10):\n",
    "    \n",
    "    N, D = X.shape\n",
    "    K, _ = mu.shape\n",
    "    \n",
    "    new_mu = np.copy(mu)\n",
    "    \n",
    "    \n",
    "    for it in range(max_iter):\n",
    "        # E-Step : Compute the probabilities of cluster assignment (r_ik)\n",
    "        pbar = tqdm(total=N, unit='instance') # for progress bar\n",
    "        pbar.set_description('E-Step(iteration %d)' % (it)) # for progress bar\n",
    "        for i in range(N):\n",
    "            for k in range(K):\n",
    "                r[i][k] = log(pi[k]) # Log scale\n",
    "                for d in range(D):\n",
    "                    xid = X[i][d]\n",
    "                    try:\n",
    "                        r[i][k] += log((mu[k][d]**xid) * ((1-mu[k][d])**(1-xid))+1e-7)\n",
    "                    except:\n",
    "                        print('domain error')\n",
    "                        print(mu[k][d], xid)\n",
    "                        print((mu[k][d]**xid) * ((1-mu[k][d])**(1-xid)))\n",
    "            r[i] -= r[i].max()\n",
    "            r[i] = np.exp(r[i]) # Exp, back to origin scale\n",
    "            r[i] = r[i] / r[i].sum() # normalize to 1 \n",
    "            \n",
    "            pbar.update() # for progress bar\n",
    "        Nk = r.sum(axis=0)  # prob to draw k-th cluster\n",
    "        pi = Nk/Nk.sum()\n",
    "        pbar.close() # for progress bar\n",
    "        time.sleep(1) # for progress bar\n",
    "        # M-step : Update parameters mu, pi givn r \n",
    "        pbar = tqdm(total=K, unit='cluster') # for progress bar\n",
    "        pbar.set_description('M-Step(iteration %d)' % (it)) # for progress bar\n",
    "        for k in range(K):\n",
    "            mu_k = 0\n",
    "            for i in range(N):\n",
    "                mu_k += r[i][k] * X[i]\n",
    "            new_mu[k] = mu_k / Nk[k]\n",
    "            pbar.update() # for progress bar\n",
    "        diff = L2distance(new_mu, mu)\n",
    "        print('L2 Distance Between old & new mu : ', diff ) \n",
    "        mu = np.copy(new_mu)\n",
    "        if diff < 1e-5:\n",
    "            print('converge after %d iteration'%(it))\n",
    "            break\n",
    "        pbar.close() # for progress bar\n",
    "        time.sleep(1) # for progress bar\n",
    "    return mu, pi, r\n",
    "\n",
    "def EM_inference(X, mu, pi):\n",
    "    N, D = X.shape\n",
    "    K, _ = mu.shape\n",
    "    y_pred = np.zeros((N,))\n",
    "    pbar = tqdm(total=N, unit='instance') # for progress bar\n",
    "    #pbar.set_description('E-Step(iteration %d)' % (it)) # for progress bar\n",
    "    for i in range(N):\n",
    "        for k in range(K):\n",
    "            r[i][k] = log(pi[k]) # Log scale\n",
    "            for d in range(D):\n",
    "                xid = X[i][d]\n",
    "                try:\n",
    "                    r[i][k] += log((mu[k][d]**xid) * ((1-mu[k][d])**(1-xid))+1e-7)\n",
    "                except:\n",
    "                    print('domain error')\n",
    "                    print(mu[k][d], xid)\n",
    "                    print((mu[k][d]**xid) * ((1-mu[k][d])**(1-xid)))\n",
    "#         print(r[i])\n",
    "        y_pred[i] = np.argmax(r[i]) \n",
    "        pbar.update() # for progress bar\n",
    "    pbar.close() # for progress bar\n",
    "    time.sleep(1) # for progress bar\n",
    "    return y_pred"
   ]
  },
  {
   "cell_type": "code",
   "execution_count": 8,
   "metadata": {},
   "outputs": [
    {
     "data": {
      "application/vnd.jupyter.widget-view+json": {
       "model_id": "fa8e259258b5437ba68e0eb543b930b1",
       "version_major": 2,
       "version_minor": 0
      },
      "text/plain": [
       "HBox(children=(FloatProgress(value=0.0, max=10000.0), HTML(value='')))"
      ]
     },
     "metadata": {},
     "output_type": "display_data"
    },
    {
     "name": "stdout",
     "output_type": "stream",
     "text": [
      "\n"
     ]
    },
    {
     "data": {
      "application/vnd.jupyter.widget-view+json": {
       "model_id": "5b38296639cf46e8b86ef0036ec62066",
       "version_major": 2,
       "version_minor": 0
      },
      "text/plain": [
       "HBox(children=(FloatProgress(value=0.0, max=10.0), HTML(value='')))"
      ]
     },
     "metadata": {},
     "output_type": "display_data"
    },
    {
     "name": "stdout",
     "output_type": "stream",
     "text": [
      "L2 Distance Between old & new mu :  44.692915891122276\n",
      "\n"
     ]
    },
    {
     "data": {
      "application/vnd.jupyter.widget-view+json": {
       "model_id": "16bb864130cb409d9ab197a965a44d5b",
       "version_major": 2,
       "version_minor": 0
      },
      "text/plain": [
       "HBox(children=(FloatProgress(value=0.0, max=10000.0), HTML(value='')))"
      ]
     },
     "metadata": {},
     "output_type": "display_data"
    },
    {
     "name": "stdout",
     "output_type": "stream",
     "text": [
      "\n"
     ]
    },
    {
     "data": {
      "application/vnd.jupyter.widget-view+json": {
       "model_id": "baef55c610bb44dfad22d9f86a34e50d",
       "version_major": 2,
       "version_minor": 0
      },
      "text/plain": [
       "HBox(children=(FloatProgress(value=0.0, max=10.0), HTML(value='')))"
      ]
     },
     "metadata": {},
     "output_type": "display_data"
    },
    {
     "name": "stdout",
     "output_type": "stream",
     "text": [
      "L2 Distance Between old & new mu :  5.696065477978344\n",
      "\n"
     ]
    },
    {
     "data": {
      "application/vnd.jupyter.widget-view+json": {
       "model_id": "e94d6574cc6648f4ac1a6320e365dc79",
       "version_major": 2,
       "version_minor": 0
      },
      "text/plain": [
       "HBox(children=(FloatProgress(value=0.0, max=10000.0), HTML(value='')))"
      ]
     },
     "metadata": {},
     "output_type": "display_data"
    },
    {
     "name": "stdout",
     "output_type": "stream",
     "text": [
      "\n"
     ]
    },
    {
     "data": {
      "application/vnd.jupyter.widget-view+json": {
       "model_id": "3eed366663494f21afbb62248b2ef9b9",
       "version_major": 2,
       "version_minor": 0
      },
      "text/plain": [
       "HBox(children=(FloatProgress(value=0.0, max=10.0), HTML(value='')))"
      ]
     },
     "metadata": {},
     "output_type": "display_data"
    },
    {
     "name": "stdout",
     "output_type": "stream",
     "text": [
      "L2 Distance Between old & new mu :  2.97879043014088\n",
      "\n"
     ]
    },
    {
     "data": {
      "application/vnd.jupyter.widget-view+json": {
       "model_id": "a3e211abacb14ebca0d6ccf61d3c0cfa",
       "version_major": 2,
       "version_minor": 0
      },
      "text/plain": [
       "HBox(children=(FloatProgress(value=0.0, max=10000.0), HTML(value='')))"
      ]
     },
     "metadata": {},
     "output_type": "display_data"
    },
    {
     "name": "stdout",
     "output_type": "stream",
     "text": [
      "\n"
     ]
    },
    {
     "data": {
      "application/vnd.jupyter.widget-view+json": {
       "model_id": "48ec5d38ac64476387f2ab3d94e753ce",
       "version_major": 2,
       "version_minor": 0
      },
      "text/plain": [
       "HBox(children=(FloatProgress(value=0.0, max=10.0), HTML(value='')))"
      ]
     },
     "metadata": {},
     "output_type": "display_data"
    },
    {
     "name": "stdout",
     "output_type": "stream",
     "text": [
      "L2 Distance Between old & new mu :  2.3994810586294792\n",
      "\n"
     ]
    },
    {
     "data": {
      "application/vnd.jupyter.widget-view+json": {
       "model_id": "0e689b99c11a4647b542b82f4688a272",
       "version_major": 2,
       "version_minor": 0
      },
      "text/plain": [
       "HBox(children=(FloatProgress(value=0.0, max=10000.0), HTML(value='')))"
      ]
     },
     "metadata": {},
     "output_type": "display_data"
    },
    {
     "name": "stdout",
     "output_type": "stream",
     "text": [
      "\n"
     ]
    },
    {
     "data": {
      "application/vnd.jupyter.widget-view+json": {
       "model_id": "34d1aa54d5614f898a0ce1c8beeb80aa",
       "version_major": 2,
       "version_minor": 0
      },
      "text/plain": [
       "HBox(children=(FloatProgress(value=0.0, max=10.0), HTML(value='')))"
      ]
     },
     "metadata": {},
     "output_type": "display_data"
    },
    {
     "name": "stdout",
     "output_type": "stream",
     "text": [
      "L2 Distance Between old & new mu :  2.1101584086237617\n",
      "\n"
     ]
    },
    {
     "data": {
      "application/vnd.jupyter.widget-view+json": {
       "model_id": "bb4ac2935cdd4b0f8dded40154b3b06d",
       "version_major": 2,
       "version_minor": 0
      },
      "text/plain": [
       "HBox(children=(FloatProgress(value=0.0, max=10000.0), HTML(value='')))"
      ]
     },
     "metadata": {},
     "output_type": "display_data"
    },
    {
     "name": "stdout",
     "output_type": "stream",
     "text": [
      "\n"
     ]
    },
    {
     "data": {
      "application/vnd.jupyter.widget-view+json": {
       "model_id": "9f79e04d73f943aeaa52f2052dc553e9",
       "version_major": 2,
       "version_minor": 0
      },
      "text/plain": [
       "HBox(children=(FloatProgress(value=0.0, max=10.0), HTML(value='')))"
      ]
     },
     "metadata": {},
     "output_type": "display_data"
    },
    {
     "name": "stdout",
     "output_type": "stream",
     "text": [
      "L2 Distance Between old & new mu :  1.5936834822856467\n",
      "\n"
     ]
    },
    {
     "data": {
      "application/vnd.jupyter.widget-view+json": {
       "model_id": "00a30e3720e9462394d5b8820ecd772b",
       "version_major": 2,
       "version_minor": 0
      },
      "text/plain": [
       "HBox(children=(FloatProgress(value=0.0, max=10000.0), HTML(value='')))"
      ]
     },
     "metadata": {},
     "output_type": "display_data"
    },
    {
     "name": "stdout",
     "output_type": "stream",
     "text": [
      "\n"
     ]
    },
    {
     "data": {
      "application/vnd.jupyter.widget-view+json": {
       "model_id": "ff01faaaaa0047e6a806a6fb495a9291",
       "version_major": 2,
       "version_minor": 0
      },
      "text/plain": [
       "HBox(children=(FloatProgress(value=0.0, max=10.0), HTML(value='')))"
      ]
     },
     "metadata": {},
     "output_type": "display_data"
    },
    {
     "name": "stdout",
     "output_type": "stream",
     "text": [
      "L2 Distance Between old & new mu :  1.2630096012722465\n",
      "\n"
     ]
    },
    {
     "data": {
      "application/vnd.jupyter.widget-view+json": {
       "model_id": "c19c5c6772e34541b6ce154eb0ed42f1",
       "version_major": 2,
       "version_minor": 0
      },
      "text/plain": [
       "HBox(children=(FloatProgress(value=0.0, max=10000.0), HTML(value='')))"
      ]
     },
     "metadata": {},
     "output_type": "display_data"
    },
    {
     "name": "stdout",
     "output_type": "stream",
     "text": [
      "\n"
     ]
    },
    {
     "data": {
      "application/vnd.jupyter.widget-view+json": {
       "model_id": "1a5aeaccc37546b2999aac5a6cff37e3",
       "version_major": 2,
       "version_minor": 0
      },
      "text/plain": [
       "HBox(children=(FloatProgress(value=0.0, max=10.0), HTML(value='')))"
      ]
     },
     "metadata": {},
     "output_type": "display_data"
    },
    {
     "name": "stdout",
     "output_type": "stream",
     "text": [
      "L2 Distance Between old & new mu :  1.0973134378187792\n",
      "\n"
     ]
    },
    {
     "data": {
      "application/vnd.jupyter.widget-view+json": {
       "model_id": "7ed86890d6a54564b510253538494aa7",
       "version_major": 2,
       "version_minor": 0
      },
      "text/plain": [
       "HBox(children=(FloatProgress(value=0.0, max=10000.0), HTML(value='')))"
      ]
     },
     "metadata": {},
     "output_type": "display_data"
    },
    {
     "name": "stdout",
     "output_type": "stream",
     "text": [
      "\n"
     ]
    },
    {
     "data": {
      "application/vnd.jupyter.widget-view+json": {
       "model_id": "3c7e267f284d43459baf11302b86804d",
       "version_major": 2,
       "version_minor": 0
      },
      "text/plain": [
       "HBox(children=(FloatProgress(value=0.0, max=10.0), HTML(value='')))"
      ]
     },
     "metadata": {},
     "output_type": "display_data"
    },
    {
     "name": "stdout",
     "output_type": "stream",
     "text": [
      "L2 Distance Between old & new mu :  1.091828312120765\n",
      "\n"
     ]
    },
    {
     "data": {
      "application/vnd.jupyter.widget-view+json": {
       "model_id": "e91dd61364ed4c2b9b10b1cfef5833de",
       "version_major": 2,
       "version_minor": 0
      },
      "text/plain": [
       "HBox(children=(FloatProgress(value=0.0, max=10000.0), HTML(value='')))"
      ]
     },
     "metadata": {},
     "output_type": "display_data"
    },
    {
     "name": "stdout",
     "output_type": "stream",
     "text": [
      "\n"
     ]
    },
    {
     "data": {
      "application/vnd.jupyter.widget-view+json": {
       "model_id": "0504ce0ddc184165806a204a424fd56c",
       "version_major": 2,
       "version_minor": 0
      },
      "text/plain": [
       "HBox(children=(FloatProgress(value=0.0, max=10.0), HTML(value='')))"
      ]
     },
     "metadata": {},
     "output_type": "display_data"
    },
    {
     "name": "stdout",
     "output_type": "stream",
     "text": [
      "L2 Distance Between old & new mu :  0.8907076691176837\n",
      "\n"
     ]
    }
   ],
   "source": [
    "mu, pi, r = EM(X, mu, pi, r)"
   ]
  },
  {
   "cell_type": "code",
   "execution_count": 11,
   "metadata": {},
   "outputs": [
    {
     "data": {
      "application/vnd.jupyter.widget-view+json": {
       "model_id": "e0d4dbbcc4d64621a17dd2244fd9dae9",
       "version_major": 2,
       "version_minor": 0
      },
      "text/plain": [
       "HBox(children=(FloatProgress(value=0.0, max=10000.0), HTML(value='')))"
      ]
     },
     "metadata": {},
     "output_type": "display_data"
    },
    {
     "name": "stdout",
     "output_type": "stream",
     "text": [
      "\n"
     ]
    }
   ],
   "source": [
    "y_pred = EM_inference(X, mu, pi)"
   ]
  },
  {
   "cell_type": "code",
   "execution_count": 12,
   "metadata": {},
   "outputs": [
    {
     "name": "stdout",
     "output_type": "stream",
     "text": [
      "[980, 1135, 1032, 1010, 982, 892, 958, 1028, 974, 1009]\n",
      "[1260, 1533, 851, 1, 1112, 1736, 1596, 1, 854, 1056]\n",
      "[[ 101    1   35  646    0  346   28    0   96    7]\n",
      " [   1   18   12   33  440   26    5  420   14  564]\n",
      " [  16    4   22    3   20    8  770    1    6    1]\n",
      " [   0    0    0    0    0    0    0    0    0    1]\n",
      " [  26    6  148  232    7  179    4    9  488   13]\n",
      " [  17    0    9   21  368  211    2  528  230  350]\n",
      " [   2 1104   72   48   23   93   63   55  114   22]\n",
      " [   0    0    0    0    0    0    1    0    0    0]\n",
      " [ 806    0   10    2    1    9   13    1    5    7]\n",
      " [  11    2  724   25  123   20   72   14   21   44]]\n"
     ]
    }
   ],
   "source": [
    "from sklearn.metrics import confusion_matrix\n",
    "\n",
    "count_y = [np.count_nonzero(Y == i) for i in range(10)]\n",
    "count_y_pred = [np.count_nonzero(y_pred == i) for i in range(num_cluster)]\n",
    "print(count_y)\n",
    "print(count_y_pred)\n",
    "\n",
    "print(confusion_matrix(y_pred, Y))"
   ]
  },
  {
   "cell_type": "code",
   "execution_count": 13,
   "metadata": {},
   "outputs": [
    {
     "name": "stdout",
     "output_type": "stream",
     "text": [
      "(10000, 10)\n",
      "(10, 784)\n"
     ]
    }
   ],
   "source": [
    "print(r.shape)\n",
    "print(mu.shape)"
   ]
  },
  {
   "cell_type": "code",
   "execution_count": 14,
   "metadata": {},
   "outputs": [],
   "source": [
    "# print(Nk)\n",
    "# print(Nk.sum())\n",
    "# print(Nk/Nk.sum())"
   ]
  },
  {
   "cell_type": "code",
   "execution_count": 15,
   "metadata": {},
   "outputs": [
    {
     "name": "stdout",
     "output_type": "stream",
     "text": [
      "1.0\n",
      "0.0\n"
     ]
    }
   ],
   "source": [
    "print(mu.max())\n",
    "print(mu.min())"
   ]
  },
  {
   "cell_type": "code",
   "execution_count": 16,
   "metadata": {},
   "outputs": [
    {
     "data": {
      "image/png": "[encoded data removed]",
      "text/plain": [
       "<Figure size 432x288 with 10 Axes>"
      ]
     },
     "metadata": {},
     "output_type": "display_data"
    }
   ],
   "source": [
    "for i in range(num_cluster):\n",
    "    plt.subplot(2,5,i+1)\n",
    "    p = mu[i].reshape((28,28))\n",
    "    plt.imshow(p, cmap='gray'), plt.xticks([]), plt.yticks([])\n",
    "plt.show()"
   ]
  },
  {
   "cell_type": "code",
   "execution_count": null,
   "metadata": {},
   "outputs": [],
   "source": []
  }
 ],
 "metadata": {
  "kernelspec": {
   "display_name": "Python 3",
   "language": "python",
   "name": "python3"
  },
  "language_info": {
   "codemirror_mode": {
    "name": "ipython",
    "version": 3
   },
   "file_extension": ".py",
   "mimetype": "text/x-python",
   "name": "python",
   "nbconvert_exporter": "python",
   "pygments_lexer": "ipython3",
   "version": "3.8.3"
  }
 },
 "nbformat": 4,
 "nbformat_minor": 2
}
